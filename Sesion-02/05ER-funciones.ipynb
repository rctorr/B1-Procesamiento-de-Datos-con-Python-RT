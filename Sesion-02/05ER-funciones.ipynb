{
 "cells": [
  {
   "cell_type": "markdown",
   "metadata": {},
   "source": [
    "## Ejemplo 5: Funciones\n",
    "\n",
    "### 1. Objetivos:\n",
    "    - Entender la sintaxis de las funciones\n",
    "    - Aprender cómo pasarle parámetros a las funciones\n",
    "    - Entender cómo aprovechar los valores que regresa el `return`\n",
    "    - Entender el concepto de `contexto` y cómo las variables definidas dentro de la función sólo pueden ser accedidas dentro de la función\n",
    " \n",
    "---\n",
    "    \n",
    "### 2. Desarrollo:"
   ]
  },
  {
   "cell_type": "markdown",
   "metadata": {},
   "source": [
    "Queremos hacer funciones porque queremos evitar repetir código en nuestro programa. En vez de escribir 10 veces el mismo proceso en diferentes lugares de nuestro código, podemos escribir una función que contenga ese proceso y simplemente usarla en los 10 lugares donde suceda ese proceso."
   ]
  },
  {
   "cell_type": "markdown",
   "metadata": {},
   "source": [
    "#### Sintaxis\n",
    "\n",
    "Una función se ve así:"
   ]
  },
  {
   "cell_type": "code",
   "execution_count": 1,
   "metadata": {},
   "outputs": [],
   "source": [
    "def area_de_un_circulo(radio):\n",
    "    pi = 3.14159\n",
    "    area = pi * radio ** 2\n",
    "    \n",
    "    return area"
   ]
  },
  {
   "cell_type": "markdown",
   "metadata": {},
   "source": [
    "Es muy importante notar lo siguiente:\n",
    "\n",
    "1. La declaración comienza con la palabra `def`.\n",
    "2. El nombre de la función sigue las mismas convenciones de nombramiento que las variables.\n",
    "3. Los `parámetros` de la función van dentro del paréntesis.\n",
    "4. Hay unos `dos puntos (:)` después del paréntesis que indican el inicio del bloque de la función\n",
    "5. El bloque de la función deben de estar indentados (similar a lo usado con la instrucción `if`).\n",
    "6. Las funciones pueden tener una sentencia `return` que regresa el resultado de nuestro proceso para que pueda ser utilizado en otras partes de nuestro programa, recuerda que lo que pasa dentro de la función, se queda o se muere con la función a menos que se use un return."
   ]
  },
  {
   "cell_type": "markdown",
   "metadata": {},
   "source": [
    "Cuando se crea o se define una función, ésta no se ejecuta, así que para ejecutarla hay que usarla o llamarla usando el nombre de la función y colocándo los valores que necesita entre paréntesis (los parámetros), por ejemplo vamos a calcular el área de un círculo de radio 50:"
   ]
  },
  {
   "cell_type": "code",
   "execution_count": null,
   "metadata": {},
   "outputs": [],
   "source": [
    "..."
   ]
  },
  {
   "cell_type": "markdown",
   "metadata": {},
   "source": [
    "Y que tal si el radio ahora es 100:"
   ]
  },
  {
   "cell_type": "code",
   "execution_count": null,
   "metadata": {},
   "outputs": [],
   "source": [
    "..."
   ]
  },
  {
   "cell_type": "markdown",
   "metadata": {},
   "source": [
    "Podemos definir más de un parámetro por función (en realidad el número es ilimitado), pero la mejor práctica es mantener el número de parámetros lo más pequeño posible. Entre menos parámetros usemos, mejor está pensada nuestra función.\n",
    "\n",
    "Veamos una función con dos parámetros, el primero debe ser una lista de números y el segundo será un número, entonces la función agrega el número a la lista sólo si el número es par."
   ]
  },
  {
   "cell_type": "code",
   "execution_count": 6,
   "metadata": {},
   "outputs": [
    {
     "name": "stdout",
     "output_type": "stream",
     "text": [
      "[2, 34, 26, 88, 4]\n",
      "[2, 34, 26, 88, 4]\n"
     ]
    }
   ],
   "source": [
    "def agregar_numero_par(lista, numero):\n",
    "    \"\"\" Agrega a la lista de enteros el valor de numero sólo si es par \"\"\"\n",
    "\n",
    "    # Condición para saber si el valor de numero es par\n",
    "    # Si condición verdadera agregar numero a lista\n",
    "    pass\n",
    "\n",
    "lista_de_ints = [2, 34, 26, 88, 4]\n",
    "\n",
    "agregar_numero_par(lista_de_ints, 5)\n",
    "print(lista_de_ints)\n",
    "agregar_numero_par(lista_de_ints, 64)\n",
    "print(lista_de_ints)"
   ]
  },
  {
   "cell_type": "markdown",
   "metadata": {},
   "source": [
    "#### Return\n",
    "\n",
    "El valor que regresa nuestro `return` lo podemos guardar en otra variable para usarlo en el futuro o podemos imprimirlo directamente usando un `print` (aunque es recomendable mejor primero asignarlo a una variable y después imprimir la variable), por ejemplo vamos a crear la función `entre_50_y_60(valor)` que regrese verdadero si `valor` está entre el intervalo `[50, 60]` (incluyendo los límites). "
   ]
  },
  {
   "cell_type": "code",
   "execution_count": 9,
   "metadata": {},
   "outputs": [],
   "source": [
    "def entre_50_y_60(valor):\n",
    "    \"\"\" ... \"\"\"\n",
    "    # Definir el camino para regresar verdadero o True\n",
    "    # Definir el camino para regresar False\n",
    "    pass\n",
    "\n",
    "valor_1 = 58\n",
    "resultado = entre_50_y_60(valor_1)\n",
    "if resultado == True:\n",
    "    print(f\"{valor_1} está entre 50 y 60\")\n",
    "\n",
    "valor_2 = 89\n",
    "if entre_50_y_60(valor_2) == True:\n",
    "    print(f\"{valor_2} está entre 50 y 60\")\n",
    "\n",
    "valor_3 = 43\n",
    "if entre_50_y_60(valor_3):\n",
    "    print(f\"{valor_3} está entre 50 y 60\")\n"
   ]
  },
  {
   "cell_type": "markdown",
   "metadata": {},
   "source": [
    "#### Contexto de una variable\n",
    "\n",
    "Para terminar, es importante recordar algo que vimos en el Prework: Las variables definidas dentro de una función (ya sean parámetros o variables asignadas dentro de la función) **sólo pueden ser accedidas dentro de la función**. Una vez que la función termina, las variables desaparecen y no son accesibles desde ninguna parte de nuestro código.\n",
    "\n",
    "Es por eso que el código siguiente lanza un error:"
   ]
  },
  {
   "cell_type": "code",
   "execution_count": 12,
   "metadata": {},
   "outputs": [
    {
     "name": "stdout",
     "output_type": "stream",
     "text": [
      "None\n"
     ]
    },
    {
     "ename": "NameError",
     "evalue": "name 'area' is not defined",
     "output_type": "error",
     "traceback": [
      "\u001b[0;31m---------------------------------------------------------------------------\u001b[0m",
      "\u001b[0;31mNameError\u001b[0m                                 Traceback (most recent call last)",
      "\u001b[0;32m<ipython-input-12-c366c196b07a>\u001b[0m in \u001b[0;36m<module>\u001b[0;34m\u001b[0m\n\u001b[1;32m      6\u001b[0m \u001b[0;34m\u001b[0m\u001b[0m\n\u001b[1;32m      7\u001b[0m \u001b[0mprint\u001b[0m\u001b[0;34m(\u001b[0m\u001b[0mresultado\u001b[0m\u001b[0;34m)\u001b[0m\u001b[0;34m\u001b[0m\u001b[0;34m\u001b[0m\u001b[0m\n\u001b[0;32m----> 8\u001b[0;31m \u001b[0mprint\u001b[0m\u001b[0;34m(\u001b[0m\u001b[0marea\u001b[0m\u001b[0;34m)\u001b[0m\u001b[0;34m\u001b[0m\u001b[0;34m\u001b[0m\u001b[0m\n\u001b[0m",
      "\u001b[0;31mNameError\u001b[0m: name 'area' is not defined"
     ]
    }
   ],
   "source": [
    "def area_de_un_circulo(radio):\n",
    "    pi = 3.14159\n",
    "    area = pi * radio ** 2\n",
    "    \n",
    "resultado = area_de_un_circulo(10)\n",
    "\n",
    "print(resultado)\n",
    "print(area)"
   ]
  },
  {
   "cell_type": "markdown",
   "metadata": {},
   "source": [
    "Pasemos ahora a lo emocionante. Vamos a definir unas cuantas funciones para dominar esta nueva herramienta tan útil.\n",
    "\n",
    "---"
   ]
  },
  {
   "cell_type": "markdown",
   "metadata": {},
   "source": [
    "## Reto 5: Funciones\n",
    "\n",
    "### 1. Objetivos:\n",
    "    - Practicar la declaración de funciones\n",
    "    - Practicar la definición de parámetros y su uso dentro de la función\n",
    "    - Practicar el uso de los valores retornados por una función\n",
    "    - Practicar el uso de funciones para evitar la repetición de código\n",
    " \n",
    "### 2. Desarrollo:"
   ]
  },
  {
   "cell_type": "markdown",
   "metadata": {},
   "source": [
    "#### a) Función `numero_es_par`\n",
    "\n",
    "Debajo tienes una función incompleta:"
   ]
  },
  {
   "cell_type": "code",
   "execution_count": 33,
   "metadata": {},
   "outputs": [],
   "source": [
    "def numero_es_par(numero):\n",
    "    \n",
    "    # Tu código va aquí\n",
    "    # ...\n",
    "    # ...\n",
    "    \n",
    "    pass"
   ]
  },
  {
   "cell_type": "markdown",
   "metadata": {},
   "source": [
    "Dicha función debería de tomar un parámetro `numero`, checar si el número es par, regresar `True` si el número es par y regresar `False` si el número no es par.\n",
    "\n",
    "Completa la función para que el código de abajo (que realiza `tests` de la función) regrese todos los `resultados esperados`."
   ]
  },
  {
   "cell_type": "code",
   "execution_count": 34,
   "metadata": {},
   "outputs": [
    {
     "name": "stdout",
     "output_type": "stream",
     "text": [
      "== Tests numero_es_par() ==\n",
      "\n",
      "Test 0: Para el número 2 el resultado esperado es `True`, obtuvimos `None`\n",
      "Test 1: Para el número 3 el resultado esperado es `False`, obtuvimos `None`\n",
      "Test 2: Para el número 0 el resultado esperado es `True`, obtuvimos `None`\n",
      "Test 3: Para el número 127 el resultado esperado es `False`, obtuvimos `None`\n",
      "Test 4: Para el número -88 el resultado esperado es `True`, obtuvimos `None`\n",
      "Test 5: Para el número -1349 el resultado esperado es `False`, obtuvimos `None`\n",
      "\n",
      "Errores encontrados: 6\n"
     ]
    }
   ],
   "source": [
    "print(\"== Tests numero_es_par() ==\\n\")\n",
    "\n",
    "errores = 0\n",
    "tests = [(2, True), (3, False), (0, True), (127, False), (-88, True), (-1349, False)]\n",
    "for i, (param, result) in enumerate(tests):\n",
    "    resultado_test = numero_es_par(param)\n",
    "    print(f'Test {i}: Para el número {param} el resultado esperado es `{result}`, obtuvimos `{resultado_test}`')\n",
    "    errores += resultado_test != result\n",
    "\n",
    "print(f'\\nErrores encontrados: {errores}')"
   ]
  },
  {
   "cell_type": "markdown",
   "metadata": {},
   "source": [
    "#### b) Reutilización de código\n",
    "\n",
    "Debajo tenemos algo de código."
   ]
  },
  {
   "cell_type": "code",
   "execution_count": 35,
   "metadata": {},
   "outputs": [
    {
     "name": "stdout",
     "output_type": "stream",
     "text": [
      "34 es el 34.0% del número 100\n",
      "\n",
      "57 es el 44.881889763779526% del número 127\n",
      "\n",
      "12 es el 5.2631578947368425% del número 228\n",
      "\n",
      "87 es el 96.66666666666667% del número 90\n",
      "\n",
      "1 es el 0.1001001001001001% del número 999\n",
      "\n",
      "66 es el 100.0% del número 66\n",
      "\n"
     ]
    }
   ],
   "source": [
    "resultado_1 = 34 * 100 / 100\n",
    "print(f'34 es el {resultado_1}% del número 100\\n')\n",
    "\n",
    "resultado_2 = 57 * 100 / 127\n",
    "print(f'57 es el {resultado_2}% del número 127\\n')\n",
    "\n",
    "resultado_3 = 12 * 100 / 228\n",
    "print(f'12 es el {resultado_3}% del número 228\\n')\n",
    "\n",
    "resultado_4 = 87 * 100 / 90\n",
    "print(f'87 es el {resultado_4}% del número 90\\n')\n",
    "\n",
    "resultado_5 = 1 * 100 / 999\n",
    "print(f'1 es el {resultado_5}% del número 999\\n')\n",
    "\n",
    "resultado_6 = 66 * 100 / 66\n",
    "print(f'66 es el {resultado_6}% del número 66\\n')"
   ]
  },
  {
   "cell_type": "markdown",
   "metadata": {},
   "source": [
    "Este código funciona correctamente, pero como puedes ver, estamos escribiendo el mismo código una y otra vez. En la celda debajo, escribe una función que realice todo el código que se repite para que podamos reusarla múltiples veces para obtener los resultados que queremos."
   ]
  },
  {
   "cell_type": "code",
   "execution_count": null,
   "metadata": {},
   "outputs": [],
   "source": [
    "## Tu función va aquí\n",
    "# ...\n",
    "# ...\n",
    "\n",
    "# usa tu función con los parámetros 34 y 100\n",
    "\n",
    "# usa tu función con los parámetros 57 y 127\n",
    "\n",
    "# usa tu función con los parámetros 12 y 228\n",
    "\n",
    "# usa tu función con los parámetros 87 y 90\n",
    "\n",
    "# usa tu función con los parámetros 1 y 999\n",
    "\n",
    "# usa tu función con los parámetros 66 y 66\n"
   ]
  },
  {
   "cell_type": "markdown",
   "metadata": {},
   "source": [
    "#### c) Función `acceso_autorizado`\n",
    "\n",
    "Debajo tenemos un conjunto de datos que tiene información de varios usuarios de una plataforma web. Este diccionario relaciona `usernames` con un rol y (a veces) con un nip de acceso:"
   ]
  },
  {
   "cell_type": "code",
   "execution_count": 37,
   "metadata": {},
   "outputs": [],
   "source": [
    "usuarios = {\n",
    "    \"manolito_garcia\": {\n",
    "        \"rol\": \"admin\"\n",
    "    },\n",
    "    \"sebas_macaco_23\": {\n",
    "        \"rol\": \"editor\",\n",
    "        \"nip_de_acceso\": 3594\n",
    "    },\n",
    "    \"la_susanita_maestra\": {\n",
    "        \"rol\": \"admin\"\n",
    "    },\n",
    "    \"pepe_le_pu_88\": {\n",
    "        \"rol\": \"lector\"\n",
    "    },\n",
    "    \"jonny_bravo_estuvo_aqui\": {\n",
    "        \"rol\": \"editor\",\n",
    "        \"nip_de_acceso\": 9730\n",
    "    },\n",
    "    \"alfonso_torres_69\": {\n",
    "        \"rol\": \"editor\",\n",
    "        \"nip_de_acceso\": 2849\n",
    "    },\n",
    "    \"jocosita_99\": {\n",
    "        \"rol\": \"lector\"\n",
    "    }\n",
    "}"
   ]
  },
  {
   "cell_type": "markdown",
   "metadata": {},
   "source": [
    "Nuestra plataforma tiene 3 roles:\n",
    "\n",
    "1. Admin: estos pueden editar información sin necesitar un nip de acceso.\n",
    "2. Editor: pueden editar información sólo si escriben correctamenta su nip de acceso.\n",
    "3. Lector: no pueden editar, sólo ver la información, no necesitan nip de acceso.\n",
    "\n",
    "En la celda debajo, crea una función llamada `nivel_de_acceso_para_username` que reciba 3 parámetros:\n",
    "\n",
    "1. `base_de_datos`: que será siempre nuestro diccionario `usuarios`.\n",
    "2. `username`: El `username` del usuario que está solicitando acceso.\n",
    "3. `nip_de_acceso`: El nip de acceso, que puede ser `None` en el caso de que el usuario no tenga uno (o que haya olvidado escribirlo a la hora de pedir acceso.\n",
    "\n",
    "Con estos 3 parámetros, nuestra función tiene que regresar uno de los códigos de acceso siguientes:\n",
    "\n",
    "- `0`: Acceso denegado (esto sucede si el rol es `editor` y el `nip_de_acceso` es incorrecto).\n",
    "- `1`: Modo edición autorizada (esto sucede si el rol es `admin` o si el rol es `editor` y el `nip_de_acesso` es correcto).\n",
    "- `2`: Modo lectura autorizada (esto sucede si el rol es `lector`).\n",
    "\n",
    "Después, corre los tests para asegurarte de que tu función es correcta.\n",
    "\n",
    "> Tip: Recuerda que puedes \"anidar\" `sentencias if` dentro de otras `sentencias if`.\n",
    "\n",
    "> Reto extra: Agrega un chequeo que regrese `0` si el `username` que recibió tu función no existe en la base de datos."
   ]
  },
  {
   "cell_type": "code",
   "execution_count": 47,
   "metadata": {},
   "outputs": [],
   "source": [
    "## Tu función va aquí\n",
    "# ...\n",
    "# ...\n"
   ]
  },
  {
   "cell_type": "code",
   "execution_count": 46,
   "metadata": {},
   "outputs": [
    {
     "name": "stdout",
     "output_type": "stream",
     "text": [
      "== Tests nivel_de_acceso_para_username==\n",
      "\n",
      "Test 0: Para el usuario manolito_garcia el resultado esperado es `1`, obtuvimos `1`\n",
      "Test 1: Para el usuario sebas_macaco_23 el resultado esperado es `1`, obtuvimos `1`\n",
      "Test 2: Para el usuario jonny_bravo_estuvo_aqui el resultado esperado es `0`, obtuvimos `0`\n",
      "Test 3: Para el usuario pepe_le_pu_88 el resultado esperado es `2`, obtuvimos `2`\n",
      "Test 4: Para el usuario alfonso_torres_69 el resultado esperado es `0`, obtuvimos `0`\n",
      "Test (opcional) 5: Para el usuario los_yeah_yeahs_97 el resultado esperado es `0`, obtuvimos `None`\n",
      "\n",
      "Errores encontrados: 1\n"
     ]
    }
   ],
   "source": [
    "print(\"== Tests nivel_de_acceso_para_username==\\n\")\n",
    "\n",
    "tests = [\n",
    "    ([usuarios, \"manolito_garcia\", None], 1),\n",
    "    ([usuarios, \"sebas_macaco_23\", 3594], 1),\n",
    "    ([usuarios, \"jonny_bravo_estuvo_aqui\", 9999], 0),\n",
    "    ([usuarios, \"pepe_le_pu_88\", None], 2),\n",
    "    ([usuarios, \"alfonso_torres_69\", None], 0),\n",
    "    ([usuarios, \"los_yeah_yeahs_97\", 1345], 0)\n",
    "]\n",
    "errores = 0\n",
    "for i, (params, result) in enumerate(tests):\n",
    "    opcional = \"\"\n",
    "    try:\n",
    "        resultado_test = nivel_de_acceso_para_username(*params)\n",
    "    except KeyError:\n",
    "        resultado_test = None\n",
    "        opcional = \"(opcional) \"\n",
    "        \n",
    "    print(f'Test {opcional}{i}: Para el usuario {params[1]} el resultado esperado es `{result}`, obtuvimos `{resultado_test}`')\n",
    "    errores += resultado_test != result\n",
    "\n",
    "print(f'\\nErrores encontrados: {errores}')"
   ]
  },
  {
   "cell_type": "code",
   "execution_count": null,
   "metadata": {},
   "outputs": [],
   "source": []
  }
 ],
 "metadata": {
  "kernelspec": {
   "display_name": "Python 3",
   "language": "python",
   "name": "python3"
  },
  "language_info": {
   "codemirror_mode": {
    "name": "ipython",
    "version": 3
   },
   "file_extension": ".py",
   "mimetype": "text/x-python",
   "name": "python",
   "nbconvert_exporter": "python",
   "pygments_lexer": "ipython3",
   "version": "3.7.4"
  }
 },
 "nbformat": 4,
 "nbformat_minor": 4
}
