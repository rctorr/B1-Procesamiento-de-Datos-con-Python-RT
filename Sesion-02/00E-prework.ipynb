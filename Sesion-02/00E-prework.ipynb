{
 "cells": [
  {
   "cell_type": "code",
   "execution_count": 1,
   "metadata": {},
   "outputs": [],
   "source": [
    "soy_una_lista_feliz = [3, 6, 1, 4, 8, 7, 2, 4, 3]"
   ]
  },
  {
   "cell_type": "code",
   "execution_count": 1,
   "metadata": {},
   "outputs": [],
   "source": [
    "lista_de_floats = [1.4, 5.78, 2.34, 5.21, 8.9]\n",
    "\n",
    "lista_de_strings = [\"Hola\", \"mundo\", \"me\", \"llamo\", \"Marco P.\"]\n",
    "\n",
    "lista_de_booleanos = [True, False, True, True, False, False]\n",
    "\n",
    "lista_de_listas_de_ints = [[1, 4, 3], [6, 8, 7], [2, 4, 3], [0, 9, 8]]"
   ]
  },
  {
   "cell_type": "code",
   "execution_count": 2,
   "metadata": {},
   "outputs": [],
   "source": [
    "lista_mixta = [3, True, 7.5, [3, 5, 4], \"Hola\"]"
   ]
  },
  {
   "cell_type": "code",
   "execution_count": 3,
   "metadata": {},
   "outputs": [
    {
     "data": {
      "text/plain": [
       "4"
      ]
     },
     "execution_count": 3,
     "metadata": {},
     "output_type": "execute_result"
    }
   ],
   "source": [
    "lista_1 = [4, 8, 3, 6, 2]\n",
    "\n",
    "lista_1[0]"
   ]
  },
  {
   "cell_type": "code",
   "execution_count": 4,
   "metadata": {},
   "outputs": [
    {
     "name": "stdout",
     "output_type": "stream",
     "text": [
      "6\n",
      "3\n"
     ]
    }
   ],
   "source": [
    "print(lista_1[3])\n",
    "print(lista_1[2])"
   ]
  },
  {
   "cell_type": "code",
   "execution_count": 7,
   "metadata": {},
   "outputs": [
    {
     "ename": "IndexError",
     "evalue": "list index out of range",
     "output_type": "error",
     "traceback": [
      "\u001b[0;31m---------------------------------------------------------------------------\u001b[0m",
      "\u001b[0;31mIndexError\u001b[0m                                Traceback (most recent call last)",
      "\u001b[0;32m<ipython-input-7-f2e8ba98b710>\u001b[0m in \u001b[0;36m<module>\u001b[0;34m\u001b[0m\n\u001b[0;32m----> 1\u001b[0;31m \u001b[0mlista_1\u001b[0m\u001b[0;34m[\u001b[0m\u001b[0;36m5\u001b[0m\u001b[0;34m]\u001b[0m\u001b[0;34m\u001b[0m\u001b[0;34m\u001b[0m\u001b[0m\n\u001b[0m",
      "\u001b[0;31mIndexError\u001b[0m: list index out of range"
     ]
    }
   ],
   "source": [
    "lista_1[5]"
   ]
  },
  {
   "cell_type": "code",
   "execution_count": 5,
   "metadata": {},
   "outputs": [
    {
     "data": {
      "text/plain": [
       "[4, 7, 6, 2, 5, 10]"
      ]
     },
     "execution_count": 5,
     "metadata": {},
     "output_type": "execute_result"
    }
   ],
   "source": [
    "lista_2 = [4, 7, 6, 2, 5]\n",
    "\n",
    "lista_2.append(10)\n",
    "\n",
    "lista_2"
   ]
  },
  {
   "cell_type": "code",
   "execution_count": 6,
   "metadata": {},
   "outputs": [
    {
     "data": {
      "text/plain": [
       "10"
      ]
     },
     "execution_count": 6,
     "metadata": {},
     "output_type": "execute_result"
    }
   ],
   "source": [
    "lista_2[5]"
   ]
  },
  {
   "cell_type": "code",
   "execution_count": 8,
   "metadata": {},
   "outputs": [
    {
     "data": {
      "text/plain": [
       "['Woopsie Doopsies', 'Omega-3', 'Justin Bieber', 'La Twinkle']"
      ]
     },
     "execution_count": 8,
     "metadata": {},
     "output_type": "execute_result"
    }
   ],
   "source": [
    "estrellas = ['Woopsie Doopsies', 'Omega-3', 'Justin Bieber', 'La Twinkle', 'Rosaberta']\n",
    "\n",
    "estrellas.pop()\n",
    "\n",
    "estrellas"
   ]
  },
  {
   "cell_type": "code",
   "execution_count": 9,
   "metadata": {},
   "outputs": [
    {
     "data": {
      "text/plain": [
       "['Woopsie Doopsies', 'Omega-3', 'La Twinkle']"
      ]
     },
     "execution_count": 9,
     "metadata": {},
     "output_type": "execute_result"
    }
   ],
   "source": [
    "estrellas.pop(2)\n",
    "\n",
    "estrellas"
   ]
  },
  {
   "cell_type": "code",
   "execution_count": 10,
   "metadata": {},
   "outputs": [
    {
     "data": {
      "text/plain": [
       "'La Twinkle'"
      ]
     },
     "execution_count": 10,
     "metadata": {},
     "output_type": "execute_result"
    }
   ],
   "source": [
    "estrellas[2]"
   ]
  },
  {
   "cell_type": "code",
   "execution_count": 12,
   "metadata": {},
   "outputs": [
    {
     "data": {
      "text/plain": [
       "['Woopsie Doopsies',\n",
       " 'Omega-3',\n",
       " 'Britney Baby',\n",
       " 'Justin Bieber',\n",
       " 'La Twinkle',\n",
       " 'Rosaberta']"
      ]
     },
     "execution_count": 12,
     "metadata": {},
     "output_type": "execute_result"
    }
   ],
   "source": [
    "estrellas = ['Woopsie Doopsies', 'Omega-3', 'Justin Bieber', 'La Twinkle', 'Rosaberta']\n",
    "\n",
    "estrellas.insert(2, 'Britney Baby')\n",
    "\n",
    "estrellas"
   ]
  },
  {
   "cell_type": "code",
   "execution_count": 13,
   "metadata": {},
   "outputs": [
    {
     "data": {
      "text/plain": [
       "['Woopsie Doopsies',\n",
       " 'Britney Baby',\n",
       " 'Justin Bieber',\n",
       " 'La Twinkle',\n",
       " 'Rosaberta']"
      ]
     },
     "execution_count": 13,
     "metadata": {},
     "output_type": "execute_result"
    }
   ],
   "source": [
    "estrellas = ['Woopsie Doopsies', 'Omega-3', 'Britney Baby', 'Justin Bieber', 'La Twinkle', 'Rosaberta']\n",
    "\n",
    "estrellas.remove('Omega-3')\n",
    "\n",
    "estrellas"
   ]
  },
  {
   "cell_type": "code",
   "execution_count": 14,
   "metadata": {},
   "outputs": [
    {
     "data": {
      "text/plain": [
       "['Maricarmen', 'Jenny', 'Marco P.', 'Rosaura del Monte', 'Marco P.']"
      ]
     },
     "execution_count": 14,
     "metadata": {},
     "output_type": "execute_result"
    }
   ],
   "source": [
    "nombres = ['Marco P.', 'Maricarmen', 'Jenny', 'Marco P.', 'Rosaura del Monte', 'Marco P.']\n",
    "\n",
    "nombres.remove('Marco P.')\n",
    "\n",
    "nombres"
   ]
  },
  {
   "cell_type": "code",
   "execution_count": 15,
   "metadata": {},
   "outputs": [],
   "source": [
    "diccionario = {\n",
    "    \"llave_1\": 1,\n",
    "    \"llave_2\": 2,\n",
    "    \"llave_3\": 3\n",
    "}"
   ]
  },
  {
   "cell_type": "code",
   "execution_count": 16,
   "metadata": {},
   "outputs": [],
   "source": [
    "diccionario_numérico = {\n",
    "    1: \"uno\",\n",
    "    2: \"dos\",\n",
    "    3: \"tres\",\n",
    "    4: \"cuatro\",\n",
    "    5: \"cinco\"\n",
    "}"
   ]
  },
  {
   "cell_type": "code",
   "execution_count": 17,
   "metadata": {},
   "outputs": [
    {
     "data": {
      "text/plain": [
       "'uno'"
      ]
     },
     "execution_count": 17,
     "metadata": {},
     "output_type": "execute_result"
    }
   ],
   "source": [
    "diccionario_numérico[1]"
   ]
  },
  {
   "cell_type": "code",
   "execution_count": 18,
   "metadata": {},
   "outputs": [
    {
     "data": {
      "text/plain": [
       "'Bailarina de tap'"
      ]
     },
     "execution_count": 18,
     "metadata": {},
     "output_type": "execute_result"
    }
   ],
   "source": [
    "nombre_a_profesion = {\n",
    "    \"Marco P.\": \"Fontanero\",\n",
    "    \"Jenny\": \"Bailarina de tap\",\n",
    "    \"Chaveta Xtreme\": \"Inventor de tennis deportivos\",\n",
    "    \"Justin Bieber\": \"Estrella celeste\"\n",
    "}\n",
    "\n",
    "nombre_a_profesion[\"Jenny\"]"
   ]
  },
  {
   "cell_type": "code",
   "execution_count": 20,
   "metadata": {},
   "outputs": [
    {
     "data": {
      "text/plain": [
       "'Analista de datos'"
      ]
     },
     "execution_count": 20,
     "metadata": {},
     "output_type": "execute_result"
    }
   ],
   "source": [
    "nombre_a_profesion[\"Pepe Juan\"] = \"Analista de datos\"\n",
    "\n",
    "nombre_a_profesion[\"Pepe Juan\"]"
   ]
  },
  {
   "cell_type": "code",
   "execution_count": 21,
   "metadata": {},
   "outputs": [
    {
     "data": {
      "text/plain": [
       "'Coach de equipo de futbol femenil'"
      ]
     },
     "execution_count": 21,
     "metadata": {},
     "output_type": "execute_result"
    }
   ],
   "source": [
    "nombre_a_profesion[\"Jenny\"] = \"Coach de equipo de futbol femenil\"\n",
    "\n",
    "nombre_a_profesion[\"Jenny\"]"
   ]
  },
  {
   "cell_type": "code",
   "execution_count": 22,
   "metadata": {},
   "outputs": [],
   "source": [
    "datos_compras = {\n",
    "    \"nombre\": \"Alberto Suarez\",\n",
    "    \"productos_comprados\": [\"TV\", \"Chromebook\", \"VGA-USB-C\"],\n",
    "    \"direccion_de_facturacion\": {\n",
    "        \"colonia\": \"Escandon\",\n",
    "        \"calle\": \"Mutualismo\",\n",
    "        \"numero\": 44,\n",
    "        \"cp\": 11800\n",
    "    }\n",
    "}"
   ]
  },
  {
   "cell_type": "code",
   "execution_count": 24,
   "metadata": {},
   "outputs": [],
   "source": [
    "from pprint import pprint"
   ]
  },
  {
   "cell_type": "code",
   "execution_count": 25,
   "metadata": {},
   "outputs": [
    {
     "name": "stdout",
     "output_type": "stream",
     "text": [
      "{'direccion_de_facturacion': {'calle': 'Mutualismo',\n",
      "                              'colonia': 'Escandon',\n",
      "                              'cp': 11800,\n",
      "                              'numero': 55},\n",
      " 'nombre': 'Alberto Suarez',\n",
      " 'productos_comprados': ['TV',\n",
      "                         'Chromebook',\n",
      "                         'VGA-USB-C',\n",
      "                         'Ipad Nano',\n",
      "                         'Ipad Nano']}\n"
     ]
    }
   ],
   "source": [
    "datos_compras[\"productos_comprados\"].append(\"Ipad Nano\")\n",
    "\n",
    "datos_compras[\"direccion_de_facturacion\"][\"numero\"] = 55\n",
    "\n",
    "pprint(datos_compras)"
   ]
  },
  {
   "cell_type": "code",
   "execution_count": 26,
   "metadata": {},
   "outputs": [
    {
     "data": {
      "text/plain": [
       "{'Marco P.': 'Fontanero',\n",
       " 'Jenny': 'Bailarina de tap',\n",
       " 'Chaveta Xtreme': 'Inventor de tennis deportivos'}"
      ]
     },
     "execution_count": 26,
     "metadata": {},
     "output_type": "execute_result"
    }
   ],
   "source": [
    "nombre_a_profesion = {\n",
    "    \"Marco P.\": \"Fontanero\",\n",
    "    \"Jenny\": \"Bailarina de tap\",\n",
    "    \"Chaveta Xtreme\": \"Inventor de tennis deportivos\",\n",
    "    \"Justin Bieber\": \"Estrella celeste\"\n",
    "}\n",
    "\n",
    "nombre_a_profesion.pop(\"Justin Bieber\")\n",
    "\n",
    "nombre_a_profesion"
   ]
  },
  {
   "cell_type": "code",
   "execution_count": 30,
   "metadata": {},
   "outputs": [],
   "source": [
    "# Cantidad de alumnos estudiando en la UNAM en el ciclo escolar 2019-2020\n",
    "#\n",
    "# Fuente: http://www.estadistica.unam.mx/numeralia/\n",
    "#\n",
    "\n",
    "total_de_alumnos = 360883\n",
    "alumnos_en_posgrado = 30634\n",
    "alumnos_en_licenciatura = 217808\n",
    "alumnos_en_bachillerato = 111569\n",
    "alumnos_en_prope_de_musica = 872"
   ]
  },
  {
   "cell_type": "code",
   "execution_count": 31,
   "metadata": {},
   "outputs": [],
   "source": [
    "alumnos_en_posgrado_porc = alumnos_en_posgrado * 100 / total_de_alumnos\n",
    "alumnos_en_licenciatura_porc = alumnos_en_licenciatura * 100 / total_de_alumnos\n",
    "alumnos_en_bachillerato_porc = alumnos_en_bachillerato * 100 / total_de_alumnos\n",
    "alumnos_en_prope_de_musica_porc = alumnos_en_prope_de_musica * 100 / total_de_alumnos"
   ]
  },
  {
   "cell_type": "code",
   "execution_count": 32,
   "metadata": {},
   "outputs": [
    {
     "ename": "SyntaxError",
     "evalue": "invalid syntax (<ipython-input-32-7b18d017f89f>, line 1)",
     "output_type": "error",
     "traceback": [
      "\u001b[0;36m  File \u001b[0;32m\"<ipython-input-32-7b18d017f89f>\"\u001b[0;36m, line \u001b[0;32m1\u001b[0m\n\u001b[0;31m    def\u001b[0m\n\u001b[0m       ^\u001b[0m\n\u001b[0;31mSyntaxError\u001b[0m\u001b[0;31m:\u001b[0m invalid syntax\n"
     ]
    }
   ],
   "source": [
    "def"
   ]
  },
  {
   "cell_type": "code",
   "execution_count": 34,
   "metadata": {},
   "outputs": [],
   "source": [
    "def sumar_dos_a_numero(numero):\n",
    "    \n",
    "    suma = numero + 2"
   ]
  },
  {
   "cell_type": "code",
   "execution_count": 35,
   "metadata": {},
   "outputs": [
    {
     "data": {
      "text/plain": [
       "7"
      ]
     },
     "execution_count": 35,
     "metadata": {},
     "output_type": "execute_result"
    }
   ],
   "source": [
    "suma_de_5_mas_2 = sumar_dos_a_numero(5)\n",
    "\n",
    "suma_de_5_mas_2"
   ]
  },
  {
   "cell_type": "code",
   "execution_count": 36,
   "metadata": {},
   "outputs": [
    {
     "name": "stdout",
     "output_type": "stream",
     "text": [
      "5\n",
      "12\n",
      "224\n",
      "1038\n"
     ]
    }
   ],
   "source": [
    "print(sumar_dos_a_numero(3))\n",
    "print(sumar_dos_a_numero(10))\n",
    "print(sumar_dos_a_numero(222))\n",
    "print(sumar_dos_a_numero(1036))"
   ]
  },
  {
   "cell_type": "code",
   "execution_count": 37,
   "metadata": {},
   "outputs": [],
   "source": [
    "def calcular_porcentaje(muestra, total):\n",
    "    \n",
    "    porcentaje = muestra * 100 / total\n",
    "    \n",
    "    return porcentaje"
   ]
  },
  {
   "cell_type": "code",
   "execution_count": 38,
   "metadata": {},
   "outputs": [],
   "source": [
    "total_de_alumnos = 360883\n",
    "alumnos_en_posgrado = 30634\n",
    "alumnos_en_licenciatura = 217808\n",
    "alumnos_en_bachillerato = 111569\n",
    "alumnos_en_prope_de_musica = 872"
   ]
  },
  {
   "cell_type": "code",
   "execution_count": 39,
   "metadata": {},
   "outputs": [],
   "source": [
    "alumnos_en_posgrado_porc = calcular_porcentaje(alumnos_en_posgrado, total_de_alumnos)\n",
    "alumnos_en_licenciatura_porc = calcular_porcentaje(alumnos_en_licenciatura, total_de_alumnos)\n",
    "alumnos_en_bachillerato_porc = calcular_porcentaje(alumnos_en_bachillerato,  total_de_alumnos)\n",
    "alumnos_en_prope_de_musica_porc = calcular_porcentaje(alumnos_en_prope_de_musica, total_de_alumnos)"
   ]
  },
  {
   "cell_type": "code",
   "execution_count": 42,
   "metadata": {},
   "outputs": [],
   "source": [
    "variable_global = \"Global\""
   ]
  },
  {
   "cell_type": "code",
   "execution_count": 41,
   "metadata": {},
   "outputs": [
    {
     "data": {
      "text/plain": [
       "'Global'"
      ]
     },
     "execution_count": 41,
     "metadata": {},
     "output_type": "execute_result"
    }
   ],
   "source": [
    "variable_global"
   ]
  },
  {
   "cell_type": "code",
   "execution_count": 44,
   "metadata": {},
   "outputs": [
    {
     "data": {
      "text/plain": [
       "'El proceso fue llevado a cabo con éxito'"
      ]
     },
     "execution_count": 44,
     "metadata": {},
     "output_type": "execute_result"
    }
   ],
   "source": [
    "status = \"OK\"\n",
    "\n",
    "if status == \"OK\":\n",
    "    respuesta = \"El proceso fue llevado a cabo con éxito\"\n",
    "    \n",
    "respuesta"
   ]
  },
  {
   "cell_type": "code",
   "execution_count": 45,
   "metadata": {},
   "outputs": [
    {
     "data": {
      "text/plain": [
       "'El proceso fue llevado a cabo con éxito'"
      ]
     },
     "execution_count": 45,
     "metadata": {},
     "output_type": "execute_result"
    }
   ],
   "source": [
    "respuesta"
   ]
  },
  {
   "cell_type": "code",
   "execution_count": 46,
   "metadata": {},
   "outputs": [],
   "source": [
    "def sumar_dos_a_numero(numero):\n",
    "    \n",
    "    suma = numero + 2\n",
    "    \n",
    "    return suma"
   ]
  },
  {
   "cell_type": "code",
   "execution_count": 47,
   "metadata": {},
   "outputs": [
    {
     "ename": "NameError",
     "evalue": "name 'numero' is not defined",
     "output_type": "error",
     "traceback": [
      "\u001b[0;31m---------------------------------------------------------------------------\u001b[0m",
      "\u001b[0;31mNameError\u001b[0m                                 Traceback (most recent call last)",
      "\u001b[0;32m<ipython-input-47-3b4537653337>\u001b[0m in \u001b[0;36m<module>\u001b[0;34m\u001b[0m\n\u001b[0;32m----> 1\u001b[0;31m \u001b[0mprint\u001b[0m\u001b[0;34m(\u001b[0m\u001b[0mnumero\u001b[0m\u001b[0;34m)\u001b[0m\u001b[0;34m\u001b[0m\u001b[0;34m\u001b[0m\u001b[0m\n\u001b[0m",
      "\u001b[0;31mNameError\u001b[0m: name 'numero' is not defined"
     ]
    }
   ],
   "source": [
    "print(numero)"
   ]
  },
  {
   "cell_type": "code",
   "execution_count": 48,
   "metadata": {},
   "outputs": [
    {
     "ename": "NameError",
     "evalue": "name 'suma' is not defined",
     "output_type": "error",
     "traceback": [
      "\u001b[0;31m---------------------------------------------------------------------------\u001b[0m",
      "\u001b[0;31mNameError\u001b[0m                                 Traceback (most recent call last)",
      "\u001b[0;32m<ipython-input-48-c7c6414d55a8>\u001b[0m in \u001b[0;36m<module>\u001b[0;34m\u001b[0m\n\u001b[0;32m----> 1\u001b[0;31m \u001b[0mprint\u001b[0m\u001b[0;34m(\u001b[0m\u001b[0msuma\u001b[0m\u001b[0;34m)\u001b[0m\u001b[0;34m\u001b[0m\u001b[0;34m\u001b[0m\u001b[0m\n\u001b[0m",
      "\u001b[0;31mNameError\u001b[0m: name 'suma' is not defined"
     ]
    }
   ],
   "source": [
    "print(suma)"
   ]
  },
  {
   "cell_type": "code",
   "execution_count": 49,
   "metadata": {},
   "outputs": [
    {
     "data": {
      "text/plain": [
       "12"
      ]
     },
     "execution_count": 49,
     "metadata": {},
     "output_type": "execute_result"
    }
   ],
   "source": [
    "sumar_dos_a_numero(10)"
   ]
  },
  {
   "cell_type": "code",
   "execution_count": 50,
   "metadata": {},
   "outputs": [
    {
     "ename": "NameError",
     "evalue": "name 'numero' is not defined",
     "output_type": "error",
     "traceback": [
      "\u001b[0;31m---------------------------------------------------------------------------\u001b[0m",
      "\u001b[0;31mNameError\u001b[0m                                 Traceback (most recent call last)",
      "\u001b[0;32m<ipython-input-50-5e3ead709b23>\u001b[0m in \u001b[0;36m<module>\u001b[0;34m\u001b[0m\n\u001b[0;32m----> 1\u001b[0;31m \u001b[0mnumero\u001b[0m\u001b[0;34m\u001b[0m\u001b[0;34m\u001b[0m\u001b[0m\n\u001b[0m",
      "\u001b[0;31mNameError\u001b[0m: name 'numero' is not defined"
     ]
    }
   ],
   "source": [
    "numero"
   ]
  },
  {
   "cell_type": "code",
   "execution_count": 51,
   "metadata": {},
   "outputs": [
    {
     "ename": "NameError",
     "evalue": "name 'suma' is not defined",
     "output_type": "error",
     "traceback": [
      "\u001b[0;31m---------------------------------------------------------------------------\u001b[0m",
      "\u001b[0;31mNameError\u001b[0m                                 Traceback (most recent call last)",
      "\u001b[0;32m<ipython-input-51-df27c241b22a>\u001b[0m in \u001b[0;36m<module>\u001b[0;34m\u001b[0m\n\u001b[0;32m----> 1\u001b[0;31m \u001b[0msuma\u001b[0m\u001b[0;34m\u001b[0m\u001b[0;34m\u001b[0m\u001b[0m\n\u001b[0m",
      "\u001b[0;31mNameError\u001b[0m: name 'suma' is not defined"
     ]
    }
   ],
   "source": [
    "suma"
   ]
  },
  {
   "cell_type": "code",
   "execution_count": 52,
   "metadata": {},
   "outputs": [
    {
     "data": {
      "text/plain": [
       "22"
      ]
     },
     "execution_count": 52,
     "metadata": {},
     "output_type": "execute_result"
    }
   ],
   "source": [
    "valor_retornado_por_la_funcion = sumar_dos_a_numero(20)\n",
    "\n",
    "valor_retornado_por_la_funcion"
   ]
  },
  {
   "cell_type": "code",
   "execution_count": null,
   "metadata": {},
   "outputs": [],
   "source": []
  }
 ],
 "metadata": {
  "kernelspec": {
   "display_name": "Python (data_science)",
   "language": "python",
   "name": "data_science"
  },
  "language_info": {
   "codemirror_mode": {
    "name": "ipython",
    "version": 3
   },
   "file_extension": ".py",
   "mimetype": "text/x-python",
   "name": "python",
   "nbconvert_exporter": "python",
   "pygments_lexer": "ipython3",
   "version": "3.8.1"
  }
 },
 "nbformat": 4,
 "nbformat_minor": 4
}
