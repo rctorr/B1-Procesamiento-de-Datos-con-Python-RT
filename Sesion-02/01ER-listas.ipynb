{
 "cells": [
  {
   "cell_type": "markdown",
   "metadata": {},
   "source": [
    "## Ejemplo 1: Listas\n",
    "\n",
    "### 1. Objetivos:\n",
    "    - Entender la sintaxis de las listas en Python\n",
    "    - Aprender a crear listas y accesarlas\n",
    " \n",
    "---\n",
    "    \n",
    "### 2. Desarrollo:"
   ]
  },
  {
   "cell_type": "markdown",
   "metadata": {},
   "source": [
    "#### Creando listas y accediendo a ellas\n",
    "\n",
    "Las listas son secuencias ordenadas de datos. El orden de los datos en la lista es el mismo orden que tienen los datos a la hora de ser asignados a la lista. Una lista se ve así:"
   ]
  },
  {
   "cell_type": "code",
   "execution_count": 3,
   "metadata": {},
   "outputs": [],
   "source": [
    "lista_1 = "
   ]
  },
  {
   "cell_type": "markdown",
   "metadata": {},
   "source": [
    "Cada elemento en la lista tiene un índice, que se usa para poder acceder a dicho elemento. Dado que las listas son ordenadas, los índices se van asignando secuencialmente desde el primer elemento hasta el último. El primer índice es siempre `0`, y por lo tanto el último índice es siempre `n - 1`, donde `n` es el número total de elementos en la lista."
   ]
  },
  {
   "cell_type": "markdown",
   "metadata": {},
   "source": [
    "Por lo tanto, para acceder al primer y al último elemento de la lista anterior, hacemos lo siguiente: "
   ]
  },
  {
   "cell_type": "code",
   "execution_count": 1,
   "metadata": {},
   "outputs": [],
   "source": [
    "# primer elemento"
   ]
  },
  {
   "cell_type": "code",
   "execution_count": 2,
   "metadata": {},
   "outputs": [],
   "source": [
    "# último elemento contanto los elementos"
   ]
  },
  {
   "cell_type": "markdown",
   "metadata": {},
   "source": [
    "Si intentamos acceder a un índice que no existe, porque no hay suficientes elementos en la lista, Python nos da un error:"
   ]
  },
  {
   "cell_type": "code",
   "execution_count": 3,
   "metadata": {},
   "outputs": [],
   "source": [
    "# índice que no existe"
   ]
  },
  {
   "cell_type": "markdown",
   "metadata": {},
   "source": [
    "Dado que es difícil saber cuántos elementos hay en una lista, a menos que nos pongamos a contar, hay algo que podemos hacer para acceder a los últimos elementos de una lista sin arriesgarnos a tener un error:"
   ]
  },
  {
   "cell_type": "markdown",
   "metadata": {},
   "source": [
    "- Python nos permite acceder a los elementos empezando desde el último elemento hasta el primero (al revés, pues). Esto se hace usando números negativos. O sea que para acceder al último número puedo usar un `-1`, para acceder al penúltimo número puedo usar `-2` y así consecutivamente:"
   ]
  },
  {
   "cell_type": "code",
   "execution_count": 4,
   "metadata": {},
   "outputs": [],
   "source": [
    "# último elemento al estilo Python"
   ]
  },
  {
   "cell_type": "code",
   "execution_count": 5,
   "metadata": {},
   "outputs": [],
   "source": [
    "# penúltimo elemento"
   ]
  },
  {
   "cell_type": "markdown",
   "metadata": {},
   "source": [
    "Como podrás imaginar, no solamente podemos guardar datos crudos en una lista (`1, 2, 3, 4, etc`). Podemos guardar datos en variables y luego guardar esas variables en la lista. Las siguientes dos listas son equivalentes:"
   ]
  },
  {
   "cell_type": "code",
   "execution_count": 6,
   "metadata": {},
   "outputs": [],
   "source": [
    "uno = 1\n",
    "dos = 2\n",
    "tres = 3\n",
    "cuatro = 4\n",
    "cinco = 5"
   ]
  },
  {
   "cell_type": "code",
   "execution_count": 7,
   "metadata": {},
   "outputs": [],
   "source": [
    "# crea la lista con las variables"
   ]
  },
  {
   "cell_type": "markdown",
   "metadata": {},
   "source": [
    "#### Tipos de datos en una lista\n",
    "\n",
    "Como vimos en el Prework, una lista puede contener cualquier tipo de dato de los que ya conocemos (incluso otras listas)."
   ]
  },
  {
   "cell_type": "code",
   "execution_count": 9,
   "metadata": {},
   "outputs": [],
   "source": [
    "lista_de_ints = \n",
    "lista_de_floats = \n",
    "lista_de_strings = \n",
    "lista_de_booleanos = \n",
    "lista_de_listas_de_ints = "
   ]
  },
  {
   "cell_type": "markdown",
   "metadata": {},
   "source": [
    "A pesar de que Python nos permite guardar diversos tipos de datos en una sola lista, aprendimos que la mejor práctica es evitar esto y guardar un solo tipo de dato por lista"
   ]
  },
  {
   "cell_type": "markdown",
   "metadata": {},
   "source": [
    "¡Vayamos a nuestro primer reto!\n",
    "\n",
    "---"
   ]
  },
  {
   "cell_type": "markdown",
   "metadata": {},
   "source": [
    "## Reto 1: Creando listas y accediendo a ellas\n",
    "\n",
    "### 1. Objetivos:\n",
    "    - Practicar crear listas con valores crudos y variables\n",
    "    - Practicar acceder a listas usando índices\n",
    " \n",
    "---\n",
    "    \n",
    "### 2. Desarrollo:"
   ]
  },
  {
   "cell_type": "markdown",
   "metadata": {},
   "source": [
    "#### a) Definiendo una lista\n",
    "\n",
    "Debajo de esta celda hay un nombre de una variable que aún no ha sido asignada:"
   ]
  },
  {
   "cell_type": "code",
   "execution_count": null,
   "metadata": {},
   "outputs": [],
   "source": [
    "mi_informacion = "
   ]
  },
  {
   "cell_type": "markdown",
   "metadata": {},
   "source": [
    "Ahora, tenemos un `print` que imprime una string formateada para mostrar cierta información acerca de ti (Las triples comillas `'''` nos sirven para generar strings de varias líneas):"
   ]
  },
  {
   "cell_type": "code",
   "execution_count": null,
   "metadata": {},
   "outputs": [],
   "source": [
    "print(f'''\n",
    "¡Hola! Mi nombre es {mi_informacion[0]}. Todos me dicen {mi_informacion[1]}.\n",
    "Mi comida favorita es {mi_informacion[2]}. Y la comida que más detesto es {mi_informacion[3]}.\n",
    "Mi trabajo ideal sería {mi_informacion[4]}.\n",
    "¡Gracias, chau!\n",
    "''')"
   ]
  },
  {
   "cell_type": "markdown",
   "metadata": {},
   "source": [
    "Para que esta string funcione, asigna una lista a la variable `mi_informacion` con toda la información necesaria para imprimir tu micro-bio debajo de la celda."
   ]
  },
  {
   "cell_type": "markdown",
   "metadata": {},
   "source": [
    "#### b) Una lista construida con variables \n",
    "\n",
    "Debajo de esta celda vemos los nombres de varias variables y una lista que las contiene."
   ]
  },
  {
   "cell_type": "code",
   "execution_count": null,
   "metadata": {},
   "outputs": [],
   "source": [
    "info_0 = \n",
    "info_1 = \n",
    "info_2 = \n",
    "info_3 = \n",
    "info_4 = \n",
    "\n",
    "info_faltante[info_0, info_1, info_2, info_3, info_4]"
   ]
  },
  {
   "cell_type": "markdown",
   "metadata": {},
   "source": [
    "Ahora, tenemos un `print` que imprime una pequeña historia utilizando la lista `info_faltante` que contiene a las demás variables:"
   ]
  },
  {
   "cell_type": "code",
   "execution_count": null,
   "metadata": {},
   "outputs": [],
   "source": [
    "print(f'''\n",
    "Algún día los {info_faltante[0]} lograrán su objetivo. Su objetivo de {info_faltante[1]}.\n",
    "Ese día, los humanos {info_faltante[2]} y tendrán que {info_faltante[3]}.\n",
    "Por esa razón yo todos los días {info_faltante[4]}.\n",
    "''')"
   ]
  },
  {
   "cell_type": "markdown",
   "metadata": {},
   "source": [
    "Tu reto será asignar las variables `info_x` con la información que desees para crear una historia a tu gusto. Cada variable puede contener una string que tenga varias palabras (frases, pues). Si te dan ganas, ¡comparte la historia con tus compañeros!"
   ]
  },
  {
   "cell_type": "markdown",
   "metadata": {},
   "source": [
    "#### c) Practicando el operador de indexación \n",
    "\n",
    "Debajo de esta celda hay una lista con números dentro:"
   ]
  },
  {
   "cell_type": "code",
   "execution_count": null,
   "metadata": {},
   "outputs": [],
   "source": [
    "respuestas = [0.58, 9, 2, 3, 37, 5, 75, 4]"
   ]
  },
  {
   "cell_type": "markdown",
   "metadata": {},
   "source": [
    "Ahora, tenemos un `print` con una string interpolada. Como puedes ver todas las interpolaciones están vacías:"
   ]
  },
  {
   "cell_type": "code",
   "execution_count": null,
   "metadata": {},
   "outputs": [],
   "source": [
    "print(f'''\n",
    "1. Los humanos tenemos {} ojos en la cara.\n",
    "2. Un humano adulto tiene {} dientes dentro de su boca.\n",
    "3. Un feto tarda {} meses en gestarse antes de nacer.\n",
    "4. La expectativa de vida en México es de alrededor de {} años.\n",
    "5. Las horas de sueño al día recomendadas para adultos jóvenes son entre {} y {}.\n",
    "6. El récord actual de velocidad en 100 metros (09/05/2020) fue establecido por Usain Bolt y es de {}\n",
    "''')"
   ]
  },
  {
   "cell_type": "markdown",
   "metadata": {},
   "source": [
    "Tu reto es llenar las interpolaciones en la string con elementos de la lista de arriba. Usa los índices de los elementos para acceder a las respuestas correctas y llenar la lista con información coherente. No todas las respuestas están en la lista. Para obtener algunas respuestas tendrás que acceder a elementos de la lista y realizar operaciones numéricas conn ellos (usando `+` o `-`).\n",
    "\n",
    "> Reto extra: Si quieres un poco más de dificultad, accede a todos los elementos usando **solamente** números negativos como índices"
   ]
  },
  {
   "cell_type": "code",
   "execution_count": null,
   "metadata": {},
   "outputs": [],
   "source": []
  }
 ],
 "metadata": {
  "kernelspec": {
   "display_name": "Python 3",
   "language": "python",
   "name": "python3"
  },
  "language_info": {
   "codemirror_mode": {
    "name": "ipython",
    "version": 3
   },
   "file_extension": ".py",
   "mimetype": "text/x-python",
   "name": "python",
   "nbconvert_exporter": "python",
   "pygments_lexer": "ipython3",
   "version": "3.7.4"
  }
 },
 "nbformat": 4,
 "nbformat_minor": 4
}
