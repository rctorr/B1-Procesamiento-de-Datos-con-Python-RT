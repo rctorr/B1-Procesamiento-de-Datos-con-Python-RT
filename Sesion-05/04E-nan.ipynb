{
 "cells": [
  {
   "cell_type": "markdown",
   "metadata": {},
   "source": [
    "## Ejemplo 4: Identificación y conteo de NaNs\n",
    "\n",
    "### 1. Objetivos:\n",
    "    - Aprender a identificar NaNs\n",
    "    - Aprender a realizar conteo de NaNs por fila y por columna\n",
    " \n",
    "### 2. Desarrollo:"
   ]
  },
  {
   "cell_type": "code",
   "execution_count": null,
   "metadata": {},
   "outputs": [],
   "source": [
    "import pandas as pd\n",
    "import numpy as np"
   ]
  },
  {
   "cell_type": "markdown",
   "metadata": {},
   "source": [
    "Los `NaNs` o datos ausentes o vacíos o nulos cuando se asignan los datos de forma numérica se pueden indicar usando el valor `None` de Python o el valor `np.nan` del módulo **NumPy**, pero es importante que el espacio de los valores ausentes estén **marcados**, veamos unos ejemplos:"
   ]
  },
  {
   "cell_type": "code",
   "execution_count": null,
   "metadata": {},
   "outputs": [],
   "source": [
    "datos = {\n",
    "    'precio': [34, 54, None, None, 56, 12, 34],\n",
    "    'cantidad_en_stock': [3, 6, 14, np.nan, 5, 2, 10],\n",
    "    'productos_vendidos': [3, 45, 23, np.nan, 24, 6, None]\n",
    "}\n",
    "\n",
    "df = pd.DataFrame(datos, index=[\"Pokemaster\", \"Cegatron\", \"Pikame Mucho\", \"Lazarillo de Tormes\", \"Stevie Wonder\", \"Needle\", \"El AyMeDuele\"])"
   ]
  },
  {
   "cell_type": "markdown",
   "metadata": {},
   "source": [
    "Al imprimir el valor del DataFrame resultante, se observa como todos los valores nulos están marcado con la palabra especial `NaN` que es la forma en que Pandas imprime los valores nulos reconocidos:"
   ]
  },
  {
   "cell_type": "code",
   "execution_count": null,
   "metadata": {},
   "outputs": [],
   "source": [
    "..."
   ]
  },
  {
   "cell_type": "markdown",
   "metadata": {},
   "source": [
    "Para contarlos podemos usar una función vectorizada llamada `dataframe.isna()`, que nos regresa esto:"
   ]
  },
  {
   "cell_type": "code",
   "execution_count": null,
   "metadata": {},
   "outputs": [],
   "source": [
    "..."
   ]
  },
  {
   "cell_type": "markdown",
   "metadata": {},
   "source": [
    "`isna()` regresa `True` cuando encuentra un `NaN` y `False` cuando el valor es válido.\n",
    "\n",
    "Después, podemos contar cuántos `NaNs` existen usando la agregación `sum()`, que suma `1` por cada `True` y `0` por cada `False`. Recuerda que se pueden encadenar agregaciones `df.isna().sum()`:"
   ]
  },
  {
   "cell_type": "code",
   "execution_count": null,
   "metadata": {},
   "outputs": [],
   "source": [
    "..."
   ]
  },
  {
   "cell_type": "markdown",
   "metadata": {},
   "source": [
    "Con `axis=0` que es el valor por **omisión**, `dataframe.sum()` nos regresa la suma de `NaNs` por columnas, entonces àra un conteo por filas se usa con `axis=1` resultando:"
   ]
  },
  {
   "cell_type": "code",
   "execution_count": null,
   "metadata": {},
   "outputs": [],
   "source": [
    "..."
   ]
  },
  {
   "cell_type": "markdown",
   "metadata": {},
   "source": [
    "Ya que sabemos como trabajar con valores vacíos o nulos veamos como procesarlos en un conjunto de datos"
   ]
  }
 ],
 "metadata": {
  "kernelspec": {
   "display_name": "Python 3",
   "language": "python",
   "name": "python3"
  },
  "language_info": {
   "codemirror_mode": {
    "name": "ipython",
    "version": 3
   },
   "file_extension": ".py",
   "mimetype": "text/x-python",
   "name": "python",
   "nbconvert_exporter": "python",
   "pygments_lexer": "ipython3",
   "version": "3.7.4"
  }
 },
 "nbformat": 4,
 "nbformat_minor": 4
}
