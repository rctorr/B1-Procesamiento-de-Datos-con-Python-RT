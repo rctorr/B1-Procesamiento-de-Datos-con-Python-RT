{
 "cells": [
  {
   "cell_type": "markdown",
   "metadata": {},
   "source": [
    "## Ejemplo 1: Funciones vectorizadas con Series\n",
    "\n",
    "### 1. Objetivos:\n",
    "    - Aprender cómo usar funciones vectorizadas aplicadas a Series de Pandas\n",
    " \n",
    "### 2. Desarrollo:"
   ]
  },
  {
   "cell_type": "markdown",
   "metadata": {},
   "source": [
    "Primero realizaremos algunas operaciones con Series"
   ]
  },
  {
   "cell_type": "code",
   "execution_count": null,
   "metadata": {},
   "outputs": [],
   "source": [
    "import pandas as pd"
   ]
  },
  {
   "cell_type": "markdown",
   "metadata": {},
   "source": [
    "Dada la siguiente serie:"
   ]
  },
  {
   "cell_type": "code",
   "execution_count": null,
   "metadata": {},
   "outputs": [],
   "source": [
    "serie = pd.Series([1, 2, 3, 4, 5])"
   ]
  },
  {
   "cell_type": "markdown",
   "metadata": {},
   "source": [
    "Suma 10 a cada elemento usando `map()` y `lambda`:"
   ]
  },
  {
   "cell_type": "code",
   "execution_count": null,
   "metadata": {},
   "outputs": [],
   "source": [
    "..."
   ]
  },
  {
   "cell_type": "markdown",
   "metadata": {},
   "source": [
    "Suma 10 a cada elemento usando listas de compresión:"
   ]
  },
  {
   "cell_type": "code",
   "execution_count": null,
   "metadata": {},
   "outputs": [],
   "source": [
    "..."
   ]
  },
  {
   "cell_type": "markdown",
   "metadata": {},
   "source": [
    "Y si queremos obtener una Serie y no una Lista, entonces creamos una Serie a partir de la lista obtenida ya que podemos usar `pd.Series(-lista-)`, simple no!"
   ]
  },
  {
   "cell_type": "code",
   "execution_count": null,
   "metadata": {},
   "outputs": [],
   "source": [
    "..."
   ]
  },
  {
   "cell_type": "markdown",
   "metadata": {},
   "source": [
    "Ahora vamos a usar la forma **super simple** y eficiente usando:\n",
    "\n",
    "`serie operador valor`\n",
    "\n",
    "Por ejemplo para suma:\n",
    "\n",
    "`serie + valor`\n",
    "\n",
    "Entonces vamos a sumar 10 a cada elemento de la Serie y obtener como resultado otra Serie:"
   ]
  },
  {
   "cell_type": "code",
   "execution_count": null,
   "metadata": {},
   "outputs": [],
   "source": [
    "..."
   ]
  },
  {
   "cell_type": "markdown",
   "metadata": {},
   "source": [
    "Multiplica por 10 a cada elemento"
   ]
  },
  {
   "cell_type": "code",
   "execution_count": null,
   "metadata": {},
   "outputs": [],
   "source": [
    "..."
   ]
  },
  {
   "cell_type": "markdown",
   "metadata": {},
   "source": [
    "Multiplica por 10 y luego divide entre 2"
   ]
  },
  {
   "cell_type": "code",
   "execution_count": null,
   "metadata": {},
   "outputs": [],
   "source": [
    "..."
   ]
  },
  {
   "cell_type": "markdown",
   "metadata": {},
   "source": [
    "Elevar al cubo usando el operador producto entre Series, osea, la misma serie multiplicada por si misma 3 veces:"
   ]
  },
  {
   "cell_type": "code",
   "execution_count": null,
   "metadata": {},
   "outputs": [],
   "source": [
    "..."
   ]
  },
  {
   "cell_type": "markdown",
   "metadata": {},
   "source": [
    "Elevar al cubo usando el operador potencia `**`, ¿también se puede? (gracias a Pandas que existen las funciones vectoriales, Santa Ciencia en verdad adios ciclos for!):"
   ]
  },
  {
   "cell_type": "code",
   "execution_count": null,
   "metadata": {},
   "outputs": [],
   "source": [
    "..."
   ]
  },
  {
   "cell_type": "markdown",
   "metadata": {},
   "source": [
    "Elevar al cubo usando la función de NumPy `np.power(-vector-, potencia)`:"
   ]
  },
  {
   "cell_type": "code",
   "execution_count": null,
   "metadata": {},
   "outputs": [],
   "source": [
    "import numpy as np\n",
    "\n",
    "..."
   ]
  },
  {
   "cell_type": "markdown",
   "metadata": {},
   "source": [
    "Algunos módulos como **Numpy** saben como aplicar operaciones o funciones a cada elemento de una lista, array o serie, así que tampoco hay que hacerlo usando map, for o listas de compresión, a menos que la operación no exista y no sea posible construirla con las operaciones básicas, por ejemplo si necesitaras aplicar la siguiente fórmula a cada elemento de la serie ¿sería posible?"
   ]
  },
  {
   "cell_type": "markdown",
   "metadata": {},
   "source": [
    "Realiza la siguiente operación para cada elemento de la serie: x^2 - x + 1"
   ]
  },
  {
   "cell_type": "code",
   "execution_count": null,
   "metadata": {},
   "outputs": [],
   "source": [
    "..."
   ]
  },
  {
   "cell_type": "markdown",
   "metadata": {},
   "source": [
    "---\n",
    "---"
   ]
  },
  {
   "cell_type": "markdown",
   "metadata": {},
   "source": [
    "## Reto 1: Funciones vectorizadas\n",
    "\n",
    "### 1. Objetivos:\n",
    "    - Practicar el uso de funciones vectorizadas\n",
    " \n",
    "### 2. Desarrollo:"
   ]
  },
  {
   "cell_type": "markdown",
   "metadata": {},
   "source": [
    "#### a) Porcentaje del total\n",
    "\n",
    "Eres maestro en la H. Universidad de las Américas Unidas. Has realizado el examen final de la primera generación de estudiantes de la escuela. El conteo máximo de aciertos en el examen era de 68 (es decir, 68 aciertos equivale al 100% de las preguntas respondidas correctamente). La siguiente `Serie` reúne los aciertos obtenidos por los 25 alumnos de la generación:"
   ]
  },
  {
   "cell_type": "code",
   "execution_count": null,
   "metadata": {},
   "outputs": [],
   "source": [
    "import numpy as np"
   ]
  },
  {
   "cell_type": "code",
   "execution_count": null,
   "metadata": {},
   "outputs": [],
   "source": [
    "aciertos = pd.Series([50, 55, 45, 65, 66, 46, 48, 53, 55, 56, 59, 68, 67, 60, 45, 56, 66, 64,\n",
    "    59, 55, 34, 45, 49, 48, 55])"
   ]
  },
  {
   "cell_type": "markdown",
   "metadata": {},
   "source": [
    "Tus calificaciones las das siempre en \"porcentaje de aciertos\". Tu reto es convertir la `Serie` `aciertos` en la `Serie` `porcentajes`, que contiene cada valor de `aciertos` como un porcentaje del número de aciertos totales (68).\n",
    "\n",
    "**SÓLO** puedes usar funciones vectorizadas de `numpy` para realizar tus cálculos ([Aquí puedes encontrar las funciones que necesitas](https://www.interactivechaos.com/manual/tutorial-de-numpy/funciones-universales-matematicas)) ."
   ]
  },
  {
   "cell_type": "code",
   "execution_count": null,
   "metadata": {},
   "outputs": [],
   "source": [
    "# Si necesitas realizar más operaciones o más variables agrégalas aquí abajo\n",
    "\n",
    "porcentajes = \n",
    "\n",
    "porcentajes"
   ]
  },
  {
   "cell_type": "markdown",
   "metadata": {},
   "source": [
    "A continuación la celda de validación ..."
   ]
  },
  {
   "cell_type": "code",
   "execution_count": null,
   "metadata": {},
   "outputs": [],
   "source": [
    "def obtener_calificaciones(aciertos, porcentajes):\n",
    "    \n",
    "    import numpy as np\n",
    "    \n",
    "    datos_1 = [73.52941176470588, 80.88235294117646, 66.17647058823529, 95.58823529411765, 97.05882352941177, 67.6470588235294, 70.58823529411765, 77.94117647058823, 80.88235294117646, 82.3529411764706, 86.76470588235294, 100.0, 98.52941176470588, 88.23529411764706, 66.17647058823529, 82.3529411764706, 97.05882352941177, 94.11764705882354, 86.76470588235294, 80.88235294117646, 50.0, 66.17647058823529, 72.05882352941177, 70.58823529411765, 80.88235294117646]\n",
    "        \n",
    "    titulo = \"== Calificaciones finales ==\"\n",
    "    linea = lambda: print(\"-\" * 41)\n",
    "    vf = lambda valor, i: f\"{valor: 22.2f}%\" if valor == datos_1[i] else f\"Error: {valor:22.2f}% | Valor esperado: {datos_1[i]:22.2f}%\"\n",
    "    f = lambda valor, i: f\"{valor:22}\" if type(valor) == str else vf(valor, i-1)\n",
    "    fila = lambda idalum, porcentaje: print(f'{idalum:15} | {f(porcentaje, idalum)}')\n",
    "\n",
    "    print(f\"{titulo:^41}\")\n",
    "    linea()\n",
    "    fila(\"Id de alumno\", \"Procentaje de aciertos\")\n",
    "    linea()\n",
    "    for i, p in enumerate(porcentajes, 1):\n",
    "        fila(i, p)\n",
    "    linea()\n",
    "        \n",
    "obtener_calificaciones(aciertos, porcentajes)"
   ]
  }
 ],
 "metadata": {
  "kernelspec": {
   "display_name": "Python 3",
   "language": "python",
   "name": "python3"
  },
  "language_info": {
   "codemirror_mode": {
    "name": "ipython",
    "version": 3
   },
   "file_extension": ".py",
   "mimetype": "text/x-python",
   "name": "python",
   "nbconvert_exporter": "python",
   "pygments_lexer": "ipython3",
   "version": "3.7.4"
  }
 },
 "nbformat": 4,
 "nbformat_minor": 4
}
