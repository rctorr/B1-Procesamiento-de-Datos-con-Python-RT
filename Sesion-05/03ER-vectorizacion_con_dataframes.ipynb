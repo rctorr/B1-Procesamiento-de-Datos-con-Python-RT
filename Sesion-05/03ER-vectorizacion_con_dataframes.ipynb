{
 "cells": [
  {
   "cell_type": "markdown",
   "metadata": {},
   "source": [
    "## Ejemplo 3: Funciones vectorizadas y agregaciones con `DataFrames`\n",
    "\n",
    "### 1. Objetivos:\n",
    "    - Aprender cómo usar Funciones vectorizadas y agregaciones aplicadas a `DataFrames` completos\n",
    " \n",
    "### 2. Desarrollo:"
   ]
  },
  {
   "cell_type": "code",
   "execution_count": null,
   "metadata": {},
   "outputs": [],
   "source": [
    "import pandas as pd"
   ]
  },
  {
   "cell_type": "markdown",
   "metadata": {},
   "source": [
    "Tenemos los siguientes datos y su correspondiente DataFrame:"
   ]
  },
  {
   "cell_type": "code",
   "execution_count": null,
   "metadata": {},
   "outputs": [],
   "source": [
    "datos = {\n",
    "    'precio': [34, 54, 223, 78, 56, 12, 34],\n",
    "    'cantidad_en_stock': [3, 6, 10, 2, 5, 45, 2],\n",
    "    'productos_vendidos': [3, 45, 23, 76, 24, 6, 2]\n",
    "}\n",
    "\n",
    "df = pd.DataFrame(datos,\n",
    "    index=[\"Pokemaster\", \"Cegatron\", \"Pikame Mucho\",\n",
    "           \"Lazarillo de Tormes\", \"Stevie Wonder\",\n",
    "           \"Needle\", \"El AyMeDuele\"])"
   ]
  },
  {
   "cell_type": "code",
   "execution_count": null,
   "metadata": {},
   "outputs": [],
   "source": [
    "df"
   ]
  },
  {
   "cell_type": "markdown",
   "metadata": {},
   "source": [
    "Si aplicamos operaciones aritméticas a nuestro `DataFrame` la operación se aplicará elemento por elemento a nuestro `DataFrame` completo, por ejemplo multiplica por 100 todos los valores del DataFrame:"
   ]
  },
  {
   "cell_type": "code",
   "execution_count": null,
   "metadata": {},
   "outputs": [],
   "source": [
    "..."
   ]
  },
  {
   "cell_type": "markdown",
   "metadata": {},
   "source": [
    "Ahora suma 100 y divide por 2:"
   ]
  },
  {
   "cell_type": "code",
   "execution_count": null,
   "metadata": {},
   "outputs": [],
   "source": [
    "..."
   ]
  },
  {
   "cell_type": "markdown",
   "metadata": {},
   "source": [
    "Eleva al cuadrado todos los valores del DataFrame"
   ]
  },
  {
   "cell_type": "code",
   "execution_count": null,
   "metadata": {},
   "outputs": [],
   "source": [
    "..."
   ]
  },
  {
   "cell_type": "markdown",
   "metadata": {},
   "source": [
    "También podemos aplicar funciones vectorizadas con el mismo resultado:"
   ]
  },
  {
   "cell_type": "code",
   "execution_count": null,
   "metadata": {},
   "outputs": [],
   "source": [
    "import numpy as np"
   ]
  },
  {
   "cell_type": "markdown",
   "metadata": {},
   "source": [
    "Eleva al cuadrado usando la función vectorizadas de NumPy `np.power(-dataframe-,-potencia-)`:"
   ]
  },
  {
   "cell_type": "code",
   "execution_count": null,
   "metadata": {},
   "outputs": [],
   "source": [
    "..."
   ]
  },
  {
   "cell_type": "markdown",
   "metadata": {},
   "source": [
    "O se puede obtener la raíz cuadrada usando la función vectorizadas de NumPy `np.sqrt(-dataframe-)`:"
   ]
  },
  {
   "cell_type": "code",
   "execution_count": null,
   "metadata": {},
   "outputs": [],
   "source": [
    "..."
   ]
  },
  {
   "cell_type": "markdown",
   "metadata": {},
   "source": [
    "También se puede aplicar la siguiente fórmula a todos los elementos `sen(x) + 100`:"
   ]
  },
  {
   "cell_type": "code",
   "execution_count": null,
   "metadata": {},
   "outputs": [],
   "source": [
    "..."
   ]
  },
  {
   "cell_type": "markdown",
   "metadata": {},
   "source": [
    "Si usamos agregaciones, las agregaciones se hacen de manera automática por columna, por ejemplo `dataframe.sum()`:"
   ]
  },
  {
   "cell_type": "code",
   "execution_count": null,
   "metadata": {},
   "outputs": [],
   "source": [
    "..."
   ]
  },
  {
   "cell_type": "markdown",
   "metadata": {},
   "source": [
    "Ahora guardemos el resultado en la variable `suma_columnas`:"
   ]
  },
  {
   "cell_type": "code",
   "execution_count": null,
   "metadata": {},
   "outputs": [],
   "source": [
    "suma_columnas = ..."
   ]
  },
  {
   "cell_type": "markdown",
   "metadata": {},
   "source": [
    "Y si aplicamos nuevamente la suma al resultado anterior que es una Serie de Pandas:"
   ]
  },
  {
   "cell_type": "code",
   "execution_count": null,
   "metadata": {},
   "outputs": [],
   "source": [
    "suma_columnas..."
   ]
  },
  {
   "cell_type": "markdown",
   "metadata": {},
   "source": [
    "O se podría aplicar de forma secuencial `dataframe.sum().sum()`:"
   ]
  },
  {
   "cell_type": "code",
   "execution_count": null,
   "metadata": {},
   "outputs": [],
   "source": [
    "..."
   ]
  },
  {
   "cell_type": "markdown",
   "metadata": {},
   "source": [
    "Aunque podemos cambiar ese comportamiento usando `dataframe.sum(axis=1)` para hacerlo por filas:"
   ]
  },
  {
   "cell_type": "code",
   "execution_count": null,
   "metadata": {},
   "outputs": [],
   "source": [
    "..."
   ]
  },
  {
   "cell_type": "markdown",
   "metadata": {},
   "source": [
    "Todas las demás agregaciones funcionan también. El default (o `axis=0`) es hacerlo por columna, pero todas pueden funcionar por fila usando `axis=1`, por ejemplo se puede obtener el mínimo de cada columna usando:\n",
    "\n",
    "    dataframe.min(axis=0)\n",
    "    \n",
    "o por filas haciendo:\n",
    "\n",
    "    dataframe.min(axis=1)\n"
   ]
  },
  {
   "cell_type": "code",
   "execution_count": null,
   "metadata": {},
   "outputs": [],
   "source": [
    "..."
   ]
  },
  {
   "cell_type": "code",
   "execution_count": null,
   "metadata": {},
   "outputs": [],
   "source": [
    "..."
   ]
  },
  {
   "cell_type": "markdown",
   "metadata": {},
   "source": [
    "---\n",
    "---"
   ]
  },
  {
   "cell_type": "markdown",
   "metadata": {},
   "source": [
    "## Reto 3: Agregaciones con `DataFrames`\n",
    "\n",
    "### 1. Objetivos:\n",
    "    - Aplicar agregaciones a `DataFrames` completos para obtener un análisis estadístico\n",
    " \n",
    "### 2. Desarrollo:"
   ]
  },
  {
   "cell_type": "markdown",
   "metadata": {},
   "source": [
    "#### a) Análisis estadístico con agregaciones\n",
    "\n",
    "Eres el Analista de Datos de EyePoker Inc. Te han pedido que realices ciertas agregaciones con un conjunto de datos para poder realizar un análisis estadístico básico de los datos que hay dentro.\n",
    "\n",
    "El conjunto de datos es el siguiente:"
   ]
  },
  {
   "cell_type": "code",
   "execution_count": null,
   "metadata": {},
   "outputs": [],
   "source": [
    "import pandas as pd"
   ]
  },
  {
   "cell_type": "code",
   "execution_count": null,
   "metadata": {},
   "outputs": [],
   "source": [
    "datos = {\n",
    "    'producto': [\"Pokemaster\", \"Cegatron\", \"Pikame Mucho\", \"Lazarillo de Tormes\", \"Stevie Wonder\", \"Needle\", \"El AyMeDuele\", \"El Desretinador\", \"Sacamel Ojocles\", \"Desojado\", \"Maribel Buenas Noches\", \"Cíclope\", \"El Cuatro Ojos\"],\n",
    "    'precio': [12000, 5500, 2350, 4800, 8900, 6640, 1280, 1040, 23100, 16700, 15000, 13400, 19600],\n",
    "    'cantidad_en_stock': [34, 54, 36, 78, 56, 12, 34, 4, 0, 18, 45, 23, 5],\n",
    "    'cantidad_vendidos': [120, 34, 59, 9, 15, 51, 103, 72, 39, 23, 10, 62, 59]\n",
    "}\n",
    "\n",
    "df = pd.DataFrame(datos)"
   ]
  },
  {
   "cell_type": "code",
   "execution_count": null,
   "metadata": {},
   "outputs": [],
   "source": [
    "df"
   ]
  },
  {
   "cell_type": "markdown",
   "metadata": {},
   "source": [
    "Tu tarea es muy simple. Usando métodos de agregación, asigna las variables de la siguiente celda con los resultados de agregar nuestro `DataFrame` **por columna** usando cada una de las medidas estadísticas. Algunas de los métodos ya los conoces. Los que no, [puedes encontrarlos en este link](https://www.interactivechaos.com/manual/tutorial-de-pandas/dataframes-metodos-de-agregacion-y-estadistica). Lo que queremos obtener es una `Serie` con los nombres de las columnas como índice y las agregaciones por columna como valores. Una de las columnas que tenemos en el `DataFrame` no se presta para realizar análisis numéricos, elimínala antes de realizar tu análisis y asigna el resultado a la variable `df_droppped`.\n",
    "\n",
    "**Sólo** utiliza funciones de agregación para tu análisis. En este caso no requieres hacer ninguna operación aritmética."
   ]
  },
  {
   "cell_type": "code",
   "execution_count": null,
   "metadata": {},
   "outputs": [],
   "source": [
    "# Eliminando columna\n",
    "df_dropped = ...\n",
    "\n",
    "df_dropped"
   ]
  },
  {
   "cell_type": "code",
   "execution_count": null,
   "metadata": {},
   "outputs": [],
   "source": [
    "# El valor mínimo de cada columna\n",
    "...\n",
    "\n",
    "mins"
   ]
  },
  {
   "cell_type": "code",
   "execution_count": null,
   "metadata": {},
   "outputs": [],
   "source": [
    "# El valor máximo de cada columna\n",
    "...\n",
    "\n",
    "maxs"
   ]
  },
  {
   "cell_type": "code",
   "execution_count": null,
   "metadata": {},
   "outputs": [],
   "source": [
    "# El promedio por columna\n",
    "...\n",
    "\n",
    "media"
   ]
  },
  {
   "cell_type": "code",
   "execution_count": null,
   "metadata": {},
   "outputs": [],
   "source": [
    "# La mediana por columna (El valor que se encuentra a la mitad de la secuencia ordenada de valores)\n",
    "...\n",
    "\n",
    "mediana"
   ]
  },
  {
   "cell_type": "code",
   "execution_count": null,
   "metadata": {},
   "outputs": [],
   "source": [
    "# La desviación estándar por columna\n",
    "...\n",
    "\n",
    "stds"
   ]
  },
  {
   "cell_type": "markdown",
   "metadata": {},
   "source": [
    "Y la celda de verificación ..."
   ]
  },
  {
   "cell_type": "code",
   "execution_count": null,
   "metadata": {},
   "outputs": [],
   "source": [
    "def resumen_estadistico(df, df_dropped, mins, maxs, means, medians, stds):\n",
    "    \n",
    "    import pandas as pd\n",
    "    f = lambda x: \"\".join([chr(int(x[i:i+2], 16)) for i in range(0, len(x), 2)])\n",
    "    datos_1 = [\"64662E64726F7028636F6C756D6E733D5B2770726F647563746F275D29\", \"64665F64726F707065642E6D696E28617869733D3029\", \"64665F64726F707065642E6D617828617869733D3029\", \"64665F64726F707065642E6D65616E28617869733D3029\", \"64665F64726F707065642E6D656469616E28617869733D3029\", \"64665F64726F707065642E73746428617869733D3029\"]\n",
    "    error = False\n",
    "    \n",
    "    df_eva = eval(f(datos_1[0]))\n",
    "    if not df_eva.equals(df_dropped):\n",
    "        print(f'La columna no-numérica no fue eliminada correctamente... Por favor inténtalo de nuevo')\n",
    "        error = True\n",
    "        \n",
    "    df_eva = eval(f(datos_1[1]))\n",
    "    if not df_eva.equals(mins):\n",
    "        print(f'El valor mínimo no fue computado adecuadamente... Por favor inténtalo de nuevo')\n",
    "        error = True\n",
    "        \n",
    "    df_eva = eval(f(datos_1[2]))\n",
    "    if not df_eva.equals(maxs):\n",
    "        print(f'El valor máximo no fue computado adecuadamente... Por favor inténtalo de nuevo')\n",
    "        error = True\n",
    "        \n",
    "    df_eva = eval(f(datos_1[3]))\n",
    "    if not df_eva.equals(means):\n",
    "        print(f'El promedio no fue computado adecuadamente... Por favor inténtalo de nuevo')\n",
    "        error = True\n",
    "    \n",
    "    df_eva = eval(f(datos_1[4]))\n",
    "    if not df_eva.equals(medians):\n",
    "        print(f'La mediana no fue computada adecuadamente... Por favor inténtalo de nuevo')\n",
    "        error = True\n",
    "        \n",
    "    df_eva = eval(f(datos_1[5]))\n",
    "    if not df_eva.equals(stds):\n",
    "        print(f'La desviación estándar no fue computada adecuadamente... Por favor inténtalo de nuevo')\n",
    "        error = True\n",
    "    \n",
    "    if not error:\n",
    "        rango = maxs - mins\n",
    "        mins.name = 'Min'\n",
    "        maxs.name = 'Max'\n",
    "        rango.name = 'Rango'\n",
    "        means.name = 'Promedio'\n",
    "        medians.name = 'Mediana'\n",
    "        stds.name = 'Std'\n",
    "        \n",
    "        resumen = pd.concat([mins, maxs, rango, means, medians, stds], axis=1)\n",
    "        print(resumen)\n",
    "        \n",
    "resumen_estadistico(df, df_dropped, mins, maxs, media, mediana, stds)"
   ]
  },
  {
   "cell_type": "code",
   "execution_count": null,
   "metadata": {},
   "outputs": [],
   "source": []
  }
 ],
 "metadata": {
  "kernelspec": {
   "display_name": "Python 3",
   "language": "python",
   "name": "python3"
  },
  "language_info": {
   "codemirror_mode": {
    "name": "ipython",
    "version": 3
   },
   "file_extension": ".py",
   "mimetype": "text/x-python",
   "name": "python",
   "nbconvert_exporter": "python",
   "pygments_lexer": "ipython3",
   "version": "3.7.4"
  }
 },
 "nbformat": 4,
 "nbformat_minor": 4
}
