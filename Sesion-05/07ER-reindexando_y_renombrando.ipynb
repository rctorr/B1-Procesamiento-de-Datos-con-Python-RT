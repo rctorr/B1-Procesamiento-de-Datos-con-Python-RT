{
 "cells": [
  {
   "cell_type": "markdown",
   "metadata": {},
   "source": [
    "## Ejemplo 7: Reindexando y renombrando columnas\n",
    "\n",
    "### 1. Objetivos:\n",
    "    - Limpiar un poco más nuestro dataset asignándole un índice y nombres de columnas apropiadas\n",
    " \n",
    "---\n",
    "    \n",
    "### 2. Desarrollo:"
   ]
  },
  {
   "cell_type": "markdown",
   "metadata": {},
   "source": [
    "Limpiemos nuestro dataset hasta que esté justo como lo dejamos en el Ejemplo pasado:"
   ]
  },
  {
   "cell_type": "code",
   "execution_count": null,
   "metadata": {},
   "outputs": [],
   "source": [
    "import pandas as pd"
   ]
  },
  {
   "cell_type": "code",
   "execution_count": null,
   "metadata": {},
   "outputs": [],
   "source": [
    "df = pd.read_csv('../../Datasets/melbourne_housing-raw.csv')"
   ]
  },
  {
   "cell_type": "code",
   "execution_count": null,
   "metadata": {},
   "outputs": [],
   "source": [
    "df_2 = df.drop(columns=['BuildingArea', 'YearBuilt'])"
   ]
  },
  {
   "cell_type": "code",
   "execution_count": null,
   "metadata": {},
   "outputs": [],
   "source": [
    "df_2['Regionname'] = df_2['Regionname'].fillna('Unknown')"
   ]
  },
  {
   "cell_type": "code",
   "execution_count": null,
   "metadata": {},
   "outputs": [],
   "source": [
    "df_dropped = df_2.dropna(axis=0, how='any')"
   ]
  },
  {
   "cell_type": "code",
   "execution_count": null,
   "metadata": {},
   "outputs": [],
   "source": [
    "df_dropped"
   ]
  },
  {
   "cell_type": "markdown",
   "metadata": {},
   "source": [
    "Ahora, tenemos dos situaciones:\n",
    "\n",
    "1. La primera es que nuestro índice no coincide con el número de filas que tenemos. En este caso, dado que nuestro índice es secuencial y numérico, y no tiene ningún significado además de eso, nos convendría que reflejara la cantidad de filas que tenemos en nuestro dataset.\n",
    "\n",
    "Para lograr eso vamos a usar el método `reset_index()`:"
   ]
  },
  {
   "cell_type": "code",
   "execution_count": null,
   "metadata": {},
   "outputs": [],
   "source": [
    "..."
   ]
  },
  {
   "cell_type": "markdown",
   "metadata": {},
   "source": [
    "Nuestro índice ya está correcto, pero ahora tenemos un columna llamada `index` que contiene el índice original. Como no queremos guardar esos datos, agregamos la opción `drop=True` para eliminar el índice anterior:"
   ]
  },
  {
   "cell_type": "code",
   "execution_count": null,
   "metadata": {},
   "outputs": [],
   "source": [
    "..."
   ]
  },
  {
   "cell_type": "markdown",
   "metadata": {},
   "source": [
    "Guardemos nuestros cambios en otra variable:"
   ]
  },
  {
   "cell_type": "code",
   "execution_count": null,
   "metadata": {},
   "outputs": [],
   "source": [
    "...\n",
    "\n",
    "df_dropped"
   ]
  },
  {
   "cell_type": "markdown",
   "metadata": {},
   "source": [
    "Ahora tenemos un problema con los nombres de las columnas: Tienen inconsistencias en la manera cómo están nombradas y algunas incluso tienen errores ortográficos. Vamos a cambiarles los nombres para tener consistencia haciendo uso de la función `df.rename(columns=nuevos_nombres)`"
   ]
  },
  {
   "cell_type": "code",
   "execution_count": null,
   "metadata": {},
   "outputs": [],
   "source": [
    "nuevos_nombres = {\n",
    "    'Suburb': 'suburb',\n",
    "    'Address': 'address',\n",
    "    'Rooms': 'rooms',\n",
    "    'Type': 'type',\n",
    "    'Price': 'price',\n",
    "    'Method': 'method',\n",
    "    'SellerG': 'seller_g',\n",
    "    'Date': 'date',\n",
    "    'Distance': 'distance',\n",
    "    'Postcode': 'post_code',\n",
    "    'Bedroom2': 'bedrooms',\n",
    "    'Bathroom': 'bathroom',\n",
    "    'Car': 'car',\n",
    "    'Landsize': 'land_size',\n",
    "    'CouncilArea': 'council_area',\n",
    "    'Lattitude': 'latitude',\n",
    "    'Longtitude': 'longitude',\n",
    "    'Regionname': 'region_name',\n",
    "    'Propertycount': 'property_count'\n",
    "}"
   ]
  },
  {
   "cell_type": "code",
   "execution_count": null,
   "metadata": {},
   "outputs": [],
   "source": [
    "...\n",
    "\n",
    "df_nuevo"
   ]
  },
  {
   "cell_type": "markdown",
   "metadata": {},
   "source": [
    "Finalmente guardamos nuestros resultados en un archivos CSV:"
   ]
  },
  {
   "cell_type": "code",
   "execution_count": null,
   "metadata": {},
   "outputs": [],
   "source": [
    "..."
   ]
  },
  {
   "cell_type": "markdown",
   "metadata": {},
   "source": [
    "¡Listo! Nuestro dataset va agarrando forma."
   ]
  },
  {
   "cell_type": "markdown",
   "metadata": {},
   "source": [
    "---\n",
    "---"
   ]
  },
  {
   "cell_type": "markdown",
   "metadata": {},
   "source": [
    "## Reto 7: Limpiando un dataset\n",
    "\n",
    "### 1. Objetivos:\n",
    "    - Aplicar todo lo que aprendimos el día de hoy a un dataset real\n",
    " \n",
    "### 2. Desarrollo:"
   ]
  },
  {
   "cell_type": "markdown",
   "metadata": {},
   "source": [
    "#### a) Limpieza de datos en el mundo real\n",
    "\n",
    "Hasta ahora hemos estado realizando ejercicios con datasets dummy (falsos). Ahora vamos a aplicar todo lo que hemos aprendido el día de hoy a un dataset real.\n",
    "\n",
    "El dataset se encuentra en la carpeta [Datasets](../../Datasets/Readme.md) en la raíz del repositorio. El nombre el dataset es 'Datasets/new_york_times_bestsellers-raw.csv'.\n",
    "\n",
    "Lee el dataset usando pandas y realiza las siguientes tareas:\n",
    "\n",
    "1. Ve a este el archivo `Readme.md` de la carpeta `Datasets` para conocer más sobre el dataset y los datos que contiene.\n",
    "2. Explora tu dataset para entender su estructura\n",
    "3. Identifica los `NaNs` en el dataset y dónde se encuentran\n",
    "4. Elimina los `NaNs` de tu dataset\n",
    "5. Resetea tu índice para que sea compatible con el nuevo dataset\n",
    "6. Cambia los nombres de las columnas para que tengan consistencia y no haya errores ortográficos\n",
    "7. Realiza agregaciones (min, man, mean, etc) de las siguientes columnas para conocer mejor la distribución de tus datos:\n",
    "\n",
    "   - a) rank\n",
    "   - b) rank_last_week\n",
    "   - c) week_in_list\n",
    "    \n",
    "Si tienes dudas en algún momento, por favor pídele a la experta que te oriente. Todas las tareas que hay que realizar ya las hemos hecho en otros retos; puedes ir a revisar esos otros ejercicios para recordar.\n",
    "\n",
    "¡Mucha suerte!"
   ]
  },
  {
   "cell_type": "code",
   "execution_count": null,
   "metadata": {},
   "outputs": [],
   "source": []
  }
 ],
 "metadata": {
  "kernelspec": {
   "display_name": "Python 3",
   "language": "python",
   "name": "python3"
  },
  "language_info": {
   "codemirror_mode": {
    "name": "ipython",
    "version": 3
   },
   "file_extension": ".py",
   "mimetype": "text/x-python",
   "name": "python",
   "nbconvert_exporter": "python",
   "pygments_lexer": "ipython3",
   "version": "3.7.4"
  }
 },
 "nbformat": 4,
 "nbformat_minor": 4
}
