{
 "cells": [
  {
   "cell_type": "markdown",
   "metadata": {},
   "source": [
    "## Ejemplo 2: Agregaciones\n",
    "\n",
    "### 1. Objetivos:\n",
    "    - Aprender cómo usar agregaciones para resumir o reducir un arreglo\n",
    " \n",
    "### 2. Desarrollo:"
   ]
  },
  {
   "cell_type": "markdown",
   "metadata": {},
   "source": [
    "Las agregaciones entonces aplican una función a todos los elementos del conjunto y regresan un único valor (talvéz como el sumar o adicionar o agregar todos los elementos fue de las primeras en implementarse heredó el nombre de **agregaciones** al resto de las funciones u operaciones de éste tipo).\n",
    "\n",
    "`Pandas` tiene incluidas bastantes de éstas funciones, así que podemos llamarlas con tan sólo usar un método de nuestra `Serie`."
   ]
  },
  {
   "cell_type": "code",
   "execution_count": null,
   "metadata": {},
   "outputs": [],
   "source": [
    "import pandas as pd"
   ]
  },
  {
   "cell_type": "markdown",
   "metadata": {},
   "source": [
    "Usemos la siguiente serie como ejemplo:"
   ]
  },
  {
   "cell_type": "code",
   "execution_count": null,
   "metadata": {},
   "outputs": [],
   "source": [
    "import random\n",
    "\n",
    "serie = pd.Series([random.randint(1, 1000) for x in range(100)])\n",
    "serie.head(10)"
   ]
  },
  {
   "cell_type": "markdown",
   "metadata": {},
   "source": [
    "En Python ya existe una función llamada `sum(-colección-)` que suma todos los elementos de cualquier colección de Python como una Lista o nuestra Serie:"
   ]
  },
  {
   "cell_type": "code",
   "execution_count": null,
   "metadata": {},
   "outputs": [],
   "source": [
    "..."
   ]
  },
  {
   "cell_type": "markdown",
   "metadata": {},
   "source": [
    "Pero Pandas tiene su propia función optimizada de la forma `serie.sum()`:"
   ]
  },
  {
   "cell_type": "code",
   "execution_count": null,
   "metadata": {},
   "outputs": [],
   "source": [
    "..."
   ]
  },
  {
   "cell_type": "markdown",
   "metadata": {},
   "source": [
    "Y también sus propias funciones `serie.min()` y `serie.max()` nos dan el valor mínimo y máximo respectivamente,  de nuestra serie:"
   ]
  },
  {
   "cell_type": "code",
   "execution_count": null,
   "metadata": {},
   "outputs": [],
   "source": [
    "..."
   ]
  },
  {
   "cell_type": "code",
   "execution_count": null,
   "metadata": {},
   "outputs": [],
   "source": [
    "..."
   ]
  },
  {
   "cell_type": "markdown",
   "metadata": {},
   "source": [
    "También podemos obtener con `serie.count()` el conteo total de elementos en nuestra serie:"
   ]
  },
  {
   "cell_type": "code",
   "execution_count": null,
   "metadata": {},
   "outputs": [],
   "source": [
    "..."
   ]
  },
  {
   "cell_type": "markdown",
   "metadata": {},
   "source": [
    "También podrías usan la función `len(-colección-)` de Python:"
   ]
  },
  {
   "cell_type": "code",
   "execution_count": null,
   "metadata": {},
   "outputs": [],
   "source": [
    "..."
   ]
  },
  {
   "cell_type": "markdown",
   "metadata": {},
   "source": [
    "a estas alturas habrás observado que está la forma tradicional de Python para realizar ciertas tareas y la forma **Pandesca** de resolver esas mismas tareas, pero cual es mejor usar, entonces si a estas alturas aún dudas y sólo has escuchado que Pandas es sólo un **cuento urbano** vamos a calcular la eficiencia de obtener la suma de una colección de 1 millón de números usando listas y series para entonces comparar el resultado de `Python vs Pandas` ..."
   ]
  },
  {
   "cell_type": "code",
   "execution_count": null,
   "metadata": {},
   "outputs": [],
   "source": [
    "import time\n",
    "\n",
    "l1 = range(1000000)  # versión de lista como un generador\n",
    "l2 = list(range(1000000))  # versión de lista con todos sus elementos vivitos en memoria\n",
    "s1 = pd.Series(l1)  # versión Serie construida a partir de un generador\n",
    "s2 = pd.Series(l2)  # versión Serie construida a partir de una lista"
   ]
  },
  {
   "cell_type": "markdown",
   "metadata": {},
   "source": [
    "Primero, obtendremos la suma usando generadores y la función `sum()` de Python y también calculamos el tiempo que se tarda en realizar la operación haciendo uso de la función `time.time()` que regresa la hora actual en milisegundos."
   ]
  },
  {
   "cell_type": "code",
   "execution_count": null,
   "metadata": {},
   "outputs": [],
   "source": [
    "t1 = time.time()  # tiempo actual antes de iniciar el cálculo\n",
    "...\n",
    "t2 = time.time()  # tiempo actual después de realizar el cálculo\n",
    "\n",
    "# Se obtiene la diferencia de tiempos y se convierte en segundos\n",
    "print(f\"{(t2 - t1) * 1000} seg\")"
   ]
  },
  {
   "cell_type": "markdown",
   "metadata": {},
   "source": [
    "Después, obtendremos la suma usando una lista con cada uno de sus elementos y la función `sum()` de Python:"
   ]
  },
  {
   "cell_type": "code",
   "execution_count": null,
   "metadata": {},
   "outputs": [],
   "source": [
    "t1 = time.time()  # tiempo actual antes de iniciar el cálculo\n",
    "...\n",
    "t2 = time.time()  # tiempo actual después de realizar el cálculo\n",
    "\n",
    "# Se obtiene la diferencia de tiempos y se convierte en segundos\n",
    "print(f\"{(t2 - t1) * 1000} seg\")"
   ]
  },
  {
   "cell_type": "markdown",
   "metadata": {},
   "source": [
    "Sigue la suma usando una Serie obtenida a partir de un generador y la función `sum()` de Python (mezclando dos mundos):"
   ]
  },
  {
   "cell_type": "code",
   "execution_count": null,
   "metadata": {},
   "outputs": [],
   "source": [
    "t1 = time.time()  # tiempo actual antes de iniciar el cálculo\n",
    "...\n",
    "t2 = time.time()  # tiempo actual después de realizar el cálculo\n",
    "\n",
    "# Se obtiene la diferencia de tiempos y se convierte en segundos\n",
    "print(f\"{(t2 - t1) * 1000} seg\")"
   ]
  },
  {
   "cell_type": "markdown",
   "metadata": {},
   "source": [
    "Sigue la suma usando una Serie obtenida a partir de una Lista y la función `sum()` de Python (mezclando dos mundos):"
   ]
  },
  {
   "cell_type": "code",
   "execution_count": null,
   "metadata": {},
   "outputs": [],
   "source": [
    "t1 = time.time()  # tiempo actual antes de iniciar el cálculo\n",
    "...\n",
    "t2 = time.time()  # tiempo actual después de realizar el cálculo\n",
    "\n",
    "# Se obtiene la diferencia de tiempos y se convierte en segundos\n",
    "print(f\"{(t2 - t1) * 1000} seg\")"
   ]
  },
  {
   "cell_type": "markdown",
   "metadata": {},
   "source": [
    "Finalmente calculando la suma de ambas series, pero usando función `serie.sum()` de Pandas:"
   ]
  },
  {
   "cell_type": "code",
   "execution_count": null,
   "metadata": {},
   "outputs": [],
   "source": [
    "t1g = time.time()  # tiempo actual antes de iniciar el cálculo\n",
    "...\n",
    "t2g = time.time()  # tiempo actual después de realizar el cálculo\n",
    "\n",
    "t1l = time.time()  # tiempo actual antes de iniciar el cálculo\n",
    "...\n",
    "t2l = time.time()  # tiempo actual después de realizar el cálculo\n",
    "\n",
    "# Se obtiene la diferencia de tiempos y se convierte en segundos\n",
    "print(f\"{(t2g - t1g) * 1000} seg\")\n",
    "print(f\"{(t2l - t1l) * 1000} seg\")"
   ]
  },
  {
   "cell_type": "markdown",
   "metadata": {},
   "source": [
    "Las conclusiones se cuentan solas, o sea, Pandas es bueno, pero puede realizar estas operaciones gracias a hace un uso muy fuerte del módulo **NumPy** que está fuertemente optimizado para realizar este tipo de operaciones, además de todos los demás módulos que acompañan a Pandas."
   ]
  },
  {
   "cell_type": "markdown",
   "metadata": {},
   "source": [
    "---\n",
    "---"
   ]
  },
  {
   "cell_type": "markdown",
   "metadata": {},
   "source": [
    "## Reto 2: Agregaciones\n",
    "\n",
    "### 1. Objetivos:\n",
    "    - Usar funciones vectorizadas y agregaciones para computar la desviación estándar de un conjunto de datos\n",
    " \n",
    "### 2. Desarrollo:"
   ]
  },
  {
   "cell_type": "markdown",
   "metadata": {},
   "source": [
    "#### a) Desviación Estándar\n",
    "\n",
    "La desviación estándar es una medida que nos dice qué tan dispersos están los datos con respecto a la media. Es una de las medidas estadísticas más comunes e importantes. En este reto vamos a calcular la desviación estándar de un conjunto de datos usando funciones vectorizadas y agregaciones"
   ]
  },
  {
   "cell_type": "markdown",
   "metadata": {},
   "source": [
    "Imagina que has realizado un censo en la H. Universidad de las Américas Unidas. Quieres saber qué tanta dispersión de edades hay en la universidad. Dada la naturaleza de la universidad, hay tanto alumnos extremadamente jóvenes (el más joven tiene 15 años) hasta alumnos bastante mayores (el alumno de más edad tiene 52 años). Para saber qué tan dispersas están las edades de los alumnos, vas a usar la desviación estándar.\n",
    "\n",
    "El algoritmo para sacar la desviación estándar es el siguiente:\n",
    "\n",
    "1. Saca el promedio de tu `Serie`. Esto se hace sumando todos tus datos y luego dividiéndolos entre la cantidad de datos (`n`)\n",
    "2. Después toma tu `Serie` y réstale a cada elemento el promedio. De esta manera obtenemos una nueva `Serie` que contiene las diferencias entre cada dato y el promedio.\n",
    "3. Después eleva tu `Serie` al cuadrado. Esto sirve para acentuar a los datos que están más alejados de tu promedio.\n",
    "4. Ahora suma todos los elementos de tu `Serie` y divídelos entre la cantidad de datos de la `Serie` original menos 1 (`n - 1`).\n",
    "5. Por último, saca la raíz cuadrada del valor obtenido: Ésta es tu desviación estándar.\n",
    "\n",
    "La fórmula para calcular la desviación estándar es: `ds = √(Σ(x_i - x_med)²/(n - 1))`\n",
    "\n",
    "Utiliza aritmética con `Series`, funciones vectorizadas y agregaciones para calcular esta estadística.\n",
    "\n",
    "Asigna tu resultado final a la variable `std`."
   ]
  },
  {
   "cell_type": "code",
   "execution_count": null,
   "metadata": {},
   "outputs": [],
   "source": [
    "import pandas as pd"
   ]
  },
  {
   "cell_type": "code",
   "execution_count": null,
   "metadata": {},
   "outputs": [],
   "source": [
    "edades = pd.Series([23, 24, 23, 34, 30, 17, 18, 24, 35, 28, 27,\n",
    "    27, 34, 32, 29, 16, 16, 17, 19, 34, 45, 46, 43, 45, 43, 32,\n",
    "    25, 29, 28, 38, 30, 37, 38, 24, 26, 25, 24, 19, 19, 18, 17,\n",
    "    18, 21, 20, 23, 24, 25, 25, 26, 24, 23, 32, 24, 25, 24, 36,\n",
    "    35, 36, 38, 39, 45, 46, 43, 48, 42, 41, 41, 26, 19, 19, 19,\n",
    "    20, 39, 38, 43, 28, 27, 39, 43, 52, 50, 38, 15, 17, 23, 25,\n",
    "    19, 32, 34, 35, 19, 19, 20, 26, 25, 43, 45, 46, 34, 33, 30,\n",
    "    30, 34, 45, 50, 50, 47, 25, 34, 37, 38, 19, 19, 20, 25, 28,\n",
    "    34, 32, 36, 39, 39, 28, 34, 33, 22, 25, 17, 17, 22, 24, 25,\n",
    "    45, 46, 43, 34, 35, 32, 23])"
   ]
  },
  {
   "cell_type": "code",
   "execution_count": null,
   "metadata": {},
   "outputs": [],
   "source": [
    "## Realiza aquí tus cálculos\n",
    "...\n",
    "\n",
    "std = "
   ]
  },
  {
   "cell_type": "markdown",
   "metadata": {},
   "source": [
    "A continuación tu celda de validación ..."
   ]
  },
  {
   "cell_type": "code",
   "execution_count": null,
   "metadata": {},
   "outputs": [],
   "source": [
    "def comparar_std(edades, std):\n",
    "    print(f'== Comparación Desviaciones Estándares ==\\n')\n",
    "    print(f'Esperada: {edades.std()}\\nRecibida: {std}')\n",
    "    print(f'Cálculo {\"Correcto... Felicidades!\" if edades.std() == std else \"Incorrecto... Intenta de nuevo\"}')\n",
    "    \n",
    "comparar_std(edades, std)"
   ]
  }
 ],
 "metadata": {
  "kernelspec": {
   "display_name": "Python 3",
   "language": "python",
   "name": "python3"
  },
  "language_info": {
   "codemirror_mode": {
    "name": "ipython",
    "version": 3
   },
   "file_extension": ".py",
   "mimetype": "text/x-python",
   "name": "python",
   "nbconvert_exporter": "python",
   "pygments_lexer": "ipython3",
   "version": "3.7.4"
  }
 },
 "nbformat": 4,
 "nbformat_minor": 4
}
