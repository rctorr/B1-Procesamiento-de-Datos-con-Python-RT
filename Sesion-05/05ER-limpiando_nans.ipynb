{
 "cells": [
  {
   "cell_type": "markdown",
   "metadata": {},
   "source": [
    "## Ejemplo 5: Limpiando nans\n",
    "\n",
    "### 1. Objetivos:\n",
    "    - Aprender a limpiar NaNs por filas\n",
    "    - Aprender a limpiar NaNs por columnas\n",
    "    - Aprender a llenar NaNs con otros valores útiles\n",
    " \n",
    "---\n",
    "    \n",
    "### 2. Desarrollo:"
   ]
  },
  {
   "cell_type": "markdown",
   "metadata": {},
   "source": [
    "### 1) Limpiando NaNs por filas\n",
    "\n",
    "Tenemos el siguiente dataset"
   ]
  },
  {
   "cell_type": "code",
   "execution_count": null,
   "metadata": {},
   "outputs": [],
   "source": [
    "import pandas as pd\n",
    "import numpy as np"
   ]
  },
  {
   "cell_type": "code",
   "execution_count": null,
   "metadata": {},
   "outputs": [],
   "source": [
    "datos = {\n",
    "    'precio': [34, 54, np.nan, np.nan, 56, 12, 34],\n",
    "    'cantidad_en_stock': [3, 6, 14, np.nan, 5, 2, 10],\n",
    "    'productos_vendidos': [3, 45, 23, np.nan, 24, 6, np.nan]\n",
    "}\n",
    "\n",
    "df = pd.DataFrame(datos, index=[\"Pokemaster\", \"Cegatron\", \"Pikame Mucho\", \"Lazarillo de Tormes\", \"Stevie Wonder\", \"Needle\", \"El AyMeDuele\"])"
   ]
  },
  {
   "cell_type": "code",
   "execution_count": null,
   "metadata": {},
   "outputs": [],
   "source": [
    "df"
   ]
  },
  {
   "cell_type": "markdown",
   "metadata": {},
   "source": [
    "Para limpiar las filas que tengan mínimo 1 valor `NaN`, se utiliza `dataframe.dropna(axis=0, how='any')`:"
   ]
  },
  {
   "cell_type": "code",
   "execution_count": null,
   "metadata": {},
   "outputs": [],
   "source": [
    "..."
   ]
  },
  {
   "cell_type": "markdown",
   "metadata": {},
   "source": [
    "Con el `axis=0` le estamos diciendo que queremos eliminar por filas. Con `how='any'` le decimos que queremos eliminar cualquier fila que tenga mínimo un `NaN`."
   ]
  },
  {
   "cell_type": "markdown",
   "metadata": {},
   "source": [
    "Si quisiéramos eliminar sólo las filas donde **todos** los valores sean `NaN`, podemos usar `how='all'`:"
   ]
  },
  {
   "cell_type": "code",
   "execution_count": null,
   "metadata": {},
   "outputs": [],
   "source": [
    "..."
   ]
  },
  {
   "cell_type": "markdown",
   "metadata": {},
   "source": [
    "Estos resultados no se aplican directamente al `DataFrame` original, es sólo una vista del resultado, así que para que los resultados persistan los tenemos que asignarlos a otra variable:"
   ]
  },
  {
   "cell_type": "code",
   "execution_count": null,
   "metadata": {},
   "outputs": [],
   "source": [
    "df1 = ...\n",
    "\n",
    "df1"
   ]
  },
  {
   "cell_type": "markdown",
   "metadata": {},
   "source": [
    "### Limpiando NaNs por columnas\n",
    "\n",
    "Primero, agregamos una columna llamada `Descuentos` de `NaNs` de tipo numérico usando el valor nulo del módulo **NumPy** de la forma:\n",
    "\n",
    "    dataframe[-nombre de columna-] = np.nan"
   ]
  },
  {
   "cell_type": "code",
   "execution_count": null,
   "metadata": {},
   "outputs": [],
   "source": [
    "..."
   ]
  },
  {
   "cell_type": "code",
   "execution_count": null,
   "metadata": {},
   "outputs": [],
   "source": [
    "df"
   ]
  },
  {
   "cell_type": "markdown",
   "metadata": {},
   "source": [
    "Al igual que por filas, eliminar `NaNs` por columna también se puede hacer usando `any`y `all`, la única diferencia es que ahora hay que usar `axis=1` para que se haga la eliminación por columnas:"
   ]
  },
  {
   "cell_type": "code",
   "execution_count": null,
   "metadata": {},
   "outputs": [],
   "source": [
    "...  # eliminando columnas que tengan almenos un NaN"
   ]
  },
  {
   "cell_type": "code",
   "execution_count": null,
   "metadata": {},
   "outputs": [],
   "source": [
    "...  # eliminando columnas donde todos los valores son NaN"
   ]
  },
  {
   "cell_type": "markdown",
   "metadata": {},
   "source": [
    "### Llenando NaNs con valores\n",
    "\n",
    "Otra cosa que podemos hacer es llenar o remplazar los valores `NaN` con algún otro valor.\n",
    "\n",
    "Por ejemplo, partiendo de los valores del DataFrame `df`:"
   ]
  },
  {
   "cell_type": "code",
   "execution_count": null,
   "metadata": {},
   "outputs": [],
   "source": [
    "df"
   ]
  },
  {
   "cell_type": "markdown",
   "metadata": {},
   "source": [
    "Lo primero que hay que hacer es eliminar filas y columnas donde **todos** los valores sean `NaN`, puesto que no nos sirven de nada:"
   ]
  },
  {
   "cell_type": "code",
   "execution_count": null,
   "metadata": {},
   "outputs": [],
   "source": [
    "df_no_nans = ...   # elimnar filas donde todos los valores son NaNs\n",
    "\n",
    "df_no_nans"
   ]
  },
  {
   "cell_type": "code",
   "execution_count": null,
   "metadata": {},
   "outputs": [],
   "source": [
    "df_no_nans = ...  # eliminar columnas donde todos los valores son NaNs\n",
    "\n",
    "df_no_nans"
   ]
  },
  {
   "cell_type": "markdown",
   "metadata": {},
   "source": [
    "Ahora, digamos que podemos asumir que si hay un valor `NaN` en \"productos_vendidos\" es porque no ha sido vendido aún. En ese caso podemos rellenar ese `NaN` con cero usando la forma:\n",
    "\n",
    "`dataftrame[-columna-].fillna(-valor-)`"
   ]
  },
  {
   "cell_type": "code",
   "execution_count": null,
   "metadata": {},
   "outputs": [],
   "source": [
    "df_no_nans['productos_vendidos'] = ...\n",
    "\n",
    "df_no_nans"
   ]
  },
  {
   "cell_type": "markdown",
   "metadata": {},
   "source": [
    "Para finalizar, \"precio\" sí es una variable muy importante, así que nos deshacemos de las filas que aún tengan `NaNs` usando `dataframe.dropna(axis=0)`:"
   ]
  },
  {
   "cell_type": "code",
   "execution_count": null,
   "metadata": {},
   "outputs": [],
   "source": [
    "..."
   ]
  },
  {
   "cell_type": "markdown",
   "metadata": {},
   "source": [
    "---\n",
    "---"
   ]
  },
  {
   "cell_type": "markdown",
   "metadata": {},
   "source": [
    "## Reto 5: Identificando y limpiando NaNs\n",
    "\n",
    "### 1. Objetivos:\n",
    "    - Practicar la identificación de NaNs\n",
    "    - Practicar eliminar NaNs de un `DataFrame` usando diferentes técnicas\n",
    " \n",
    "### 2. Desarrollo:"
   ]
  },
  {
   "cell_type": "markdown",
   "metadata": {},
   "source": [
    "#### a) Limpiando un conjunto de datos (Dataset) de NaNs\n",
    "\n",
    "Eres el Data Wrangler de EyePoker Inc. Te han dado el siguiente dataset para que apliques algunas técnicas de procesamiento de datos:"
   ]
  },
  {
   "cell_type": "code",
   "execution_count": null,
   "metadata": {},
   "outputs": [],
   "source": [
    "import pandas as pd\n",
    "import numpy as np\n",
    "\n",
    "pd.options.mode.chained_assignment = None "
   ]
  },
  {
   "cell_type": "code",
   "execution_count": null,
   "metadata": {},
   "outputs": [],
   "source": [
    "datos = {\n",
    "    'precio': [12000, 5500, np.nan, 4800, 8900, np.nan, 1280, 1040, 23100, np.nan, 15000, 13400, np.nan],\n",
    "    'cantidad_en_stock': [34, 54, np.nan, 78, 56, np.nan, 34, 4, 0, 18, 45, 23, 5],\n",
    "    'cantidad_vendidos': [120, 34, np.nan, 9, 15, np.nan, 103, np.nan, np.nan, 23, 10, 62, 59],\n",
    "    'descuentos': [np.nan] * 13\n",
    "}\n",
    "\n",
    "df = pd.DataFrame(datos, index=[\"Pokemaster\", \"Cegatron\", \"Pikame Mucho\", \"Lazarillo de Tormes\", \"Stevie Wonder\", \"Needle\", \"El AyMeDuele\", \"El Desretinador\", \"Sacamel Ojocles\", \"Desojado\", \"Maribel Buenas Noches\", \"Cíclope\", \"El Cuatro Ojos\"])"
   ]
  },
  {
   "cell_type": "code",
   "execution_count": null,
   "metadata": {},
   "outputs": [],
   "source": [
    "df"
   ]
  },
  {
   "cell_type": "markdown",
   "metadata": {},
   "source": [
    "Para poder realizar los análisis y visualizaciones posteriores, te han pedido que elimines los `NaNs` del dataset. Realiza los siguientes pasos para limpiar tu dataset:\n",
    "\n",
    "1. Has un conteo de cuántos `NaNs` hay en cada fila y en cada columna\n",
    "2. Elimina las filas y columnas donde **todos** los valores sean `NaN`.\n",
    "3. Dado que la columna `cantidad_vendidos` no es tan importante, cambia los `NaNs` que haya en esa columna por `0`.\n",
    "4. Dado que la columna `precio` es muy importante, elimina las filas restantes que tengan algún `NaN` en dicha columna.\n",
    "\n",
    "Realiza todas tus transformaciones usando el `DataFrame` `df_copy` para evitar perder el DataFrame original para la validación:"
   ]
  },
  {
   "cell_type": "code",
   "execution_count": null,
   "metadata": {},
   "outputs": [],
   "source": [
    "df_copy = df.copy()\n",
    "\n",
    "## Realiza aquí tus transformaciones sobre df_copy\n",
    "..."
   ]
  },
  {
   "cell_type": "markdown",
   "metadata": {},
   "source": [
    "Y la celda de validación es ..."
   ]
  },
  {
   "cell_type": "code",
   "execution_count": null,
   "metadata": {},
   "outputs": [],
   "source": [
    "def revisar_limpieza(df, df_copy):\n",
    "    datos_1 = [10, 100, 102, 95, 50, 32, 61, 32, 100, 102, 46, 99, 111, 112, 121, 40, 41, 10, 100, 102, 95, 50, 32, 61, 32, 100, 102, 95, 50, 46, 100, 114, 111, 112, 110, 97, 40, 97, 120, 105, 115, 61, 48, 44, 32, 104, 111, 119, 61, 39, 97, 108, 108, 39, 41, 10, 100, 102, 95, 50, 32, 61, 32, 100, 102, 95, 50, 46, 100, 114, 111, 112, 110, 97, 40, 97, 120, 105, 115, 61, 49, 44, 32, 104, 111, 119, 61, 39, 97, 108, 108, 39, 41, 10, 100, 102, 95, 50, 91, 39, 99, 97, 110, 116, 105, 100, 97, 100, 95, 118, 101, 110, 100, 105, 100, 111, 115, 39, 93, 32, 61, 32, 100, 102, 95, 50, 91, 39, 99, 97, 110, 116, 105, 100, 97, 100, 95, 118, 101, 110, 100, 105, 100, 111, 115, 39, 93, 46, 102, 105, 108, 108, 110, 97, 40, 48, 41, 10, 100, 102, 95, 50, 32, 61, 32, 100, 102, 95, 50, 46, 100, 114, 111, 112, 110, 97, 40, 97, 120, 105, 115, 61, 48, 41, 10]\n",
    "    eval(compile(\"\".join([chr(x) for x in datos_1]), \"\", \"exec\"), globals())\n",
    "    if not df_2.equals(df_copy):\n",
    "        print(f'La transformación no fue realizada adecuadamente... Por favor revisa tu procedimiento.\\n')\n",
    "        print(f'DataFrame esperado:\\n')\n",
    "        print(df_2)\n",
    "        \n",
    "        print(f'\\nDataframe obtenido:\\n')\n",
    "        print(df_copy)\n",
    "    else:\n",
    "        print(f'La transformación fue realizada exitosamente... Muchas gracias!')\n",
    "\n",
    "revisar_limpieza(df, df_copy)"
   ]
  }
 ],
 "metadata": {
  "kernelspec": {
   "display_name": "Python 3",
   "language": "python",
   "name": "python3"
  },
  "language_info": {
   "codemirror_mode": {
    "name": "ipython",
    "version": 3
   },
   "file_extension": ".py",
   "mimetype": "text/x-python",
   "name": "python",
   "nbconvert_exporter": "python",
   "pygments_lexer": "ipython3",
   "version": "3.7.4"
  }
 },
 "nbformat": 4,
 "nbformat_minor": 4
}
