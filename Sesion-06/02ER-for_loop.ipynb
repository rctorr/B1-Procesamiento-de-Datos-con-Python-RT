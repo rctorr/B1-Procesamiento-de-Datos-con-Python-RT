{
 "cells": [
  {
   "cell_type": "markdown",
   "metadata": {},
   "source": [
    "## Ejemplo 2: Ciclo For\n",
    "\n",
    "### 1. Objetivos:\n",
    "    - Aprender a usar `ciclos for` para luego poder automatizar procesos\n",
    " \n",
    "### 2. Desarrollo:"
   ]
  },
  {
   "cell_type": "markdown",
   "metadata": {},
   "source": [
    "Los `ciclos for` nos ayudan a automatizar procesos. Básicamente definimos primero sobre qué queremos iterar (o repetir), después definimos una variable (o variables) que van a recibir cada valor de la iteración y luego tenemos el bloque del `for`, que es donde realizamos los procesos a automatizar.\n",
    "\n",
    "Primero vamos a imprimir cada elemento de la lista `[0, 1, 2, 3, 4]` usando `for` y `print()`:"
   ]
  },
  {
   "cell_type": "code",
   "execution_count": null,
   "metadata": {},
   "outputs": [],
   "source": [
    "..."
   ]
  },
  {
   "cell_type": "markdown",
   "metadata": {},
   "source": [
    "Ahora usaremos `range(5)` para generar la misma lista en lugar de escribirla de forma explícita, así que el `for` queda de la siguiente manera:"
   ]
  },
  {
   "cell_type": "code",
   "execution_count": null,
   "metadata": {},
   "outputs": [],
   "source": [
    "..."
   ]
  },
  {
   "cell_type": "markdown",
   "metadata": {},
   "source": [
    "En este punto, vamos a crear una lista de los primeros 50 enteros, pero vamos a construir o llenar la lista usando `for` y la función `append()` y luego imprimimos toda la lista usando `print()`, éste proceso de ir construyendo una lista elemento a elemento es muy común, así que toma nota!"
   ]
  },
  {
   "cell_type": "code",
   "execution_count": null,
   "metadata": {},
   "outputs": [],
   "source": [
    "# 1. Creamos una variable con una lista vacía llamada \"numeros\"\n",
    "# 2. Usamos \"range()\" para generar los números que necesitamos\n",
    "#    y for para ir tomando de uno a uno.\n",
    "# 3.     Usando \"append()\" para ir agregando cada elemento a la lista \"numeros\"\n",
    "# 4.     Regresar al paso 2\n",
    "\n",
    "print(numeros)"
   ]
  },
  {
   "cell_type": "markdown",
   "metadata": {},
   "source": [
    "A veces el uso de `for` y `range()` sólo se usan para contar el número de veces a realizar un bloque de instrucciones, pero el valor obtenido de `range()` no se usa en las operaciones, por ejemplo vamos crear una nueva lista de los números enteros en el rango de 150 al 170 incluyendo ambos extremos:"
   ]
  },
  {
   "cell_type": "code",
   "execution_count": null,
   "metadata": {},
   "outputs": [],
   "source": [
    "# 1. Creamos una variable con una lista vacía llamada \"numeros\"\n",
    "# 2. Creamos una variable x con el valor inicial del rango 150\n",
    "# 3. Usamos \"range()\" para generar una serie de repeticiones junto con for\n",
    "# 4.     Usando \"append()\" para agregar x a la lista \"numeros\"\n",
    "# 5.     Incrementamos el valor de x en 1\n",
    "# 6.     regresar al paso 3\n",
    "\n",
    "print(numeros)"
   ]
  },
  {
   "cell_type": "markdown",
   "metadata": {},
   "source": [
    "Ahora un caso con un diccionario, vamos a imprimir la lista de sólo las llaves usando `for` y la función `diccionario.keys()`:"
   ]
  },
  {
   "cell_type": "code",
   "execution_count": null,
   "metadata": {},
   "outputs": [],
   "source": [
    "dict_1 = {\n",
    "    'a': 1,\n",
    "    'b': 2,\n",
    "    'c': 3,\n",
    "    'd': 4,\n",
    "    'e': 5\n",
    "}"
   ]
  },
  {
   "cell_type": "code",
   "execution_count": null,
   "metadata": {},
   "outputs": [],
   "source": [
    "..."
   ]
  },
  {
   "cell_type": "markdown",
   "metadata": {},
   "source": [
    "---\n",
    "---"
   ]
  },
  {
   "cell_type": "markdown",
   "metadata": {},
   "source": [
    "## Reto 2: Automatizando con `ciclos for`\n",
    "\n",
    "### 1. Objetivos:\n",
    "    - Automatizar un proceso sencillo usando `for`\n",
    " \n",
    "### 2. Desarrollo:"
   ]
  },
  {
   "cell_type": "markdown",
   "metadata": {},
   "source": [
    "### a) Potencias de 2\n",
    "\n",
    "Las potencias de 2 son sumamente importantes en el mundo computacional. Dado que las computadoras trabajan con lenguaje binario, gran parte del funcionamiento interno de las computadoras funciona con potencias de 2. He aquí una pequeña muestra de las primeras potencias de 2:\n",
    "\n",
    "- 2<sup>0</sup> = 1\n",
    "- 2<sup>1</sup> = 2\n",
    "- 2<sup>2</sup> = 4\n",
    "- 2<sup>3</sup> = 8\n",
    "- 2<sup>4</sup> = 16\n",
    "- 2<sup>5</sup> = 32\n",
    "- 2<sup>6</sup> = 64\n",
    "- 2<sup>7</sup> = 128\n",
    "- 2<sup>8</sup> = 256"
   ]
  },
  {
   "cell_type": "markdown",
   "metadata": {},
   "source": [
    "Tu reto es completar la función `potencia_de_dos`. Esta función recibe el exponente (el número pequeño al lado del 2) y regresa el resultado de 2 elevado a esa potencia. El detalle es que no puedes usar ningún operador o función que compute exponentes (como `**` o `np.power`), sino que tienes que realizar el cálculo utilizando 1 `bloque if` y 1 `ciclo for`. Completa el código debajo.\n",
    "\n",
    "> **Nota**: Tu función sólo debe computar exponentes positivos, si el exponente es negativo tiene que regresar el valor de `None`"
   ]
  },
  {
   "cell_type": "code",
   "execution_count": null,
   "metadata": {},
   "outputs": [],
   "source": [
    "def potencia_de_dos(exponente):\n",
    "    \n",
    "    # validar si el exponente es negativo\n",
    "    # validar si el exponente es 0\n",
    "    # Si ya es mayor que 0 entonces calcular la\n",
    "    # potencia con el for.\n",
    "    \n",
    "    resultado = 2\n",
    "            \n",
    "    return resultado"
   ]
  },
  {
   "cell_type": "markdown",
   "metadata": {},
   "source": [
    "Comprueba tu resultado ejecutando la celda inferior ..."
   ]
  },
  {
   "cell_type": "code",
   "execution_count": null,
   "metadata": {},
   "outputs": [],
   "source": [
    "def revisar_potencia_de_dos(potencia_de_dos):\n",
    "    \n",
    "    import numpy as np\n",
    "    error = False\n",
    "    \n",
    "    if potencia_de_dos(0) != np.power(2, 0):\n",
    "        print(f'Error computando 2^0 ... Resultado esperado: {np.power(2, 0)} - Resultado obtenido {potencia_de_dos(0)}')\n",
    "        error = True\n",
    "    \n",
    "    if potencia_de_dos(2) != np.power(2, 2):\n",
    "        print(f'Error computando 2^2 ... Resultado esperado: {np.power(2, 2)} - Resultado obtenido {potencia_de_dos(2)}')\n",
    "        error = True\n",
    "    \n",
    "    if potencia_de_dos(8) != np.power(2, 8):\n",
    "        print(f'Error computando 2^8 ... Resultado esperado: {np.power(2, 8)} - Resultado obtenido {potencia_de_dos(8)}')\n",
    "        error = True\n",
    "    \n",
    "    if potencia_de_dos(16) != np.power(2, 16):\n",
    "        print(f'Error computando 2^16 ... Resultado esperado: {np.power(2, 16)} - Resultado obtenido {potencia_de_dos(16)}')\n",
    "        error = True\n",
    "    \n",
    "    if potencia_de_dos(-16) != None:\n",
    "        print(f'Error computando 2^-16 ... Resultado esperado: {None} - Resultado obtenido {potencia_de_dos(16)}')\n",
    "        error = True\n",
    "    \n",
    "    if potencia_de_dos(56) != np.power(2, 56):\n",
    "        print(f'Error computando 2^256 ... Resultado esperado: {np.power(2, 256)} - Resultado obtenido {potencia_de_dos(256)}')\n",
    "        error = True\n",
    "        \n",
    "    if not error:\n",
    "        print(f'La funcion es correcta!')\n",
    "\n",
    "revisar_potencia_de_dos(potencia_de_dos)"
   ]
  }
 ],
 "metadata": {
  "kernelspec": {
   "display_name": "Python 3",
   "language": "python",
   "name": "python3"
  },
  "language_info": {
   "codemirror_mode": {
    "name": "ipython",
    "version": 3
   },
   "file_extension": ".py",
   "mimetype": "text/x-python",
   "name": "python",
   "nbconvert_exporter": "python",
   "pygments_lexer": "ipython3",
   "version": "3.7.4"
  }
 },
 "nbformat": 4,
 "nbformat_minor": 4
}
