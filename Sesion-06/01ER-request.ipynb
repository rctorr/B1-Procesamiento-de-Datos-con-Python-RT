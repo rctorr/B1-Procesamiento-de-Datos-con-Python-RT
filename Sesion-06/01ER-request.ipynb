{
 "cells": [
  {
   "cell_type": "markdown",
   "metadata": {},
   "source": [
    "## Ejemplo 1: Usando la librería Requests\n",
    "\n",
    "### 1. Objetivos:\n",
    "    - Aprender a usar la librería Requests para hacer peticiones HTTP a una API\n",
    " \n",
    "### 2. Desarrollo:\n",
    "\n",
    "Vamos a implementar un programa que realice una llamada (petición) HTTP a la API de NASA, esta llamada es en realidad una consulta de datos con cierto formato que la API de la NASA entiende para que nos regrese una respuesta con los datos solicitados.\n"
   ]
  },
  {
   "cell_type": "markdown",
   "metadata": {},
   "source": [
    "Lo primero es la instalación del módulo`requests` de Python usando la siguiente celda o desde la terminal, tal como los has realizado antes con el módulo `Pandas`:"
   ]
  },
  {
   "cell_type": "code",
   "execution_count": null,
   "metadata": {},
   "outputs": [],
   "source": [
    "!pip install requests"
   ]
  },
  {
   "cell_type": "markdown",
   "metadata": {},
   "source": [
    "Después a importar los módulos necesarios:"
   ]
  },
  {
   "cell_type": "code",
   "execution_count": null,
   "metadata": {},
   "outputs": [],
   "source": [
    "import pandas as pd\n",
    "import requests"
   ]
  },
  {
   "cell_type": "markdown",
   "metadata": {},
   "source": [
    "Una API puede ofrecer mucha información y en general es organizada por cateogorías o conjuntos de datos y a cada conjunto de datos la API asigna una dirección de tipo URL o link conocidas como endpoint o punto de acceso.\n",
    "\n",
    "Entonces, vamos a realizar consultas para obtener información sobre objetos que orbitan cerca de la Tierra (¡y potencialmente podrían colicionar!). Se pueden ver la documentación [aquí](https://api.nasa.gov/).\n",
    "\n",
    "Ahí podemos ver los puntos de acceso (endpoints) y la manera en la que se usa el API Key. Ve a la página y consigue tu propia Api Key para que puedas realizar los ejercicios."
   ]
  },
  {
   "cell_type": "markdown",
   "metadata": {},
   "source": [
    "Ahora, para empezar, necesitamos nuestro url del punto de acceso y nuestro diccionario con los parámetros de acceso. La URL la podemos obtener al consultar la página en la sección **Browse API** y luego buscando la operación que nos permite realizar una consulta sobre todos los objetos cercanos llamada **Neo Browse** y el link es:\n",
    "\n",
    "    GET https://api.nasa.gov/neo/rest/v1/neo/browse/\n",
    "\n",
    "En cuanto a los parámetros, del ejemplo mostrado adicional a la url se observa que al final existe lo siguiente `?api_key=DEMO_KEY`, todo lo que sigue después del símbolo `?` se puede considerar como parámetros, sin embargo este punto de acceso no está muy bien documentado y veremos en adelante como obtener más parámetros, así que por lo pronto los parámetros serán el `api_key` y usaremos el obtenido al realizar el registro."
   ]
  },
  {
   "cell_type": "code",
   "execution_count": null,
   "metadata": {},
   "outputs": [],
   "source": [
    "url = '...'\n",
    "parametros = {'api_key': '...'}"
   ]
  },
  {
   "cell_type": "markdown",
   "metadata": {},
   "source": [
    "Ambos se los pasamos al método `GET` de `requests` para realizar la petición y enviar los parámetros como información extra que el API necesita usando la forma:\n",
    "\n",
    "`requests.get(-url del punto final-, params=-dict con parámetros-)`\n",
    "\n",
    "Porqué el método `GET` porque así está definido por la API."
   ]
  },
  {
   "cell_type": "code",
   "execution_count": null,
   "metadata": {},
   "outputs": [],
   "source": [
    "respuesta = ..."
   ]
  },
  {
   "cell_type": "markdown",
   "metadata": {},
   "source": [
    "Ahora, podemos leer el estado de la respuesta usando:\n",
    "\n",
    "`mi_respuesta.status_code`"
   ]
  },
  {
   "cell_type": "code",
   "execution_count": null,
   "metadata": {},
   "outputs": [],
   "source": [
    "..."
   ]
  },
  {
   "cell_type": "markdown",
   "metadata": {},
   "source": [
    "Ahora veamos los datos incluídos en la respuesta originalmente en formato json, convertidos a tipos de datos de Python usando el método `mi_respuesta.json()`:"
   ]
  },
  {
   "cell_type": "code",
   "execution_count": null,
   "metadata": {
    "scrolled": true
   },
   "outputs": [],
   "source": [
    "..."
   ]
  },
  {
   "cell_type": "markdown",
   "metadata": {},
   "source": [
    "¡Esa es una respuesta muy larga! Vamos a diseccionarla, primero vamos a asignarla a una variable y vale la pena observar que el tipo de datos principal es un diccionario de Python, entonces asignesmos el resultado a la variable `datos`:"
   ]
  },
  {
   "cell_type": "code",
   "execution_count": null,
   "metadata": {},
   "outputs": [],
   "source": [
    "...\n",
    "\n",
    "print(type(datos))"
   ]
  },
  {
   "cell_type": "markdown",
   "metadata": {},
   "source": [
    "Para conocer cuales son las llaves de un diccionario usamos el método:\n",
    "\n",
    "`diccionario.keys()`\n",
    "\n",
    "y podemos aplicar el método `.keys()` porque la variable `datos` es un diccionario, capichi!"
   ]
  },
  {
   "cell_type": "code",
   "execution_count": null,
   "metadata": {},
   "outputs": [],
   "source": [
    "..."
   ]
  },
  {
   "cell_type": "markdown",
   "metadata": {},
   "source": [
    "Entonces comenzamos a examinar los valores que tienen cada una de las llaves y comenzamos con la llave `links`:"
   ]
  },
  {
   "cell_type": "code",
   "execution_count": null,
   "metadata": {},
   "outputs": [],
   "source": [
    "..."
   ]
  },
  {
   "cell_type": "markdown",
   "metadata": {},
   "source": [
    "Ahora en la llave `page`:"
   ]
  },
  {
   "cell_type": "code",
   "execution_count": null,
   "metadata": {},
   "outputs": [],
   "source": [
    "..."
   ]
  },
  {
   "cell_type": "markdown",
   "metadata": {},
   "source": [
    "Y finalmente en la llave `near_earth_objects`:"
   ]
  },
  {
   "cell_type": "code",
   "execution_count": null,
   "metadata": {
    "scrolled": true
   },
   "outputs": [],
   "source": [
    "..."
   ]
  },
  {
   "cell_type": "markdown",
   "metadata": {},
   "source": [
    "Esta última como el nombre de la llave lo indica, es la lista de objetos en la respuesta obtenida, así que vamos a asignarlos a la variable `objetos`, hay que notar que entonces ahora la variable `objetos` es de tipo `list` de Python, así que podemos acceder a los elementos por índices numéricos de forma ordenada, entonce obtengamos sólo el primer elemento:"
   ]
  },
  {
   "cell_type": "code",
   "execution_count": null,
   "metadata": {
    "scrolled": true
   },
   "outputs": [],
   "source": [
    "...\n",
    "\n",
    "objetos[0]"
   ]
  },
  {
   "cell_type": "markdown",
   "metadata": {},
   "source": [
    "En cuanto a las llaves `links` y `page` son metadata que vamos a utilizar luego para automatizar el proceso de peticiones.\n",
    "\n",
    "El siguiente paso es convertir nuestra lista de objetos diccionarios en un `DataFrame`, para ello aplicamos un proceso conocido como normalización, que consiste en acomodar la información por columnas y no por filas (una fila es un objeto en este caso) usando la función:\n",
    "\n",
    "`pd.json_normalize(-objetos_dict-)`\n",
    "\n",
    "esto nos regresa un `DataFrame` listo para ser procesado, así que vamos a guardar el resultado en la variable `objetos_df`:"
   ]
  },
  {
   "cell_type": "code",
   "execution_count": null,
   "metadata": {},
   "outputs": [],
   "source": [
    "...\n",
    "\n",
    "objetos_df"
   ]
  },
  {
   "cell_type": "markdown",
   "metadata": {},
   "source": [
    "Ahora veamos las dimensiones del dataframe con `df.shape`:"
   ]
  },
  {
   "cell_type": "code",
   "execution_count": null,
   "metadata": {},
   "outputs": [],
   "source": [
    "..."
   ]
  },
  {
   "cell_type": "markdown",
   "metadata": {},
   "source": [
    "¡Listo! Ya tenemos un `DataFrame` con los datos de nuestra primera petición. En esta sesión vamos a aprender a automatizar este proceso. Pero antes, practiquemos un poco el uso de la librería `requests`."
   ]
  },
  {
   "cell_type": "markdown",
   "metadata": {},
   "source": [
    "---\n",
    "---"
   ]
  },
  {
   "cell_type": "markdown",
   "metadata": {},
   "source": [
    "## Reto 1: Peticiones a una API usando requests\n",
    "\n",
    "### 1. Objetivos:\n",
    "    - Usar la librería Requests para hacer una petición HTTP a una API\n",
    " \n",
    "---\n",
    "    \n",
    "### 2. Desarrollo:"
   ]
  },
  {
   "cell_type": "markdown",
   "metadata": {},
   "source": [
    "### a) Petición HTTP a API de NASA\n",
    "\n",
    "Vamos a implementar un programa que realice una llamada HTTP a la API de NASA.\n",
    "\n",
    "Puedes leer la documentación de la API [aquí](https://api.nasa.gov/), bajo el título de \"Asteroids NeoWs\"."
   ]
  },
  {
   "cell_type": "markdown",
   "metadata": {},
   "source": [
    "Tu reto consiste en los siguientes pasos:\n",
    "\n",
    "1. Copia la API Key en la celda debajo para que puedas usarla más adelante:"
   ]
  },
  {
   "cell_type": "code",
   "execution_count": null,
   "metadata": {},
   "outputs": [],
   "source": [
    "api_key = \"\""
   ]
  },
  {
   "cell_type": "markdown",
   "metadata": {},
   "source": [
    "2. Asigna la variable `url` -donde tendrás el URL base de la API de NASA- y la variable `parametros` -donde tendrás el diccionario que usarás para pasar parámetros a tu petición.\n",
    "\n",
    "3. Usa tu diccionario `parametros` para agregar los parámetros necesarios para pedir la hoja número 100 de la API. Durante el ejemplo, pedimos simplemente la primera hoja. En esta ocasión, debes de descubrir que parámetros requieres pasarle para obtener la hoja #100. Además queremos que el número de resultados que nos regresen sea menor al default. El default es 20, pero tú tienes que mandar los parámetros adecuados para que te regresen solamente 5 resultados"
   ]
  },
  {
   "cell_type": "code",
   "execution_count": null,
   "metadata": {},
   "outputs": [],
   "source": [
    "url = ''\n",
    "parametros = {}"
   ]
  },
  {
   "cell_type": "markdown",
   "metadata": {},
   "source": [
    "4. Realiza tu petición HTTP aquí debajo y checa tu código de respuesta para asegurarte de que la petición se haya hecho exitosamente:"
   ]
  },
  {
   "cell_type": "code",
   "execution_count": null,
   "metadata": {},
   "outputs": [],
   "source": [
    "# tu código para la petición"
   ]
  },
  {
   "cell_type": "code",
   "execution_count": null,
   "metadata": {},
   "outputs": [],
   "source": [
    "# tu código para obtener el código de estado"
   ]
  },
  {
   "cell_type": "markdown",
   "metadata": {},
   "source": [
    "5. Si todo ha salido bien, extrae tus datos, normalízalos, crea un `DataFrame` con ellos y asígnalo a `objetos`. Revisa que solamente tengas 5 filas, para saber que tu petición se realizó exitosamente:"
   ]
  },
  {
   "cell_type": "code",
   "execution_count": null,
   "metadata": {},
   "outputs": [],
   "source": [
    "datos_p100 = ..."
   ]
  },
  {
   "cell_type": "code",
   "execution_count": null,
   "metadata": {},
   "outputs": [],
   "source": [
    "objetos_p100 = ..."
   ]
  },
  {
   "cell_type": "code",
   "execution_count": null,
   "metadata": {},
   "outputs": [],
   "source": [
    "objetos_p100_df = \n",
    "\n",
    "objetos_p100_df"
   ]
  },
  {
   "cell_type": "markdown",
   "metadata": {},
   "source": [
    "A continuación la celda de validación, en esta ocasión se genera una gráfica de barras del diámetro de los 5 objetos obtenidos, para ello es necesario contar con el módulo **SeaBorn**, así que para instalarlo puedes ejecutar el siguiente comando en la Terminar o en la ventana de Anaconda Prompt:\n",
    "\n",
    "`pip install seaborn`\n",
    "\n",
    "o puedes intentar ejecutar la siguiente celda:"
   ]
  },
  {
   "cell_type": "code",
   "execution_count": null,
   "metadata": {},
   "outputs": [],
   "source": [
    "!pip install seaborn"
   ]
  },
  {
   "cell_type": "markdown",
   "metadata": {},
   "source": [
    "Después de haber realizado la instalación entonces ejecuta la celda para obtener tu gráfica ..."
   ]
  },
  {
   "cell_type": "code",
   "execution_count": null,
   "metadata": {},
   "outputs": [],
   "source": [
    "def visualizar_diametros(objetos):\n",
    "    \n",
    "    import seaborn as sns\n",
    "    \n",
    "    sns.set(rc={'figure.figsize':(15,5)})\n",
    "    sizes = objetos[['name', 'estimated_diameter.kilometers.estimated_diameter_max']].copy()\n",
    "    sizes.sort_values('estimated_diameter.kilometers.estimated_diameter_max', ascending=True, inplace=True)\n",
    "    g = sns.barplot(x=sizes['name'], y=sizes['estimated_diameter.kilometers.estimated_diameter_max'])\n",
    "    \n",
    "visualizar_diametros(objetos_p100_df)"
   ]
  },
  {
   "attachments": {
    "cdb668e3-0958-416d-a898-5aea0e055940.png": {
     "image/png": "[encoded data removed]"
    }
   },
   "cell_type": "markdown",
   "metadata": {},
   "source": [
    "Tu gráfica debe ser similar a la siguiente:\n",
    "\n",
    "![image.png](attachment:cdb668e3-0958-416d-a898-5aea0e055940.png)"
   ]
  }
 ],
 "metadata": {
  "kernelspec": {
   "display_name": "Python 3",
   "language": "python",
   "name": "python3"
  },
  "language_info": {
   "codemirror_mode": {
    "name": "ipython",
    "version": 3
   },
   "file_extension": ".py",
   "mimetype": "text/x-python",
   "name": "python",
   "nbconvert_exporter": "python",
   "pygments_lexer": "ipython3",
   "version": "3.7.4"
  }
 },
 "nbformat": 4,
 "nbformat_minor": 4
}
