{
 "cells": [
  {
   "cell_type": "markdown",
   "metadata": {},
   "source": [
    "## Ejemplo 5: Concat con DataFrames\n",
    "\n",
    "### 1. Objetivos:\n",
    "    - Usar pd.concat para concatenar `DataFrames`\n",
    " \n",
    "---\n",
    "    \n",
    "### 2. Desarrollo:"
   ]
  },
  {
   "cell_type": "markdown",
   "metadata": {},
   "source": [
    "Exactamente los mismos principios aplican a la concatenación de `DataFrames`"
   ]
  },
  {
   "cell_type": "code",
   "execution_count": null,
   "metadata": {},
   "outputs": [],
   "source": [
    "import pandas as pd"
   ]
  },
  {
   "cell_type": "markdown",
   "metadata": {},
   "source": [
    "Considera los siguientes dos DataFrames:"
   ]
  },
  {
   "cell_type": "code",
   "execution_count": null,
   "metadata": {},
   "outputs": [],
   "source": [
    "data_1 = {\n",
    "    'column_1': [1, 2, 3],\n",
    "    'column_2': [4, 5, 6]\n",
    "}\n",
    "\n",
    "df_1 = pd.DataFrame(data_1, index=['a', 'b', 'c'])\n",
    "df_1"
   ]
  },
  {
   "cell_type": "code",
   "execution_count": null,
   "metadata": {},
   "outputs": [],
   "source": [
    "data_2 = {\n",
    "    'column_1': [7, 8, 9],\n",
    "    'column_2': [10, 11, 12]\n",
    "}\n",
    "\n",
    "df_2 = pd.DataFrame(data_1, index=['d', 'e', 'f'])\n",
    "df_2"
   ]
  },
  {
   "cell_type": "markdown",
   "metadata": {},
   "source": [
    "Para unirlos verticalmente usamos:\n",
    "\n",
    "`pd.concat(-lista de dataframes-, axis=0)`"
   ]
  },
  {
   "cell_type": "code",
   "execution_count": null,
   "metadata": {},
   "outputs": [],
   "source": [
    "..."
   ]
  },
  {
   "cell_type": "markdown",
   "metadata": {},
   "source": [
    "Horizontalmente con `axis=1`:"
   ]
  },
  {
   "cell_type": "code",
   "execution_count": null,
   "metadata": {},
   "outputs": [],
   "source": [
    "..."
   ]
  },
  {
   "cell_type": "markdown",
   "metadata": {},
   "source": [
    "Si dos DataFrames tienen el mismo índice, evitamos los `NaNs`:"
   ]
  },
  {
   "cell_type": "code",
   "execution_count": null,
   "metadata": {},
   "outputs": [],
   "source": [
    "data_3 = {\n",
    "    'column_3': [7, 8, 9],\n",
    "    'column_4': [10, 11, 12]\n",
    "}\n",
    "\n",
    "df_3 = pd.DataFrame(data_3, index=['a', 'b', 'c'])\n",
    "df_3"
   ]
  },
  {
   "cell_type": "markdown",
   "metadata": {},
   "source": [
    "Concatenamos los DataFrames 1 y 3 en horizontal:"
   ]
  },
  {
   "cell_type": "code",
   "execution_count": null,
   "metadata": {},
   "outputs": [],
   "source": [
    "..."
   ]
  },
  {
   "cell_type": "markdown",
   "metadata": {},
   "source": [
    "Si concatenamos verticalmente con el mismo índice, no podemos diferenciarlos:"
   ]
  },
  {
   "cell_type": "code",
   "execution_count": null,
   "metadata": {},
   "outputs": [],
   "source": [
    "data_4 = {\n",
    "    'column_1': [7, 8, 9],\n",
    "    'column_2': [10, 11, 12]\n",
    "}\n",
    "\n",
    "df_4 = pd.DataFrame(data_4, index=['a', 'b', 'c'])\n",
    "df_4"
   ]
  },
  {
   "cell_type": "markdown",
   "metadata": {},
   "source": [
    "Concatenamos los DataFrames 1 y 4 en vertical (`axis=0`):"
   ]
  },
  {
   "cell_type": "code",
   "execution_count": null,
   "metadata": {},
   "outputs": [],
   "source": [
    "..."
   ]
  },
  {
   "cell_type": "markdown",
   "metadata": {},
   "source": [
    "Podemos agregar multi índices `df_1` y `df_4` haciendo uso de \n",
    "\n",
    "`keys=-lista de índices-`:"
   ]
  },
  {
   "cell_type": "code",
   "execution_count": null,
   "metadata": {},
   "outputs": [],
   "source": [
    "..."
   ]
  },
  {
   "cell_type": "markdown",
   "metadata": {},
   "source": [
    "Y podemos accesarlos de igual manera, imprime los elementos del dataframe con etiqueta `df_1` usando la forma `df.loc[-etiqueta-]`:"
   ]
  },
  {
   "cell_type": "code",
   "execution_count": null,
   "metadata": {},
   "outputs": [],
   "source": [
    "..."
   ]
  },
  {
   "cell_type": "markdown",
   "metadata": {},
   "source": [
    "Ahora imprime la fila `b` del dataframe `df_4` usando la forma `df.loc[(-etiqueta 1-, -etiqueta 2-)]`:"
   ]
  },
  {
   "cell_type": "code",
   "execution_count": null,
   "metadata": {},
   "outputs": [],
   "source": [
    "..."
   ]
  },
  {
   "cell_type": "markdown",
   "metadata": {},
   "source": [
    "¿Y si quicieramos la columna_2 de la fila b del dataframe df_4?"
   ]
  },
  {
   "cell_type": "code",
   "execution_count": null,
   "metadata": {},
   "outputs": [],
   "source": [
    "..."
   ]
  },
  {
   "cell_type": "markdown",
   "metadata": {},
   "source": [
    "También podemos unir más de dos `DataFrames` agregándolos todos a la lista, recuerda la forma `df.concat(-lista de dataframes-, index=0)`, con `index=0` la concatenación es por columnas, entonces vamos a unir los dataframes `df_1`, `df_2`, `df_3` y `df_4` en dirección horizontal: "
   ]
  },
  {
   "cell_type": "code",
   "execution_count": null,
   "metadata": {},
   "outputs": [],
   "source": [
    "..."
   ]
  },
  {
   "cell_type": "markdown",
   "metadata": {},
   "source": [
    "---\n",
    "---"
   ]
  },
  {
   "cell_type": "markdown",
   "metadata": {},
   "source": [
    "## Reto 5: Concatenación de `Series` y `DataFrames`\n",
    "\n",
    "### 1. Objetivos:\n",
    "    - Practicar la concatenación de `Series` y `DataFrames` usando `np.concat` y `pandas.DataFrame.append`\n",
    " \n",
    "### 2. Desarrollo:"
   ]
  },
  {
   "cell_type": "markdown",
   "metadata": {},
   "source": [
    "### a) Sumando ventas por producto y por mes\n",
    "\n",
    "Eres el analista financiero de EyePoker Inc. Tienes 12 listas con datos. Cada lista contiene la cantidad de unidades vendidas por producto en un mes determinado.\n",
    "\n",
    "Tienes también una lista con los nombres de los productos que ofrece la empresa. \n",
    "\n",
    "Tanto las listas de ventas como la lista de nombres están ordenadas igual. Eso quiere decir que cada índice de cada lista pertenece a datos del mismo producto (es decir, `ventas_enero[3]`, `ventas_febrero[3]`, `ventas_marzo[3]`, `ventas_abril[3]`, etc, todas pertenecen al producto en `productos[3]`).\n",
    "\n",
    "Tu reto es el siguiente:\n",
    "\n",
    "1. Convierte las listas en `Series` de pandas.\n",
    "2. Concatena horizontalmente las `Series` de ventas de manera que cada fila del `DataFrame` resultante corresponda al mismo producto.\n",
    "3. En alguno de los pasos anteriores, agrega los nombres de los productos como índice.\n",
    "4. Crea una nueva columna llamada `total_por_producto` que contenga la suma horizontal de las ventas mensuales de cada producto (es decir, un resumen de las ventas del año por producto).\n",
    "5. Agrega también una fila hasta el final que tenga como índice `total_por_mes` que contenga la suma vertical de las ventas de cada mes (la última celda va a ser la suma total de las ventas de todos los productos en todo el año).\n",
    "\n",
    "> **Tip**: Para hacer el paso número 5, busca en Google el método `pandas.DataFrame.append`."
   ]
  },
  {
   "cell_type": "code",
   "execution_count": null,
   "metadata": {},
   "outputs": [],
   "source": [
    "productos = [\"Pokemaster\", \"Cegatron\", \"Pikame Mucho\",\n",
    "    \"Lazarillo de Tormes\", \"Stevie Wonder\", \"Needle\",\n",
    "    \"El AyMeDuele\", \"El Desretinador\", \"Sacamel Ojocles\",\n",
    "    \"Desojado\", \"Maribel Buenas Noches\", \"Cíclope\",\n",
    "    \"El Cuatro Ojos\"]\n",
    "\n",
    "ventas_enero = [3, 5, 4, 45, 2, 32, 7, 89, 7, 6, 24, 51, 12]\n",
    "ventas_febrero = [7, 9, 0, 76, 4, 34, 1, 2, 34, 67, 8, 9, 0]\n",
    "ventas_marzo = [1, 1, 3, 56, 7, 98, 2, 34, 1, 0, 23, 1, 12]\n",
    "ventas_abril = [2, 34, 2, 1, 56, 78, 23, 3, 4, 23, 1, 78, 9]\n",
    "ventas_mayo = [1, 2, 32, 4, 32, 1, 45, 67, 87, 8, 9, 45, 2]\n",
    "ventas_junio = [1, 2, 32, 1, 45, 78, 8, 90, 0, 98, 7, 46, 15]\n",
    "ventas_julio = [15, 62, 37, 85, 5, 8, 9, 0, 75, 36, 52, 15, 12]\n",
    "ventas_agosto = [1, 2, 32, 4, 35, 6, 78, 43, 45, 12, 34, 67, 89]\n",
    "ventas_septiembre = [9, 87, 7, 6, 56, 7, 0, 34, 23, 1, 2, 51, 35]\n",
    "ventas_octubre = [16, 62, 75, 58, 97, 6, 9, 0, 98, 78, 2, 3, 4]\n",
    "ventas_noviembre = [1, 3, 2, 1, 4, 5, 2, 4, 7, 8, 4, 3, 5]\n",
    "ventas_diciembre = [7, 9, 0, 6, 3, 7, 3, 85, 9, 7, 8, 0, 9]"
   ]
  },
  {
   "cell_type": "markdown",
   "metadata": {},
   "source": [
    "Asigna tu resultado final a la variable de la siguiente celda:"
   ]
  },
  {
   "cell_type": "code",
   "execution_count": null,
   "metadata": {},
   "outputs": [],
   "source": [
    "...\n",
    "...\n",
    "...\n",
    "\n",
    "ventas_dataframe = ...\n",
    "\n",
    "ventas_dataframe"
   ]
  },
  {
   "cell_type": "markdown",
   "metadata": {},
   "source": [
    "A continuación la celda de validación ..."
   ]
  },
  {
   "cell_type": "code",
   "execution_count": null,
   "metadata": {},
   "outputs": [],
   "source": [
    "import base64\n",
    "from pprint import pprint\n",
    "\n",
    "def revisar_dataframe(ventas_dataframe, productos, ventas_enero, ventas_febrero, ventas_marzo, ventas_abril, ventas_mayo,\n",
    "                      ventas_junio, ventas_julio, ventas_agosto, ventas_septiembre,\n",
    "                      ventas_octubre, ventas_noviembre, ventas_diciembre):\n",
    "    \n",
    "    import pandas as pd\n",
    "    \n",
    "    data_1 = b'CmRlZiBjb25jYXRlbmFyX2xpc3Rhc19ob3Jpem9udGFsbWVudGUobGlzdGFfZGVfbGlzdGFzLCBpbmRpY2UpOgoKICAgIG1lc2VzID0gWydlbmVybycsICdmZWJyZXJvJywgJ21hcnpvJywgJ2FicmlsJywgJ21heW8nLCAnanVuaW8nLCAnanVsaW8nLCAnYWdvc3RvJywgJ3NlcHRpZW1icmUnLCAnb2N0dWJyZScsICdub3ZpZW1icmUnLAogICAgICAgICAgICAnZGljaWVtYnJlJ10KICAgIGxpc3RhX2RlX3NlcmllcyA9IFtdCiAgICBmb3IgaSBpbiByYW5nZShsZW4obGlzdGFfZGVfbGlzdGFzKSk6CiAgICAgICAgbGlzdGFfZGVfc2VyaWVzLmFwcGVuZChwZC5TZXJpZXMobGlzdGFfZGVfbGlzdGFzW2ldLCBpbmRleD1pbmRpY2UsIG5hbWU9bWVzZXNbaV0pKQogICAgZGF0YWZyYW1lID0gcGQuY29uY2F0KGxpc3RhX2RlX3NlcmllcywgYXhpcz0xKQogICAgcmV0dXJuIGRhdGFmcmFtZQo='\n",
    "    \n",
    "    eval(compile(base64.b64decode(data_1).decode(\"utf-8\"), \"\", \"exec\"), globals())\n",
    "    ventas_dataframe_2 = concatenar_listas_horizontalmente([ventas_enero, ventas_febrero, ventas_marzo, ventas_abril, ventas_mayo,\n",
    "                                                      ventas_junio, ventas_julio, ventas_agosto, ventas_septiembre,\n",
    "                                                      ventas_octubre, ventas_noviembre, ventas_diciembre], productos)\n",
    "    ventas_dataframe_2['total_por_producto'] = ventas_dataframe_2.sum(axis=1)\n",
    "    total_por_mes = ventas_dataframe_2.sum(axis=0)\n",
    "    total_por_mes.name = 'total_por_mes'\n",
    "    ventas_dataframe_2 = ventas_dataframe_2.append(total_por_mes)\n",
    "    \n",
    "    if ventas_dataframe.equals(ventas_dataframe_2):\n",
    "        print(f'Felicidades! El procedimiento fue realizado correctamente.')\n",
    "        import seaborn as sns\n",
    "        import matplotlib.pyplot as plt\n",
    "        \n",
    "        fig, axs = plt.subplots(2, 1, figsize=(8, 12))\n",
    "        sin_total_por_mes = ventas_dataframe.drop(index='total_por_mes')\n",
    "        sin_total_por_mes.sort_values('total_por_producto', ascending=False, inplace=True)\n",
    "        axs[0].set_title('Ventas totales por producto')\n",
    "        sns.barplot(sin_total_por_mes['total_por_producto'], sin_total_por_mes.index, ax=axs[0])\n",
    "        \n",
    "        axs[1].set_title('Ventas totales por mes')\n",
    "        sin_total_por_producto = ventas_dataframe.drop(columns='total_por_producto')\n",
    "        sns.barplot(sin_total_por_producto.columns, sin_total_por_producto.loc['total_por_mes'], orient='v', ax=axs[1])\n",
    "        for item in axs[1].get_xticklabels():\n",
    "            item.set_rotation(45)\n",
    "        \n",
    "    else:\n",
    "        from IPython.display import display\n",
    "        print(f'Hubo un error!\\n')\n",
    "        print('Dataframe esperado:')\n",
    "        display(ventas_dataframe_2)\n",
    "        print('\\nDataframe recibido:')\n",
    "        display(ventas_dataframe)\n",
    "        \n",
    "revisar_dataframe(ventas_dataframe, productos, ventas_enero, ventas_febrero, ventas_marzo, ventas_abril, ventas_mayo,\n",
    "                      ventas_junio, ventas_julio, ventas_agosto, ventas_septiembre,\n",
    "                      ventas_octubre, ventas_noviembre, ventas_diciembre)"
   ]
  }
 ],
 "metadata": {
  "kernelspec": {
   "display_name": "Python 3",
   "language": "python",
   "name": "python3"
  },
  "language_info": {
   "codemirror_mode": {
    "name": "ipython",
    "version": 3
   },
   "file_extension": ".py",
   "mimetype": "text/x-python",
   "name": "python",
   "nbconvert_exporter": "python",
   "pygments_lexer": "ipython3",
   "version": "3.7.4"
  }
 },
 "nbformat": 4,
 "nbformat_minor": 4
}
