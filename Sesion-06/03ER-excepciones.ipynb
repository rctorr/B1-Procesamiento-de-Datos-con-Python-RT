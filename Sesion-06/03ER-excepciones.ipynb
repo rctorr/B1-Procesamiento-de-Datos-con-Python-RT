{
 "cells": [
  {
   "cell_type": "markdown",
   "metadata": {},
   "source": [
    "## Ejemplo 3: Excepciones y try except\n",
    "\n",
    "### 1. Objetivos:\n",
    "    - Aprender a usar try except para evitar que las excepciones detengan nuestros programas\n",
    " \n",
    "---\n",
    "    \n",
    "### 2. Desarrollo:"
   ]
  },
  {
   "cell_type": "markdown",
   "metadata": {},
   "source": [
    "Durante el proceso de un programa pueden suceder diferentes tipos de errores, que llamamos `Excepciones`. Una `Excepción` puede suceder en alguno de estos casos, por ejemplo:"
   ]
  },
  {
   "cell_type": "code",
   "execution_count": null,
   "metadata": {},
   "outputs": [],
   "source": [
    "lista_1 = [1, 2, 3, 4, 5]\n",
    "lista_1[5]"
   ]
  },
  {
   "cell_type": "code",
   "execution_count": null,
   "metadata": {},
   "outputs": [],
   "source": [
    "dict_1 = {\n",
    "    'a': 1,\n",
    "    'b': 2,\n",
    "    'c': 3,\n",
    "    'd': 4\n",
    "}\n",
    "\n",
    "dict_1[\"m\"]"
   ]
  },
  {
   "cell_type": "code",
   "execution_count": null,
   "metadata": {},
   "outputs": [],
   "source": [
    "int(\"ninguno\")"
   ]
  },
  {
   "cell_type": "code",
   "execution_count": null,
   "metadata": {},
   "outputs": [],
   "source": [
    "float(\"cero\")"
   ]
  },
  {
   "cell_type": "markdown",
   "metadata": {},
   "source": [
    "Cuando automatizamos programas, tenemos que evitar que Excepciones ocurran, pues detendrían nuestro programa y arruinarían nuestra automatización. Podemos usar estructuras `try-except` que tiene la siguiente forma:\n",
    "\n",
    "    try:\n",
    "        -bloque a validar si ocasiona o no una excepción-\n",
    "    except -nombre de excepción a controlar-:\n",
    "        -bloque de código a ejecutar si la excepción sucede-\n",
    "        \n",
    "Entonces en las siguientes celdamos vamos a evitar que Python detenga la ejecución aplicando estructuras `try-except`:\n"
   ]
  },
  {
   "cell_type": "code",
   "execution_count": null,
   "metadata": {},
   "outputs": [],
   "source": [
    "lista_1 = [1, 2, 3, 4, 5]\n",
    "\n",
    "print(lista_2[5])"
   ]
  },
  {
   "cell_type": "code",
   "execution_count": null,
   "metadata": {},
   "outputs": [],
   "source": [
    "dict_2 = {\n",
    "    'a': 1,\n",
    "    'b': 2,\n",
    "    'c': 3,\n",
    "    'd': 4\n",
    "}\n",
    "\n",
    "print(dict_2[\"e\"])"
   ]
  },
  {
   "cell_type": "markdown",
   "metadata": {},
   "source": [
    "Cuando se validan excepciones con número a veces se puede regresar o imprimir un valor nulo numérico usando `None` o `np.nan` (éste último del módulo Numpy), en el siguiente caso imprimamos el valor `np.nan` en caso de que ocurra la excepción:"
   ]
  },
  {
   "cell_type": "code",
   "execution_count": null,
   "metadata": {},
   "outputs": [],
   "source": [
    "import numpy as np\n",
    "\n",
    "print(int(\"5..0\"))"
   ]
  },
  {
   "cell_type": "markdown",
   "metadata": {},
   "source": [
    "Ahora el mismo caso, pero para una serie de entradas, evitemos que el ciclo for se detenga imprimiendo `np.nan` cuando no sea posible convertir la cadena a entero:"
   ]
  },
  {
   "cell_type": "code",
   "execution_count": null,
   "metadata": {},
   "outputs": [],
   "source": [
    "valores = [\"1\", \"2\", \"3.\", \"4\", \"5.5\", \"\", \"7\", \"8\", \".9\", \"10\"]\n",
    "for x in valores:\n",
    "    print(int(x))"
   ]
  },
  {
   "cell_type": "markdown",
   "metadata": {},
   "source": [
    "---\n",
    "---"
   ]
  },
  {
   "cell_type": "markdown",
   "metadata": {},
   "source": [
    "## Reto 3: Evitando errores con try except\n",
    "\n",
    "### 1. Objetivos:\n",
    "    - Usar una estructura try except para evitar que una función lance un error\n",
    " \n",
    "---\n",
    "    \n",
    "### 2. Desarrollo:"
   ]
  },
  {
   "cell_type": "markdown",
   "metadata": {},
   "source": [
    "### a) Evitando errores al hacer conversión de tipos de dato\n",
    "\n",
    "La conversión de tipos de dato (data casting) es una de las labores más importantes de un procesador de datos. A veces tenemos datos que deberían de tener un tipo de dato pero que tienen otro. Vamos a imaginar que tenemos un sistema donde recibimos input de un usuario. Este input son números que están representados como strings, como por ejemplo:\n",
    "\n",
    "- \"1.5\"\n",
    "- \"4\"\n",
    "- \"100.23\"\n",
    "- \"134.99\"\n",
    "\n",
    "Nosotros queremos guardar esos datos como `float`, no como `string` y por lo tanto vamos a crear una función que convierta una `lista` de `strings` en una `lista` de `float`. El problema es que a veces, el usuario envía inputs que no son números representados como `strings`, sino otro tipo de caracteres, como:\n",
    "\n",
    "- \"a\"\n",
    "- \"fgwe\"\n",
    "- \"4r5t\"\n",
    "- \"#!\"\n",
    "\n",
    "Esos caracteres no los podemos convertir en `float` y por lo tanto vamos a sustituirlos por un `NaN` de `numpy` (`np.nan`). Tu reto es el siguiente:\n",
    "\n",
    "1. Completa la función debajo que recibe una `lista` de `strings` y regresa una `lista` de `floats`.\n",
    "2. Usa un `cilos for` para iterar por la `lista` de `strings` y convertir uno por uno los valores a `float` (puedes leer cómo hacer eso [aquí](http://lineadecodigo.com/python/iterar-una-lista-en-python/) y [aquí](https://es.stackoverflow.com/questions/49194/c%C3%B3mo-convertir-un-tipo-string-a-float-o-int))\n",
    "3. Los resultados de la conversión guárdalos en la lista `lista_de_floats` que es lo que regresa la función.\n",
    "4. Agrega una estructura `try except` para evitar errores cuando la conversión no sea posible y agregar un `np.nan` a `lista_de_floats` en caso de que la conversión haya fallado."
   ]
  },
  {
   "cell_type": "code",
   "execution_count": null,
   "metadata": {},
   "outputs": [],
   "source": [
    "def str_a_float(lista_de_strings):\n",
    "    \n",
    "    lista_de_floats = []\n",
    "\n",
    "    # 1. recorrer la lista de string (for)\n",
    "    # 2. para cada valor convertirlo a float\n",
    "    # 3. agregar el valor convertido a la nueva lista\n",
    "    # 4. si hay falla entonces agregar el valor np.nan\n",
    "        \n",
    "    return lista_de_floats"
   ]
  },
  {
   "cell_type": "markdown",
   "metadata": {},
   "source": [
    "Ejecuta la siguiente celda para obtener la lista de números sin que aparezca un error o excepción."
   ]
  },
  {
   "cell_type": "code",
   "execution_count": null,
   "metadata": {},
   "outputs": [],
   "source": [
    "strings = ['1', '2', '3', '4', '5',\n",
    "    '1.2', '33', '55.5', 'f', '78',\n",
    "    'f', 'g', 't', 'e', 'r', 'f',\n",
    "    '4.4', 't', '6.6', 'r', '9.9']\n",
    "\n",
    "floats = str_a_float(strings)\n",
    "floats"
   ]
  }
 ],
 "metadata": {
  "kernelspec": {
   "display_name": "Python 3",
   "language": "python",
   "name": "python3"
  },
  "language_info": {
   "codemirror_mode": {
    "name": "ipython",
    "version": 3
   },
   "file_extension": ".py",
   "mimetype": "text/x-python",
   "name": "python",
   "nbconvert_exporter": "python",
   "pygments_lexer": "ipython3",
   "version": "3.7.4"
  }
 },
 "nbformat": 4,
 "nbformat_minor": 4
}
