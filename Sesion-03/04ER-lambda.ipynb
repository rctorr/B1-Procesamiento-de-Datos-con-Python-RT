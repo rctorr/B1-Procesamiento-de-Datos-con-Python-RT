{
 "cells": [
  {
   "cell_type": "markdown",
   "metadata": {},
   "source": [
    "## Ejemplo 4: Lambda (o programación funcional)\n",
    "\n",
    "### 1. Objetivos:\n",
    "- Aprender el concepto de funciones `lambda` para poderla aplicar en `map`, `filter`, `lista.sort()` u otras funciones.\n",
    " \n",
    "### 2. Desarrollo:"
   ]
  },
  {
   "cell_type": "markdown",
   "metadata": {},
   "source": [
    "Hasta el momento hemos estado aplicando dos paradigmas de programación, el **imperativo** donde la solución se realiza tras la ejecución de una línea tras otra de código, ya sea de operaciones de datos simples, estructurados o haciendo uso de funciones, pero siempre hay una **orden** siguiente que la computadora tiene que realizar hasta que termina el programa, el otro paradigma es el **funcional** donde las soluciones se compone fuertemente por la definición, uso y sobre todo composición de funciones (`list(filter(mi_operacion, lista)))`) y la instrucción estrella de la programación funcional en Python son las **funciones lambda**.\n",
    "\n",
    "La estructura de una función lambda es la siguiente:\n",
    "\n",
    "    nombre_de_funcion = lambda paramtero1, parametro2, ...: -cuerpo de la función-\n",
    "\n",
    "y todo tiene que ír en una sola línea, así que las funciones lambda tienen que ser precisas y compactas."
   ]
  },
  {
   "cell_type": "markdown",
   "metadata": {},
   "source": [
    "Pero para entender mejor a las funciones lambda primero consideremos la siguiente función en el paradigma imperativo para determinar si un número es divisible entre 3 (ya lo hemos hecho hasta el cansancio siiii!):"
   ]
  },
  {
   "cell_type": "code",
   "execution_count": null,
   "metadata": {},
   "outputs": [],
   "source": [
    "def es_divisible_entre_3(numero):\n",
    "    if numero % 3 == 0:\n",
    "        return True\n",
    "    else:\n",
    "        return False\n",
    "    \n",
    "es_divisible_entre_3(1235679)"
   ]
  },
  {
   "cell_type": "markdown",
   "metadata": {},
   "source": [
    "Ahora consideremos la misma función pero haciendo uso de las funciones `lambda` donde se usará la instrucción `if` pero que también se escribe en un sóla línea así:\n",
    "\n",
    "    -expresión en caso verdadero- if -condición- else -expresión en caso falso-\n",
    "    \n",
    "Notar que los bloques de código ahora sólo pueden ser expresiones, así que las soluciones se tienen que pensar de forma diferente, vayamos a terminar nuestra función ahora:"
   ]
  },
  {
   "cell_type": "code",
   "execution_count": null,
   "metadata": {},
   "outputs": [],
   "source": [
    "es_divisible_entre_3_l = \n",
    "\n",
    "es_divisible_entre_3_l(9)"
   ]
  },
  {
   "cell_type": "markdown",
   "metadata": {},
   "source": [
    "Y para usarla con la función `filter` por ejemplo, vamos a aplicarla a la siguiente lista de números:"
   ]
  },
  {
   "cell_type": "code",
   "execution_count": null,
   "metadata": {},
   "outputs": [],
   "source": [
    "numeros = [1, 2, 3, 4, 5, 6, 7, 8, 9, 10, 11, 12, 13, 14,\n",
    "           15, 16, 17, 18, 19, 20]"
   ]
  },
  {
   "cell_type": "code",
   "execution_count": null,
   "metadata": {},
   "outputs": [],
   "source": [
    "..."
   ]
  },
  {
   "cell_type": "markdown",
   "metadata": {},
   "source": [
    "Se ha usado igual que las funciones imperativas, pero que pasa si ahora necesitamos todos los números que **no** son divisibles por 3, entonces tenemos que hacer otra función y la aplicamos con `filter`:"
   ]
  },
  {
   "cell_type": "code",
   "execution_count": null,
   "metadata": {},
   "outputs": [],
   "source": [
    "def no_es_divisible_entre_3(numero):\n",
    "    if not es_divisible_entre_3(numero):\n",
    "        return True\n",
    "    else:\n",
    "        return False\n",
    "    \n",
    "list(filter(no_es_divisible_entre_3, numeros))"
   ]
  },
  {
   "cell_type": "markdown",
   "metadata": {},
   "source": [
    "Ahora usando funciones lambda si creamos una nueva función, pero implícitamente estamos escribiendo una composición de funciones (cuando una función, llama a otra función que a su vez llama a otra función y así ...):"
   ]
  },
  {
   "cell_type": "code",
   "execution_count": null,
   "metadata": {},
   "outputs": [],
   "source": [
    "list(filter(-función lambda-, numeros))"
   ]
  },
  {
   "cell_type": "markdown",
   "metadata": {},
   "source": [
    "Usar una u otra de las opciones dependerá del contexto y de tu criterio.\n",
    "\n",
    "Por ejemplo elimina las palabras que tengan 5 o menos letras de la siguiente lista de palabras usando una función `lambda` y una instrucción `if en linea`:"
   ]
  },
  {
   "cell_type": "code",
   "execution_count": null,
   "metadata": {},
   "outputs": [],
   "source": [
    "palabras = [\"achicoria\", \"pasto\", \"sol\", \"loquillo\",\n",
    "    \"moquillo\", \"sed\", \"pez\", \"jacaranda\", \"mil\"]\n",
    "\n",
    "list(filter(-función lambda-, palabras))"
   ]
  },
  {
   "cell_type": "markdown",
   "metadata": {},
   "source": [
    "Y si no ahorramos la instrucción `if`:"
   ]
  },
  {
   "cell_type": "code",
   "execution_count": null,
   "metadata": {},
   "outputs": [],
   "source": [
    "..."
   ]
  },
  {
   "cell_type": "markdown",
   "metadata": {},
   "source": [
    "O en la versión Pythonesca usando listas de compresión:"
   ]
  },
  {
   "cell_type": "code",
   "execution_count": null,
   "metadata": {},
   "outputs": [],
   "source": [
    "..."
   ]
  },
  {
   "cell_type": "markdown",
   "metadata": {},
   "source": [
    "Ahora obten la lista de todos los números que no son negativos. **Nota** que no es lo mismo que decir, la lista de todos lo números positivos, esta última no incluye el cero, pero nuestra lista si lo incluirá y la forma de solucionarlo es primero encontrando todos los números que si son negativos:"
   ]
  },
  {
   "cell_type": "code",
   "execution_count": null,
   "metadata": {},
   "outputs": [],
   "source": [
    "numeros = [3, 5, -1, -7, -8, 4, -78, 5, -46, 56, 98, 9, -1, -2, -4, 0]\n",
    "\n",
    "list(filter(-función lambda-, numeros))"
   ]
  },
  {
   "cell_type": "markdown",
   "metadata": {},
   "source": [
    "Ahora vamos por lo que son no negativos, para eso existe el operador `not`:"
   ]
  },
  {
   "cell_type": "code",
   "execution_count": null,
   "metadata": {},
   "outputs": [],
   "source": [
    "..."
   ]
  },
  {
   "cell_type": "markdown",
   "metadata": {},
   "source": [
    "Y como siempre, la versión con listas de compresión (por aquellos con mente matemática ...)"
   ]
  },
  {
   "cell_type": "code",
   "execution_count": null,
   "metadata": {},
   "outputs": [],
   "source": [
    "..."
   ]
  },
  {
   "cell_type": "markdown",
   "metadata": {},
   "source": [
    "¡Es hora de nuestro reto final!"
   ]
  },
  {
   "cell_type": "markdown",
   "metadata": {},
   "source": [
    "No aún no, que pasó con la función `sort` y lambda, resulta que la sintaxis o definición de `sort` más completa es como sigue:\n",
    "\n",
    "    lista.sort(key=None, reverse=False)\n",
    "    \n",
    "donde:\n",
    "`key` pueder ser el nombre de una función que puede alterar el orden establecido de los elementos\n",
    "\n",
    "Entonces vamos primero a ordenar **alfabéticamente** la siguiente lista de palabras de forma ascendente:"
   ]
  },
  {
   "cell_type": "code",
   "execution_count": null,
   "metadata": {},
   "outputs": [],
   "source": [
    "texto = \"Cinco siglos más tarde Lorem Ipsum experimentó una oleada de popularidad con el lanzamiento de hojas de transferencia seca de Letraset. Estas hojas de letras se pueden frotar en cualquier lugar y fueron rápidamente adoptadas por los artistas gráficos, impresores, arquitectos y anunciantes por su aspecto profesional y facilidad de uso. Letraset incluyó los pasajes de Lorem Ipsum en una panoplia de fuentes, estilos y tamaños, solidificando el lugar de la frase latina en la industria gráfica y gráfica. Aquellos con un ojo por el detalle habrán incluso cogido un homenaje al texto clásico en un episodio de Mad Men\"\n",
    "palabras = \"\".join([l for l in texto if l.isalpha() or l is \" \"]).split()\n",
    "print(palabras)"
   ]
  },
  {
   "cell_type": "code",
   "execution_count": null,
   "metadata": {},
   "outputs": [],
   "source": [
    "...\n",
    "\n",
    "print(palabras)"
   ]
  },
  {
   "cell_type": "markdown",
   "metadata": {},
   "source": [
    "Pero las mayúsculas y minúsculas están por separado, esto es un ordenamiento ASCII, no alfabético, así que vamos a alterar el orden natural de `sort` con una función lambda:"
   ]
  },
  {
   "cell_type": "code",
   "execution_count": null,
   "metadata": {},
   "outputs": [],
   "source": [
    "palabras.sort(key=lambda p: p.lower())\n",
    "\n",
    "print(palabras)"
   ]
  },
  {
   "cell_type": "markdown",
   "metadata": {},
   "source": [
    "y así podemos aplicar una función `lambda` a `sort` en base al tipo de datos que contenga la lista, ahora te toca a tí!"
   ]
  },
  {
   "cell_type": "markdown",
   "metadata": {},
   "source": [
    "## Reto 5: Lambda\n",
    "\n",
    "### 1. Objetivos:\n",
    "    - Practicar la sintaxis y uso de las funciones `lambda` para poder aplicarlas a `filter`\n",
    " \n",
    "---\n",
    "    \n",
    "### 2. Desarrollo:"
   ]
  },
  {
   "cell_type": "markdown",
   "metadata": {},
   "source": [
    "#### a) Conteo de votos\n",
    "\n",
    "Eres el líder estudiantil de la H. Universidad Unida de Las Américas (sí, todos los países de América del Norte y América del Sur se han unido en un sólo país llamado Las Américas; ¡yei por la disolución de las fronteras!). Acabas de realizar una votación para decidir el Proyecto Comunitario que realizarán en conjunto todos los estudiantes de la universidad en el próximo año escolar. Las 2 opciones fueron:\n",
    "\n",
    "2. Ética en Inteligencia Artificial (Código: AI)\n",
    "3. Cambio Climático (Código: CC)\n",
    "\n",
    "Los resultados de la votación fueron los siguientes:"
   ]
  },
  {
   "cell_type": "code",
   "execution_count": null,
   "metadata": {},
   "outputs": [],
   "source": [
    "votos = ['AI', 'CC', 'CC', 'CC', 'CC', 'CC', 'CC', 'CC', 'CC', 'CC', 'CC', 'CC', 'CC', 'AI', 'CC', 'CC', 'CC', 'AI', 'AI', 'AI'\n",
    "         , 'CC', 'AI', 'AI', 'CC', 'CC', 'CC', 'AI', 'CC', 'CC', 'AI', 'AI', 'CC', 'CC', 'CC', 'CC', 'CC', 'CC', 'CC', 'CC',\n",
    "         'CC', 'CC', 'CC', 'CC', 'AI', 'CC', 'CC', 'CC', 'CC', 'CC', 'CC', 'CC', 'CC', 'AI', 'AI', 'AI', 'CC', 'AI', 'CC', 'CC',\n",
    "         'CC', 'AI', 'CC', 'AI', 'CC', 'AI', 'CC', 'CC', 'CC', 'CC', 'CC', 'CC', 'CC', 'CC', 'AI', 'CC', 'CC', 'CC', 'CC', 'AI',\n",
    "         'CC', 'CC', 'CC', 'CC', 'CC', 'AI', 'CC', 'CC', 'CC', 'CC', 'CC', 'CC', 'CC', 'CC', 'AI', 'AI', 'CC', 'CC', 'CC', 'CC',\n",
    "         'CC', 'CC', 'CC', 'CC', 'AI', 'CC', 'CC', 'CC', 'CC', 'AI', 'CC', 'AI', 'CC', 'AI', 'CC', 'CC', 'AI', 'AI', 'CC', 'CC',\n",
    "         'CC', 'AI', 'CC', 'CC', 'CC', 'CC', 'CC', 'CC', 'CC', 'CC', 'CC', 'CC', 'CC', 'CC', 'CC', 'CC', 'CC', 'CC', 'CC', 'CC',\n",
    "         'CC', 'AI', 'CC', 'AI', 'CC', 'CC', 'CC', 'CC', 'AI', 'CC', 'CC', 'CC', 'CC', 'CC', 'CC', 'CC', 'CC', 'CC', 'CC', 'CC', \n",
    "         'AI', 'AI', 'AI', 'AI', 'CC', 'AI', 'CC', 'AI', 'AI', 'CC', 'CC', 'AI', 'CC', 'CC', 'CC', 'CC', 'CC', 'CC', 'CC', 'CC',\n",
    "         'AI', 'CC', 'CC', 'CC', 'CC', 'CC', 'CC', 'CC', 'CC', 'CC', 'CC', 'AI', 'CC', 'AI', 'CC', 'CC', 'AI', 'CC', 'AI', 'AI',\n",
    "         'AI', 'CC', 'CC', 'AI', 'CC', 'CC', 'CC', 'CC', 'CC', 'CC', 'AI', 'CC', 'CC', 'CC', 'CC', 'CC', 'CC', 'CC', 'AI', 'CC',\n",
    "         'AI', 'AI', 'CC', 'CC', 'CC', 'AI', 'AI', 'AI', 'CC', 'AI', 'CC', 'CC', 'AI', 'CC', 'CC', 'AI', 'AI', 'CC', 'CC', 'CC',\n",
    "         'CC', 'AI', 'AI', 'CC', 'CC', 'AI', 'AI', 'AI', 'CC', 'AI', 'CC', 'CC', 'CC', 'CC', 'CC', 'CC', 'CC', 'CC', 'CC', 'AI',\n",
    "         'AI', 'CC', 'CC', 'CC', 'CC', 'AI', 'CC', 'AI', 'AI', 'CC', 'CC', 'CC', 'CC', 'CC', 'CC', 'CC', 'AI', 'CC', 'AI', 'CC',\n",
    "         'CC', 'CC', 'CC', 'CC', 'AI', 'CC', 'CC', 'CC', 'CC', 'CC', 'CC', 'CC', 'CC', 'CC', 'AI', 'CC', 'CC', 'CC', 'AI', 'CC',\n",
    "         'AI', 'CC', 'CC', 'AI', 'AI', 'CC', 'CC', 'AI', 'CC', 'CC', 'CC', 'AI', 'CC', 'CC', 'AI', 'CC', 'AI', 'CC', 'AI', 'CC',\n",
    "         'AI', 'AI', 'AI', 'CC', 'CC', 'CC', 'CC', 'CC', 'AI', 'CC', 'CC', 'CC', 'AI', 'CC', 'AI', 'CC', 'CC', 'CC', 'AI', 'AI',\n",
    "         'CC', 'CC', 'CC', 'CC', 'CC', 'AI', 'CC', 'AI', 'AI', 'CC', 'CC', 'CC', 'AI', 'CC', 'CC', 'CC', 'CC', 'CC', 'CC', 'CC',\n",
    "         'AI', 'AI', 'AI', 'AI', 'CC', 'CC', 'AI', 'CC', 'CC', 'CC', 'CC', 'CC', 'CC', 'CC', 'AI', 'AI', 'CC', 'CC', 'CC', 'CC',\n",
    "         'AI', 'AI', 'CC', 'CC', 'CC', 'CC', 'CC', 'CC', 'CC', 'CC', 'CC', 'AI', 'CC', 'CC', 'AI', 'CC', 'CC', 'CC', 'CC', 'AI',\n",
    "         'CC', 'CC', 'AI', 'CC', 'AI', 'CC', 'CC', 'AI', 'CC', 'AI', 'CC', 'CC', 'CC', 'AI', 'CC', 'CC', 'AI', 'AI', 'CC', 'CC',\n",
    "         'CC', 'CC', 'CC', 'AI', 'CC', 'CC', 'CC', 'AI', 'CC', 'AI', 'CC', 'CC', 'CC', 'CC', 'CC', 'AI', 'CC', 'CC', 'AI', 'CC',\n",
    "         'AI', 'CC', 'CC', 'CC', 'AI', 'CC', 'AI']"
   ]
  },
  {
   "cell_type": "markdown",
   "metadata": {},
   "source": [
    "¡Ha llegado el gran momento de contar los votos! Tu reto es el siguiente:\n",
    "\n",
    "1. Crea una función llamada `voto_por_ai` que regrese `True` si el voto fue \"AI\".\n",
    "2. Usa esa función para filtrar tus votos y asigna ese resultado a una variable llamada `votos_por_ai`.\n",
    "3. Usando esa misma función, utiliza una función `lambda` y el operador `not` para filtrar de nuevo la `lista` `votos` y obtener una nueva lista llamada `votos_por_cc`."
   ]
  },
  {
   "cell_type": "code",
   "execution_count": null,
   "metadata": {},
   "outputs": [],
   "source": [
    "# Aquí va la función `voto_por_ai`\n",
    "#\n",
    "# ...\n",
    "# ..."
   ]
  },
  {
   "cell_type": "code",
   "execution_count": null,
   "metadata": {},
   "outputs": [],
   "source": [
    "votos_por_ai = "
   ]
  },
  {
   "cell_type": "code",
   "execution_count": null,
   "metadata": {},
   "outputs": [],
   "source": [
    "votos_por_cc = "
   ]
  },
  {
   "cell_type": "markdown",
   "metadata": {},
   "source": [
    "Corre la siguiente celda para obtener el número total de votos, saber cuál fue el proyecto ganador y validar tus resultados:"
   ]
  },
  {
   "cell_type": "code",
   "execution_count": null,
   "metadata": {},
   "outputs": [],
   "source": [
    "print_fila = lambda col1, col2, col3: print(f'{col1:25} | {col2:6} | {col3:15}')\n",
    "print_linea = lambda: print('-' * 52)\n",
    "vai_esperados = [\"AI\"] * 123\n",
    "vcc_esperados = [\"CC\"] * 323\n",
    "\n",
    "print('\\n== Resultados de la votación para el Proyecto Comunitario 2025 ==\\n')\n",
    "print_fila(\"Proyecto\", \"Conteo\", \"Conteo Esperado\")\n",
    "print_linea()\n",
    "print_fila(\"Ética en AI\", len(votos_por_ai), len(vai_esperados))\n",
    "print_fila(\"Cambio Climático\", len(votos_por_cc), len(vcc_esperados))\n",
    "print_linea()\n",
    "print_fila(\"Total\", len(votos_por_ai) + len(votos_por_cc), len(votos))\n",
    "print_linea()"
   ]
  },
  {
   "cell_type": "markdown",
   "metadata": {},
   "source": [
    "#### b) Estadísticas de población\n",
    "\n",
    "Se ha copiado la información desde la página de INEGI de los datos de población para el año 2020 ([link](https://www.inegi.org.mx/app/tabulados/interactivos/?pxq=Poblacion_Poblacion_01_e60cd8cf-927f-4b94-823e-972457a12d4b)), pero al pegar la información se ha obtenido en forma de texto, así que se ha creado una cadena de texto multilínea y se ha guardado en la variable `estados_texto`"
   ]
  },
  {
   "cell_type": "code",
   "execution_count": null,
   "metadata": {},
   "outputs": [],
   "source": [
    "estados_texto = \"\"\"\n",
    "Entidad federativa\tPoblación en 2020\n",
    "Aguascalientes\t1 425 607\n",
    "Baja California\t3 769 020\n",
    "Baja California Sur\t798 447\n",
    "Campeche\t928 363\n",
    "Coahuila de Zaragoza\t3 146 771\n",
    "Colima\t731 391\n",
    "Chiapas\t5 543 828\n",
    "Chihuahua\t3 741 869\n",
    "Ciudad de México\t9 209 944\n",
    "Durango\t1 832 650\n",
    "Guanajuato\t6 166 934\n",
    "Guerrero\t3 540 685\n",
    "Hidalgo\t3 082 841\n",
    "Jalisco\t8 348 151\n",
    "México\t16 992 418\n",
    "Michoacán de Ocampo\t4 748 846\n",
    "Morelos\t1 971 520\n",
    "Nayarit\t1 235 456\n",
    "Nuevo León\t5 784 442\n",
    "Oaxaca\t4 132 148\n",
    "Puebla\t6 583 278\n",
    "Querétaro\t2 368 467\n",
    "Quintana Roo\t1 857 985\n",
    "San Luis Potosí\t2 822 255\n",
    "Sinaloa\t3 026 943\n",
    "Sonora\t2 944 840\n",
    "Tabasco\t2 402 598\n",
    "Tamaulipas\t3 527 735\n",
    "Tlaxcala\t1 342 977\n",
    "Veracruz de Ignacio de la Llave\t8 062 579\n",
    "Yucatán\t2 320 898\n",
    "Zacatecas\t1 622 138\n",
    "\"\"\""
   ]
  },
  {
   "cell_type": "markdown",
   "metadata": {},
   "source": [
    "Este reto está compuesto por varias tareas, que van desde **examinar**, **formatear**, **convertir** y **filtrar** para que se puedan obtener algunas estadísticas que se pueden encontrar en las celdas finales. Cada tarea termina con una variable con ciertos resultados que será usada por la siguiente tarea y algunas variables serán usadas en la celda final, así que manten el nombre de las variables de los resultados, entonces vamos con las tareas."
   ]
  },
  {
   "cell_type": "markdown",
   "metadata": {},
   "source": [
    "1. Dividir el texto en líneas, osea, necesitas crear una lista, donde cada elemento de la lista sea una línea del texto para ello has uso de la función `cadena.splitlines()` que toma el texto y lo segmenta regresando una lista donde cada elemento contiene cada una de las líneas. Si deseas conocer más a detalle sobre esta u otras funciones de cadenas puedes consultar la [página de la documentación oficial](https://docs.python.org/3/library/stdtypes.html#str.splitlines). El resultado guárdalo en la variable `estados_lineas`:"
   ]
  },
  {
   "cell_type": "code",
   "execution_count": null,
   "metadata": {},
   "outputs": [],
   "source": [
    "estados_lineas = ...\n",
    "\n",
    "estados_lineas"
   ]
  },
  {
   "cell_type": "markdown",
   "metadata": {},
   "source": [
    "2. Eliminar líneas en blanco, usándo el método que desees, el resultado se deberá guardar en la misma variable `estados_lineas`:"
   ]
  },
  {
   "cell_type": "code",
   "execution_count": null,
   "metadata": {},
   "outputs": [],
   "source": [
    "...\n",
    "\n",
    "estados_lineas"
   ]
  },
  {
   "cell_type": "markdown",
   "metadata": {},
   "source": [
    "3. Eliminando encabezados, debido a que la información viene de una tabla incluye los encabezados de las columnas, pero esos no son datos, así que hay que eliminarlos y el resultado se siguie guardando en la variable `estados_lineas`:"
   ]
  },
  {
   "cell_type": "code",
   "execution_count": null,
   "metadata": {},
   "outputs": [],
   "source": [
    "...\n",
    "\n",
    "estados_lineas"
   ]
  },
  {
   "cell_type": "markdown",
   "metadata": {},
   "source": [
    "\n",
    "4. Separando columnas, para ello se hará uso de otra función de cadenas llamada `cadena.split(separador)`, entonces el proceso consiste en tomar un elemento de la lista que es una cadena de texto, aplicar la función `split()` para que regrese una lista de dos cadenas, el nombre del estado y el valor de la población; ésto se tiene que realizar para cada uno de los elementos, así que conviene hacer uso de `map()`, por lo tanto se necesitas crear la función de transformación `separando_columnas()`, la idea de esta función es tranformar por ejemplo `'Aguascalientes\\t1 425 607' -> ['Aguascalientes', '1 425 607']`. El resultado de la función `map()` lo guardamos en la variable `estados_columnas`:"
   ]
  },
  {
   "cell_type": "code",
   "execution_count": null,
   "metadata": {},
   "outputs": [],
   "source": [
    "def separando_columnas(cadena):\n",
    "    pass"
   ]
  },
  {
   "cell_type": "code",
   "execution_count": null,
   "metadata": {},
   "outputs": [],
   "source": [
    "estados_columnas = ...\n",
    "\n",
    "estados_columnas[:5]  # permite ver sólo los primeros 5 elementos de la lista"
   ]
  },
  {
   "cell_type": "markdown",
   "metadata": {},
   "source": [
    "5. Convertir la columna de la cantidad de población de cadena a entero, así que hay que tomar la segunda columna de cada elemento y convertirlo a entero, aunque posiblemente la conversión no se pueda llevar acabo porque hay símbolos que no son dígitos, así que primero hay que eliminar esos símbolos (podrías usar otra función de cadenas para eso) y luego convertir a entero, así que crea otra función de transformación con el nombre `texto_a_numero()` y luego usa `map()` guardando los resultados en la variable `estados_numeros`:"
   ]
  },
  {
   "cell_type": "code",
   "execution_count": null,
   "metadata": {},
   "outputs": [],
   "source": [
    "def texto_a_numeros(estado):\n",
    "    pass"
   ]
  },
  {
   "cell_type": "markdown",
   "metadata": {},
   "source": [
    "> **Tip:** Recuerda, tienes que hacer la siguiente transformación:\n",
    ">\n",
    "> `['Aguascalientes', '1 425 607'] -> ['Aguascalientes', 1425607]`\n",
    ">    \n",
    "> o sea, recibes como dato una lista de dos elementos y tienes que regresar una lista de dos elementos, sólo que el segundo elemento se convierte de cadena a entero (¡capichi!)"
   ]
  },
  {
   "cell_type": "code",
   "execution_count": null,
   "metadata": {},
   "outputs": [],
   "source": [
    "estados_numeros = ...\n",
    "\n",
    "estados_numeros[:5]"
   ]
  },
  {
   "cell_type": "markdown",
   "metadata": {},
   "source": [
    "6. Ordeando en base a la columna de población de mayor a menor, para ello tendrás que hacer uso de la función `lista.sort()` y funciones `lambda`, pero como `sort()` modifica el órden de la lista original, primero realiza una copia (usando `lista.copy()` en una nueva variable llamada `estados_mas_menos` y entonces ordena los elementos de esta variable."
   ]
  },
  {
   "cell_type": "code",
   "execution_count": null,
   "metadata": {},
   "outputs": [],
   "source": [
    "estados_mas_menos = ...\n",
    "...\n",
    "\n",
    "estados_mas_menos"
   ]
  },
  {
   "cell_type": "markdown",
   "metadata": {},
   "source": [
    "7. Obtener la lista de estados por arriba del promedio de población, para ello a continuación hay una celda que calcula el promedio, sólo ejecútala y luego entonces filtra la lista `estados_mas_menos` y el resultado guárdalo en la variable `estados_arriba_promedio`:"
   ]
  },
  {
   "cell_type": "code",
   "execution_count": null,
   "metadata": {},
   "outputs": [],
   "source": [
    "promedio = int(sum([x[1] for x in estados_mas_menos]) / len(estados_mas_menos))\n",
    "promedio"
   ]
  },
  {
   "cell_type": "code",
   "execution_count": null,
   "metadata": {},
   "outputs": [],
   "source": [
    "estados_arriba_promedio = ...\n",
    "\n",
    "estados_arriba_promedio"
   ]
  },
  {
   "cell_type": "markdown",
   "metadata": {},
   "source": [
    "8. Finalmente hay que obtener la lista de estados por abajo del promedio de población, entonces filtra la lista `estados_mas_menos` y el resultado guárdalo en la variable `estados_abajo_promedio`:"
   ]
  },
  {
   "cell_type": "code",
   "execution_count": null,
   "metadata": {},
   "outputs": [],
   "source": [
    "estados_abajo_promedio = ...\n",
    "\n",
    "estados_abajo_promedio"
   ]
  },
  {
   "cell_type": "markdown",
   "metadata": {},
   "source": [
    "La siguiente celda imprime algunas estadísticas usando los resultados que has obtenido, para validar tus datos pasa a la siguiente celda!"
   ]
  },
  {
   "cell_type": "code",
   "execution_count": null,
   "metadata": {},
   "outputs": [],
   "source": [
    "import numpy as np\n",
    "\n",
    "titulo = \"== Algunos datos de población de los estados de México ==\"\n",
    "col1 = 40\n",
    "col2 = 20\n",
    "ancho = max(col1 + col2 + 3, len(titulo))\n",
    "linea = lambda: print(\"-\" * ancho)\n",
    "print_fila = lambda d1, d2: print(f\"{d1:{col1}} | {d2:>{col2}}\")\n",
    "\n",
    "print(f\"\\n{titulo:^{ancho}}\\n\")\n",
    "linea()\n",
    "print_fila(\"Variable\", \"Resultado\")\n",
    "linea()\n",
    "print_fila(\"Población total\", sum([x[1] for x in estados_numeros]))\n",
    "print_fila(\"Estado con más población\", \"({}) {}\".format(*estados_mas_menos[0]))\n",
    "print_fila(\"Estado con menos población\", \"({}) {}\".format(*estados_mas_menos[-1]))\n",
    "print_fila(\"Población promedio\", promedio)\n",
    "print_fila(\"Núm. de estados por arriba del promedio\", len(estados_arriba_promedio))\n",
    "print_fila(\"Núm. de estados por abajo del promedio\", len(estados_abajo_promedio))\n",
    "linea()"
   ]
  },
  {
   "cell_type": "markdown",
   "metadata": {},
   "source": [
    "La siguiente celda si es la de validación de tus resultados!"
   ]
  },
  {
   "cell_type": "code",
   "execution_count": null,
   "metadata": {},
   "outputs": [],
   "source": [
    "import numpy as np\n",
    "\n",
    "datos = [126014024, [\"México\", 16992418], [\"Colima\", 731391], 3937938, 10, 22]\n",
    "titulo = \"== Datos de validación de la población de los estados de México ==\"\n",
    "col1 = 40\n",
    "col2 = 20\n",
    "ancho = max(col1 + col2 + 3, len(titulo))\n",
    "linea = lambda: print(\"-\" * ancho)\n",
    "print_fila = lambda d1, d2: print(f\"{d1:{col1}} | {d2:>{col2}}\")\n",
    "\n",
    "print(f\"\\n{titulo:^{ancho}}\\n\")\n",
    "linea()\n",
    "print_fila(\"Variable\", \"Resultado esperado\")\n",
    "linea()\n",
    "print_fila(\"Población total\", datos[0])\n",
    "print_fila(\"Estado con más población\", \"({}) {}\".format(*datos[1]))\n",
    "print_fila(\"Estado con menos población\", \"({}) {}\".format(*datos[2]))\n",
    "print_fila(\"Población promedio\", datos[3])\n",
    "print_fila(\"Núm. de estados por arriba del promedio\", datos[4])\n",
    "print_fila(\"Núm. de estados por abajo del promedio\", datos[5])\n",
    "linea()"
   ]
  },
  {
   "cell_type": "code",
   "execution_count": null,
   "metadata": {},
   "outputs": [],
   "source": []
  }
 ],
 "metadata": {
  "kernelspec": {
   "display_name": "Python 3",
   "language": "python",
   "name": "python3"
  },
  "language_info": {
   "codemirror_mode": {
    "name": "ipython",
    "version": 3
   },
   "file_extension": ".py",
   "mimetype": "text/x-python",
   "name": "python",
   "nbconvert_exporter": "python",
   "pygments_lexer": "ipython3",
   "version": "3.7.4"
  }
 },
 "nbformat": 4,
 "nbformat_minor": 4
}
