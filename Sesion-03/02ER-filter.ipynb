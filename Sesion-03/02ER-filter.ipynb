{
 "cells": [
  {
   "cell_type": "markdown",
   "metadata": {},
   "source": [
    "## Ejemplo 2: Filter\n",
    "\n",
    "### 1. Objetivos:\n",
    "    - Entender cómo funciona la función `filter` y verla aplicada en ejemplos para después poder reproducir su uso\n",
    " \n",
    "---\n",
    "    \n",
    "### 2. Desarrollo:"
   ]
  },
  {
   "cell_type": "markdown",
   "metadata": {},
   "source": [
    "`filter` nos permite filtrar nuestras `listas` para dejar fuera elementos que no queremos. Tal vez te parezca un poco extraño esto. ¿Por qué queremos filtrar datos? Una de nuestras tareas más importantes como procesadores de datos es la de limpiar nuestros conjuntos de datos para que tengan solamente los datos que necesitamos para nuestro análisis. Una de las técnicas de limpieza más comunes es la de filtrar nuestro conjunto de datos. Vamos a aprender a hacer esto usando `filter`."
   ]
  },
  {
   "cell_type": "markdown",
   "metadata": {},
   "source": [
    "La función `filter()` tiene la siguiente forma:\n",
    "\n",
    "    filter(funcion, lista)\n",
    "\n",
    "y regresa una nueva lista con los elementos de `lista` filtrados por `funcion`.\n",
    "\n",
    "Donde:\n",
    "\n",
    "`funcion` es ejecutada con cada uno de los elementos de `lista` y regresa `True` o `False`, si el valor es `True` entonces el elemento al que le fue aplicada se agrega a una nueva lista creada por filter, si el valor regresado es `False` (o `None`) el elemento al que le fue aplicada se descarta.\n",
    "`lista` contiene la lista de elementos a filterar y se espera que sean todos del mismo tipo."
   ]
  },
  {
   "cell_type": "markdown",
   "metadata": {},
   "source": [
    "A continuación se tiene la lista de palabras obtenidas del fragmento de la novela de Julio Cortázar usanda anteriormente:"
   ]
  },
  {
   "cell_type": "code",
   "execution_count": null,
   "metadata": {},
   "outputs": [],
   "source": [
    "fragmento_palabras = ['Apenas', 'él', 'le', 'amalaba', 'el', 'noema', 'a', 'ella', 'se', 'le', 'agolpaba', 'el', 'clémiso', 'y', 'caían', 'en', 'hidromurias', 'en', 'salvajes', 'ambonios', 'en', 'sustalos', 'exasperantes', 'Cada', 'vez', 'que', 'él', 'procuraba', 'relamar', 'las', 'incopelusas', 'se', 'enredaba', 'en', 'un', 'grimado', 'quejumbroso', 'y', 'tenía', 'que', 'envulsionarse', 'de', 'cara', 'al', 'nóvalo', 'sintiendo', 'cómo', 'poco', 'a', 'poco', 'las', 'arnillas', 'se', 'espejunaban', 'se', 'iban', 'apeltronando', 'reduplimiendo', 'hasta', 'quedar', 'tendido', 'como', 'el', 'trimalciato', 'de', 'ergomanina', 'al', 'que', 'se', 'le', 'han', 'dejado', 'caer', 'unas', 'fílulas', 'de', 'cariaconcia', 'Y', 'sin', 'embargo', 'era', 'apenas', 'el', 'principio', 'porque', 'en', 'un', 'momento', 'dado', 'ella', 'se', 'tordulaba', 'los', 'hurgalios', 'consintiendo', 'en', 'que', 'él', 'aproximara', 'suavemente', 'sus', 'orfelunios', 'Apenas', 'se', 'entreplumaban', 'algo', 'como', 'un', 'ulucordio', 'los', 'encrestoriaba', 'los', 'extrayuxtaba', 'y', 'paramovía', 'de', 'pronto', 'era', 'el', 'clinón', 'la', 'esterfurosa', 'convulcante', 'de', 'las', 'mátricas', 'la', 'jadehollante', 'embocapluvia', 'del', 'orgumio', 'los', 'esproemios', 'del', 'merpasmo', 'en', 'una', 'sobrehumítica', 'agopausa', 'Evohé', 'Evohé', 'Volposados', 'en', 'la', 'cresta', 'del', 'murelio', 'se', 'sentían', 'balpamar', 'perlinos', 'y', 'márulos', 'Temblaba', 'el', 'troc', 'se', 'vencían', 'las', 'marioplumas', 'y', 'todo', 'se', 'resolviraba', 'en', 'un', 'profundo', 'pínice', 'en', 'niolamas', 'de', 'argutendidas', 'gasas', 'en', 'carinias', 'casi', 'crueles', 'que', 'los', 'ordopenaban', 'hasta', 'el', 'límite', 'de', 'las', 'gunfias']\n",
    "print(fragmento_palabras)"
   ]
  },
  {
   "cell_type": "markdown",
   "metadata": {},
   "source": [
    "**Nota:** Esta lista de palabras ya es un ejemplo del procesamiento de datos ¿podrías obtener esta misma lista a partir del framento de texto de la sesion anterior? Observa que sólo están las palabras, sin ningún signo adicional."
   ]
  },
  {
   "cell_type": "markdown",
   "metadata": {},
   "source": [
    "Entonces vamos a obtener todas las palabras que tienen más de 5 letras, así que primero creamos nuestra función `mas_de_5_letras(palabra)`"
   ]
  },
  {
   "cell_type": "code",
   "execution_count": null,
   "metadata": {},
   "outputs": [],
   "source": [
    "def mas_de_5_letras(palabra):\n",
    "    pass"
   ]
  },
  {
   "cell_type": "markdown",
   "metadata": {},
   "source": [
    "Y luego aplicamos la función a cada elemento de la lista con `filter()` e imprimimos la lista resultante usando `print()` y tampoco olvidar aplicar la función `list()` (por la misma razón que se usó con la función `map()`)"
   ]
  },
  {
   "cell_type": "code",
   "execution_count": null,
   "metadata": {},
   "outputs": [],
   "source": [
    "palabras_filtradas = \n",
    "\n",
    "pprint(palabras_filtradas, compact=True, width=60)\n",
    "print( len(palabras_filtradas) )"
   ]
  },
  {
   "cell_type": "markdown",
   "metadata": {},
   "source": [
    "Y si queremos obtener la lista de palabras que tienen más de n letras, hacemos la función `mas_de_m_letras()`:"
   ]
  },
  {
   "cell_type": "code",
   "execution_count": null,
   "metadata": {},
   "outputs": [],
   "source": [
    "def mas_de_m_letras(palabra, m):\n",
    "    pass"
   ]
  },
  {
   "cell_type": "markdown",
   "metadata": {},
   "source": [
    "Aplicamos la función a la lista con `filter()`:"
   ]
  },
  {
   "cell_type": "code",
   "execution_count": null,
   "metadata": {},
   "outputs": [],
   "source": [
    "palabras_filtradas_m = \n",
    "palabras_filtradas_m"
   ]
  },
  {
   "cell_type": "markdown",
   "metadata": {},
   "source": [
    "Sucedió justo los mismo que con `map()`, entonces se obtendrá el resultado pero usando `filter()` y `lambda` (lo comentaremos a detalle más adelante), pero veamos como se usa:"
   ]
  },
  {
   "cell_type": "code",
   "execution_count": null,
   "metadata": {},
   "outputs": [],
   "source": [
    "palabras_filtradas_m = \n",
    "\n",
    "pprint(palabras_filtradas_m, compact=True, width=60)\n",
    "print( len(palabras_filtradas_m) )"
   ]
  },
  {
   "cell_type": "markdown",
   "metadata": {},
   "source": [
    "También podemos obtener la lista usando **listas de comprensión**:"
   ]
  },
  {
   "cell_type": "code",
   "execution_count": null,
   "metadata": {},
   "outputs": [],
   "source": [
    "palabras_filtradas_m = \n",
    "\n",
    "pprint(palabras_filtradas_m, compact=True, width=60)\n",
    "print( len(palabras_filtradas_m) )"
   ]
  },
  {
   "cell_type": "markdown",
   "metadata": {},
   "source": [
    "---\n",
    "Realicemos otro ejemplo, supongamos que tenemos un lote de latas de aluminio y se quiere verificar la calidad del lote en base a la exactitud del diámtero de la lata que debe ser de 5 cm +/- 0.1 cm, así que se toma una muestra de 100 latas y se mide el diámetro de cada una obteniendo los siguientes resultados (**Nota**: observa como se describe un problema y como fué que se han obtenido los datos):"
   ]
  },
  {
   "cell_type": "code",
   "execution_count": null,
   "metadata": {},
   "outputs": [],
   "source": [
    "# Este código crea la muestra de los diámetros de las 100 latas considerando\n",
    "# el rango de error permitido agregando un rango un poco mayor para obtener\n",
    "# algunas latas con diámetro fuera de lo permitido.\n",
    "\n",
    "from pprint import pprint\n",
    "import random\n",
    "\n",
    "rango_de_muestra = 100\n",
    "diametro_esperado = 5\n",
    "margen_de_error = 0.1 + 0.02  # hacemos el error un poco mayor para dar margen a errores\n",
    "a = diametro_esperado - margen_de_error\n",
    "b = diametro_esperado + margen_de_error\n",
    "\n",
    "muestras_diametro = []\n",
    "for _ in range(100):\n",
    "    random.seed()\n",
    "    diametro_lata = round(random.uniform(a, b), 4)\n",
    "    muestras_diametro.append(diametro_lata)\n",
    "\n",
    "pprint(muestras_diametro, compact=True, width=60)"
   ]
  },
  {
   "cell_type": "markdown",
   "metadata": {},
   "source": [
    "Considerando que una lata es aceptable si su diámetro mide 5 cm +/- 0.1 cm, encuentra todas las latas de la muestra que no cumplen con el control de calidad e indica el porciento de defectos de la muestra. **Nota:** resolver usando instrucciones if con una condición."
   ]
  },
  {
   "cell_type": "code",
   "execution_count": null,
   "metadata": {},
   "outputs": [],
   "source": [
    "def lata_defectuosa(diametro):\n",
    "    pass"
   ]
  },
  {
   "cell_type": "code",
   "execution_count": null,
   "metadata": {},
   "outputs": [],
   "source": [
    "latas_defectuosas = \n",
    "\n",
    "print(latas_defectuosas)"
   ]
  },
  {
   "cell_type": "code",
   "execution_count": null,
   "metadata": {},
   "outputs": [],
   "source": [
    "porcentaje = \n",
    "\n",
    "print(f\"Porciento de defectos de latas es: {porcentaje:.0%}\")"
   ]
  },
  {
   "cell_type": "markdown",
   "metadata": {},
   "source": [
    "¡Ahora es tu turno!"
   ]
  },
  {
   "cell_type": "markdown",
   "metadata": {},
   "source": [
    "---\n",
    "---\n",
    "## Reto 2: Filter\n",
    "\n",
    "### 1. Objetivos:\n",
    "    - Practicar el uso de `filter` para filtrar los datos en una `lista`\n",
    " \n",
    "### 2. Desarrollo:"
   ]
  },
  {
   "cell_type": "markdown",
   "metadata": {},
   "source": [
    "#### a) Limpiando datos nulos\n",
    "\n",
    "Debajo tenemos una `lista` que incluye datos acerca de las edades de las personas que han atendido a un curso de Cocina Medieval (ya sabes: puerco al horno, manzanas asadas, aguardiente, sangre fresca de tus enemigos). Algunas de las personas que atendieron no quisieron dar su edad. Es por eso que algunos de los elementos son `None`:"
   ]
  },
  {
   "cell_type": "code",
   "execution_count": null,
   "metadata": {},
   "outputs": [],
   "source": [
    "edades = [12, 16, 19, None, 21, 25, 24, None, None,\n",
    "    16, 17, 25, 23, 28, None, 23, 35, 59, 67, None,\n",
    "    34, 21, 23, 15, 14, None, 18, 24, 23, 17]"
   ]
  },
  {
   "cell_type": "markdown",
   "metadata": {},
   "source": [
    "Queremos realizar una pequeña visualización (un histograma, que ya aprenderás a hacer más tarde) con nuestros datos. Pero no nos interesan los datos que vienen como `None`. Escribe una función llamada `no_es_none` que reciba un valor, cheque si el valor es `None`, regrese `False` si el valor es `None` o regrese `True` si el valor **no** es `None`. Después úsala para filtrar tus datos."
   ]
  },
  {
   "cell_type": "code",
   "execution_count": null,
   "metadata": {},
   "outputs": [],
   "source": [
    "## Tu función va aquí\n",
    "## ...\n",
    "## ..."
   ]
  },
  {
   "cell_type": "code",
   "execution_count": null,
   "metadata": {},
   "outputs": [],
   "source": [
    "edades_filtradas = "
   ]
  },
  {
   "cell_type": "markdown",
   "metadata": {},
   "source": [
    "Ahora ejecuta la siguiente celda para validar tus lista de edades!"
   ]
  },
  {
   "cell_type": "code",
   "execution_count": null,
   "metadata": {},
   "outputs": [],
   "source": [
    "def imprimir_edades(datos):\n",
    "    titulo = \"== Validando tú lista de edades ==\"\n",
    "    print(titulo)\n",
    "    print(\"-\" * len(titulo))\n",
    "    errores = 0\n",
    "    for i, valor in enumerate([x for x in edades if x]):\n",
    "        try:\n",
    "            if valor == datos[i]:\n",
    "                print(f\"{i}) Tú valor: {datos[i]}, ok\")\n",
    "            else:\n",
    "                print(f\"{i}) Tú valor: {datos[i]}, error. El valor esperado es {valor}\")\n",
    "                errores += 1\n",
    "        except IndexError:\n",
    "            print(f\"{i}) Tú valor: None, error. El valor esperado es {valor}\")\n",
    "            errores += 1\n",
    "            \n",
    "    print(\"-\" * len(titulo))\n",
    "    if errores:\n",
    "        print(f\"Se encontraron {errores} errores, intenta de nuevo!\")\n",
    "    else:\n",
    "        print(\"Cero errores, felicidadez misión cumplida!\")\n",
    "    \n",
    "imprimir_edades(edades_filtradas)"
   ]
  },
  {
   "cell_type": "markdown",
   "metadata": {},
   "source": [
    "#### b) Filtrando datos atípicos\n",
    "\n",
    "Aquí tenemos una `lista` que contiene datos acerca de los sueldos (cada número representa \"miles de pesos\") de los empleados de EyePoker Inc. (la empresa donde se producen los mejores picadores de ojos en todo el Hemisferio Occidental):"
   ]
  },
  {
   "cell_type": "code",
   "execution_count": null,
   "metadata": {},
   "outputs": [],
   "source": [
    "sueldos = [26, 32, 26, 30, 30, 32, 28, 30, 28,\n",
    "    110, 34, 30, 28, 26, 28, 30, 28, 85, 25,\n",
    "    30, 34, 34, 30, 30, 120, 28, 28, 120, 125]"
   ]
  },
  {
   "cell_type": "markdown",
   "metadata": {},
   "source": [
    "En general todos los sueldos se encuentran en un rango bastante restringido, pero tenemos algunos datos sobre sueldos \"anormalmente\" grandes. Los sueldos tan grandes son los de los ejecutivos, que claramente no tienen ninguna noción de \"justicia\" (eso pasa cuando tus picadores de ojos son los mejores de todo el Hemisferio Occidental). Nosotros queremos usar el promedio para tener una idea de cuál es el sueldo `típico` en esta empresa. Nuestros valores `atípicos` (los sueldos anormalmente grandes) van a arruinar nuestro cálculo.\n",
    "\n",
    "Mira cuál es el sueldo `típico` si no filtramos nuestros valores anormalmente grandes:"
   ]
  },
  {
   "cell_type": "code",
   "execution_count": null,
   "metadata": {},
   "outputs": [],
   "source": [
    "print(f'El sueldo \"típico\" en EyePoker Inc. es de $ {sum(sueldos) / len(sueldos) * 1000:.2f}')"
   ]
  },
  {
   "cell_type": "markdown",
   "metadata": {},
   "source": [
    "Para corregir esto haz una función llamada `es_menor_que_40` que descarte los números mayores de 40, y úsala para filtrar la lista `sueldos`, para tener un cálculo más apropiado del sueldo `típico` en esta empresa."
   ]
  },
  {
   "cell_type": "code",
   "execution_count": null,
   "metadata": {},
   "outputs": [],
   "source": [
    "# tu función aquí"
   ]
  },
  {
   "cell_type": "code",
   "execution_count": null,
   "metadata": {},
   "outputs": [],
   "source": [
    "sueldos_filtrados = "
   ]
  },
  {
   "cell_type": "markdown",
   "metadata": {},
   "source": [
    "Y a continuación nuevamente tu celda de validación ..."
   ]
  },
  {
   "cell_type": "code",
   "execution_count": null,
   "metadata": {},
   "outputs": [],
   "source": [
    "sueldo_tipico = sum(sueldos_filtrados) / len(sueldos_filtrados) * 1000\n",
    "if sueldo_tipico == 29375:\n",
    "    print(f'El sueldo \"típico\" de $ {sueldo_tipico:.2f} en EyePoker Inc. es aceptable, estás contratado!')\n",
    "else:\n",
    "    print(f'El sueldo \"típico\" de $ {sueldo_tipico:.2f} en EyePoker Inc. no es aceptable, lo intentarás de nuevo?')\n",
    "    "
   ]
  }
 ],
 "metadata": {
  "kernelspec": {
   "display_name": "Python 3",
   "language": "python",
   "name": "python3"
  },
  "language_info": {
   "codemirror_mode": {
    "name": "ipython",
    "version": 3
   },
   "file_extension": ".py",
   "mimetype": "text/x-python",
   "name": "python",
   "nbconvert_exporter": "python",
   "pygments_lexer": "ipython3",
   "version": "3.7.4"
  }
 },
 "nbformat": 4,
 "nbformat_minor": 4
}
