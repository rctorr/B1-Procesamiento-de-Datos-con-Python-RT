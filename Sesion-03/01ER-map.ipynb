{
 "cells": [
  {
   "cell_type": "markdown",
   "metadata": {},
   "source": [
    "## Ejemplo 1: Map\n",
    "\n",
    "### 1. Objetivos:\n",
    "    - Entender cómo funciona la función `map` y verla aplicada en ejemplos para después poder reproducir su uso\n",
    " \n",
    "---\n",
    "    \n",
    "### 2. Desarrollo:"
   ]
  },
  {
   "cell_type": "markdown",
   "metadata": {},
   "source": [
    "Muchas veces vamos a querer aplicar funciones a cada uno de los elementos en una `lista`. Esto es un procedimiento muy común en la ciencia de datos y existen varias formas de aplicar operaciones \"elemento por elemento\" a una `lista` y las veremos a continuación. "
   ]
  },
  {
   "cell_type": "markdown",
   "metadata": {},
   "source": [
    "Primero necesitamos una `lista` de números y en este caso la creamos de forma directa, pero podríamos haber usado la función `range(valor_inicial, valor_final)`, ya la usaremos más adelante."
   ]
  },
  {
   "cell_type": "code",
   "execution_count": null,
   "metadata": {},
   "outputs": [],
   "source": [
    "numeros = [1, 2, 3, 4, 5, 6, 7, 8, 9, 10]"
   ]
  },
  {
   "cell_type": "markdown",
   "metadata": {},
   "source": [
    "Ahora tenemos que pensar qué operaciones o transformaciones queremos aplicar a cada uno de los elementos de la lista.\n",
    "\n",
    "Digamos que queremos multiplicarlos por 10 cada uno de los elementos de la lista, así que una forma **artesanal** de resolverlo sería tomando elemento a elemento, veamos como"
   ]
  },
  {
   "cell_type": "code",
   "execution_count": null,
   "metadata": {},
   "outputs": [],
   "source": [
    "numeros_por_10 = []\n",
    "# multiplica elemento a elemento y agregalo a la nueva lista, si elemento a elemento!\n",
    "numeros_por_10"
   ]
  },
  {
   "cell_type": "markdown",
   "metadata": {},
   "source": [
    "Ahora veamos la forma **clásica** (usando ciclos for) como se resolvería con cualquier lenguaje de programación (o más o menos):"
   ]
  },
  {
   "cell_type": "code",
   "execution_count": null,
   "metadata": {},
   "outputs": [],
   "source": [
    "numeros_por_10 = []\n",
    "# multiplica cada elemento usando una instrucción for\n",
    "numeros_por_10"
   ]
  },
  {
   "cell_type": "markdown",
   "metadata": {},
   "source": [
    "Finalmente usando la función:\n",
    "\n",
    "    map(funcion, lista)\n",
    "\n",
    "Donde:\n",
    "\n",
    "`funcion` es el nombre de una función que realiza la operación, en este caso multiplica por 10 a un sólo elemento.\n",
    "\n",
    "`lista` es la lista de elementos a aplicar la operación.\n",
    "\n",
    "Es importante notar que `map()` construye y regresa una nueva lista, por lo que la lista original se mantiene intacta."
   ]
  },
  {
   "cell_type": "markdown",
   "metadata": {},
   "source": [
    "Entonces en la siguiente celda vamos a crear la función y ejecutamos la celda:"
   ]
  },
  {
   "cell_type": "code",
   "execution_count": null,
   "metadata": {},
   "outputs": [],
   "source": [
    "..."
   ]
  },
  {
   "cell_type": "markdown",
   "metadata": {},
   "source": [
    "Ahora aplicamos la función usando `map()`:"
   ]
  },
  {
   "cell_type": "code",
   "execution_count": null,
   "metadata": {},
   "outputs": [],
   "source": [
    "..."
   ]
  },
  {
   "cell_type": "markdown",
   "metadata": {},
   "source": [
    "¿Qué pasa? `map()` no regresa una lista, pero queremos una lista, así que aplicamos la función `list(objeto)` al resultado de `map()`"
   ]
  },
  {
   "cell_type": "code",
   "execution_count": null,
   "metadata": {},
   "outputs": [],
   "source": [
    "..."
   ]
  },
  {
   "cell_type": "markdown",
   "metadata": {},
   "source": [
    "¿Por qué estamos agregando esa función `list`? Como viste en el Prework, `list` nos ayuda a convertir el resultado de `map` en una lista común y corriente.\n",
    "\n",
    "Con `map()` podemos examinar el resultado sin necesidad de asígnar una nueva variable, claro, los resultados se pierden, así que ahora guardemos los resultados:"
   ]
  },
  {
   "cell_type": "code",
   "execution_count": null,
   "metadata": {},
   "outputs": [],
   "source": [
    "numeros_por_10 = "
   ]
  },
  {
   "cell_type": "markdown",
   "metadata": {},
   "source": [
    "También existe la forma **Pythonesca** y es usando un concepto llamado **listas de compresión** (o ¿podría llamarse notación de conjuntos?) y se realiza de la siguiente forma:\n",
    "\n",
    "    [-aplicar operacion a x- for x in conjunto]"
   ]
  },
  {
   "cell_type": "code",
   "execution_count": null,
   "metadata": {},
   "outputs": [],
   "source": [
    "..."
   ]
  },
  {
   "cell_type": "markdown",
   "metadata": {},
   "source": [
    "O si la operación o transformación es muy compleja, también se puede usar la función usada en `map()` de la forma:\n",
    "\n",
    "    [-operacion(x)- for x in conjunto]"
   ]
  },
  {
   "cell_type": "code",
   "execution_count": null,
   "metadata": {},
   "outputs": [],
   "source": [
    "..."
   ]
  },
  {
   "cell_type": "markdown",
   "metadata": {},
   "source": [
    "¿Un respiro? Nooooo!"
   ]
  },
  {
   "cell_type": "markdown",
   "metadata": {},
   "source": [
    "Veamos otro ejemplo, convirtiendo la lista de números en cadenas con formato agregando la unidad de segundos `seg` haciendo uso de una función y `map()`:"
   ]
  },
  {
   "cell_type": "code",
   "execution_count": null,
   "metadata": {},
   "outputs": [],
   "source": [
    "def en_cadenas_con_segundos(entero):\n",
    "    pass\n",
    "\n",
    "list(map(en_cadenas_con_segundos, numeros))"
   ]
  },
  {
   "cell_type": "markdown",
   "metadata": {},
   "source": [
    "Y si queremos convertir en cero todos los números que son menores a 5:"
   ]
  },
  {
   "cell_type": "code",
   "execution_count": null,
   "metadata": {},
   "outputs": [],
   "source": [
    "def convertir_en_0_si_ma_5(valor):\n",
    "    pass\n",
    "\n",
    "list( map(convertir_en_0_si_ma_5, numeros) )"
   ]
  },
  {
   "cell_type": "markdown",
   "metadata": {},
   "source": [
    "Nos ponemos más *rudos*, queremos convertir en cero todos los números que son menores a m:"
   ]
  },
  {
   "cell_type": "code",
   "execution_count": null,
   "metadata": {},
   "outputs": [],
   "source": [
    "def convertir_en_0_si_ma_m(valor, m):\n",
    "    pass\n",
    "\n",
    "list(map(convertir_en_0_si_ma_m, numeros))"
   ]
  },
  {
   "cell_type": "markdown",
   "metadata": {},
   "source": [
    "Upsss! `map()` no nos deja pasarle otro valor a nuestra función de conversión, se puede usar un truco, pero lo veremos más adelante, así que por el momento lo hacemos usando **listas de compresión** y la función creada anteriormente de la forma:\n",
    "\n",
    "    [-operación a aplicar a x- for x in conjunto if -condicion-]\n",
    "    \n",
    "donde `-condición-` puede ser cualquier operación o función que regrese un **booleano**.\n",
    "\n",
    "Entonces veamos como quedaría nuestra lista de compresión usando la función de transformación:"
   ]
  },
  {
   "cell_type": "code",
   "execution_count": null,
   "metadata": {},
   "outputs": [],
   "source": [
    "..."
   ]
  },
  {
   "cell_type": "markdown",
   "metadata": {},
   "source": [
    "Y sin el uso de la función de transformación:"
   ]
  },
  {
   "cell_type": "code",
   "execution_count": null,
   "metadata": {},
   "outputs": [],
   "source": [
    "..."
   ]
  },
  {
   "cell_type": "markdown",
   "metadata": {},
   "source": [
    "## ¿Hás llegad@ viv@ hasta aquí? Felicidadez!"
   ]
  },
  {
   "cell_type": "markdown",
   "metadata": {},
   "source": [
    "---\n",
    "---\n",
    "## Reto 1: Map\n",
    "\n",
    "### 1. Objetivos:\n",
    "    - Practicar el uso de `map` para transformar los datos en una `lista`\n",
    " \n",
    "### 2. Desarrollo:"
   ]
  },
  {
   "cell_type": "markdown",
   "metadata": {},
   "source": [
    "#### a) Proporción a porcentajes\n",
    "\n",
    "Tenemos una lista que contiene proporciones:"
   ]
  },
  {
   "cell_type": "code",
   "execution_count": null,
   "metadata": {},
   "outputs": [],
   "source": [
    "proporciones = [0.45, 0.2, 0.78, 0.4, 0.77, 0.9, 0.4, 0.5, 0.67, 0.24, 0.07]"
   ]
  },
  {
   "cell_type": "markdown",
   "metadata": {},
   "source": [
    "Queremos convertir esta lista en una lista de `porcentajes`, donde las proporciones hayan sido convertidas a porcentajes. Termina la función `proporcion_a_porcentajes` y después utiliza `map` para convertir `proporciones` y asignar la lista transformada a `porcentajes`:"
   ]
  },
  {
   "cell_type": "code",
   "execution_count": null,
   "metadata": {},
   "outputs": [],
   "source": [
    "def proporcion_a_porcentajes(valor):\n",
    "    pass\n",
    "\n",
    "porcentajes = "
   ]
  },
  {
   "cell_type": "markdown",
   "metadata": {},
   "source": [
    "Corre después la siguiente celda para obtener una representación en `string`. No importa si no entiendes por completo qué está pasando en la siguiente celda. Más adelante en el módulo aprenderemos a hacer esto y más."
   ]
  },
  {
   "cell_type": "code",
   "execution_count": null,
   "metadata": {},
   "outputs": [],
   "source": [
    "def imprime(proporciones, porcentajes):\n",
    "    print('== Proporciones y su equivalencia en porcentajes ==')\n",
    "    cadenas = [f\"- {i} equivale a el {j:.0f}%\" for i, j in zip(proporciones, porcentajes)]\n",
    "    print(\"\\n\".join(cadenas))\n",
    "    print('-' * 51)\n",
    "        \n",
    "imprime(proporciones, porcentajes)"
   ]
  },
  {
   "cell_type": "markdown",
   "metadata": {},
   "source": [
    "#### b) Strings a números\n",
    "\n",
    "Tenemos una `lista` con strings que representan valores númericos:"
   ]
  },
  {
   "cell_type": "code",
   "execution_count": null,
   "metadata": {},
   "outputs": [],
   "source": [
    "numeros_string = [\n",
    "    \"3\", \"7\", \"45\", \"89\", \"12\", \"9\", \"5\", \"89\", \"78\", \"87\", \"44\", \"45\", \"26\", \"84\", \"98\",\n",
    "    \"46\", \"99\", \"84\"]"
   ]
  },
  {
   "cell_type": "markdown",
   "metadata": {},
   "source": [
    "Para poder realizar algunos cálculos, necesitamos que estas cadenas sean convertidas a enteros. Escribe la función `en_entero` y aplicala a lista guardando el resultado en la variable `numeros`:"
   ]
  },
  {
   "cell_type": "code",
   "execution_count": null,
   "metadata": {},
   "outputs": [],
   "source": [
    "def en_entero(valor):\n",
    "    pass    \n",
    "\n",
    "numeros = "
   ]
  },
  {
   "cell_type": "markdown",
   "metadata": {},
   "source": [
    "Ahora ejecuta la siguiente celda y observa algunos valores estadísticos"
   ]
  },
  {
   "cell_type": "code",
   "execution_count": null,
   "metadata": {},
   "outputs": [],
   "source": [
    "def imprimir_analisis_estadistico(datos):\n",
    "    titulo = \"== Análisis estadístico de los datos recibidos ==\"\n",
    "    print(titulo)\n",
    "    print('-' * len(titulo))\n",
    "    print(f'Valor mínimo:     {min(datos):>3}')\n",
    "    print(f'Valor máximo:     {max(datos):>3}')\n",
    "    print(f'Rango de valores: {max(datos) - min(datos):>3}')\n",
    "    print(f'Promedio:         {sum(datos) / len(datos):>3}')\n",
    "    print('-' * len(titulo))\n",
    "\n",
    "imprimir_analisis_estadistico(numeros)"
   ]
  }
 ],
 "metadata": {
  "kernelspec": {
   "display_name": "Python 3",
   "language": "python",
   "name": "python3"
  },
  "language_info": {
   "codemirror_mode": {
    "name": "ipython",
    "version": 3
   },
   "file_extension": ".py",
   "mimetype": "text/x-python",
   "name": "python",
   "nbconvert_exporter": "python",
   "pygments_lexer": "ipython3",
   "version": "3.7.4"
  }
 },
 "nbformat": 4,
 "nbformat_minor": 4
}
