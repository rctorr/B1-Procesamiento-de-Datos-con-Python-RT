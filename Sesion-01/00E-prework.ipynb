{
 "cells": [
  {
   "cell_type": "markdown",
   "metadata": {},
   "source": [
    "# Introducción a Jupyter Notebook\n",
    "\n",
    "## Esto es un título mediano\n",
    "\n",
    "#### Esto es un título más pequeño\n",
    "\n",
    "Esto es un texto simple\n",
    "\n",
    "- Ésta\n",
    "- es\n",
    "- una\n",
    "- lista"
   ]
  },
  {
   "cell_type": "code",
   "execution_count": 1,
   "metadata": {},
   "outputs": [
    {
     "data": {
      "text/plain": [
       "7"
      ]
     },
     "execution_count": 1,
     "metadata": {},
     "output_type": "execute_result"
    }
   ],
   "source": [
    "var_1 = 3\n",
    "var_2 = 4\n",
    "\n",
    "var_1 + var_2"
   ]
  },
  {
   "cell_type": "code",
   "execution_count": 2,
   "metadata": {},
   "outputs": [
    {
     "data": {
      "text/plain": [
       "-1"
      ]
     },
     "execution_count": 2,
     "metadata": {},
     "output_type": "execute_result"
    }
   ],
   "source": [
    "var_3 = 6\n",
    "var_4 = 7\n",
    "\n",
    "var_3 - var_4"
   ]
  },
  {
   "cell_type": "code",
   "execution_count": 3,
   "metadata": {},
   "outputs": [],
   "source": [
    "variable_1 = 10"
   ]
  },
  {
   "cell_type": "code",
   "execution_count": 4,
   "metadata": {},
   "outputs": [
    {
     "data": {
      "text/plain": [
       "10"
      ]
     },
     "execution_count": 4,
     "metadata": {},
     "output_type": "execute_result"
    }
   ],
   "source": [
    "variable_1"
   ]
  },
  {
   "cell_type": "code",
   "execution_count": 5,
   "metadata": {},
   "outputs": [],
   "source": [
    "variable_2 = 15\n",
    "variable_3 = 20\n",
    "variable_4 = 2\n",
    "variable_5 = 16"
   ]
  },
  {
   "cell_type": "code",
   "execution_count": 6,
   "metadata": {},
   "outputs": [
    {
     "data": {
      "text/plain": [
       "25"
      ]
     },
     "execution_count": 6,
     "metadata": {},
     "output_type": "execute_result"
    }
   ],
   "source": [
    "variable_1 + variable_2"
   ]
  },
  {
   "cell_type": "code",
   "execution_count": 7,
   "metadata": {},
   "outputs": [
    {
     "data": {
      "text/plain": [
       "18"
      ]
     },
     "execution_count": 7,
     "metadata": {},
     "output_type": "execute_result"
    }
   ],
   "source": [
    "variable_3 - variable_4"
   ]
  },
  {
   "cell_type": "code",
   "execution_count": 8,
   "metadata": {},
   "outputs": [
    {
     "data": {
      "text/plain": [
       "350"
      ]
     },
     "execution_count": 8,
     "metadata": {},
     "output_type": "execute_result"
    }
   ],
   "source": [
    "variable_1 * (variable_2 + variable_3)"
   ]
  },
  {
   "cell_type": "code",
   "execution_count": 9,
   "metadata": {},
   "outputs": [
    {
     "data": {
      "text/plain": [
       "-0.26666666666666666"
      ]
     },
     "execution_count": 9,
     "metadata": {},
     "output_type": "execute_result"
    }
   ],
   "source": [
    "(variable_5 - variable_3) / variable_2"
   ]
  },
  {
   "cell_type": "code",
   "execution_count": 10,
   "metadata": {},
   "outputs": [
    {
     "name": "stdout",
     "output_type": "stream",
     "text": [
      "17\n",
      "16\n",
      "-8\n"
     ]
    }
   ],
   "source": [
    "print(variable_2 + variable_4)\n",
    "print(variable_5)\n",
    "print(variable_4 - variable_1)"
   ]
  },
  {
   "cell_type": "code",
   "execution_count": 14,
   "metadata": {},
   "outputs": [],
   "source": [
    "variable_int = 5\n",
    "variable_float = 5.2"
   ]
  },
  {
   "cell_type": "code",
   "execution_count": 15,
   "metadata": {},
   "outputs": [
    {
     "data": {
      "text/plain": [
       "int"
      ]
     },
     "execution_count": 15,
     "metadata": {},
     "output_type": "execute_result"
    }
   ],
   "source": [
    "type(variable_int)"
   ]
  },
  {
   "cell_type": "code",
   "execution_count": 16,
   "metadata": {},
   "outputs": [
    {
     "data": {
      "text/plain": [
       "float"
      ]
     },
     "execution_count": 16,
     "metadata": {},
     "output_type": "execute_result"
    }
   ],
   "source": [
    "type(variable_float)"
   ]
  },
  {
   "cell_type": "code",
   "execution_count": 17,
   "metadata": {},
   "outputs": [
    {
     "name": "stdout",
     "output_type": "stream",
     "text": [
      "<class 'int'>\n",
      "<class 'float'>\n"
     ]
    }
   ],
   "source": [
    "print(type(variable_int))\n",
    "print(type(variable_float))"
   ]
  },
  {
   "cell_type": "code",
   "execution_count": 18,
   "metadata": {},
   "outputs": [],
   "source": [
    "variable_str = \"Hola, soy texto\""
   ]
  },
  {
   "cell_type": "code",
   "execution_count": 19,
   "metadata": {},
   "outputs": [],
   "source": [
    "# Esto es un comentario sobre el código de abajo\n",
    "\n",
    "num_1 = 5\n",
    "str_1 = \"Hola\""
   ]
  },
  {
   "cell_type": "code",
   "execution_count": 20,
   "metadata": {},
   "outputs": [
    {
     "name": "stdout",
     "output_type": "stream",
     "text": [
      "Suma:\n",
      "25\n",
      "Resta\n",
      "18\n"
     ]
    }
   ],
   "source": [
    "print(\"Suma:\")\n",
    "print(variable_1 + variable_2)\n",
    "\n",
    "print(\"Resta\")\n",
    "print(variable_3 - variable_4)"
   ]
  },
  {
   "cell_type": "code",
   "execution_count": 21,
   "metadata": {},
   "outputs": [
    {
     "name": "stdout",
     "output_type": "stream",
     "text": [
      "Vamos a imprimir la variable_1: 10\n",
      "Ahora la variable_2: 15\n",
      "Ahora la variable_3: 20; y la variable_4: 2\n"
     ]
    }
   ],
   "source": [
    "print(f'Vamos a imprimir la variable_1: {variable_1}')\n",
    "print(f'Ahora la variable_2: {variable_2}')\n",
    "print(f'Ahora la variable_3: {variable_3}; y la variable_4: {variable_4}')"
   ]
  },
  {
   "cell_type": "code",
   "execution_count": 22,
   "metadata": {},
   "outputs": [
    {
     "name": "stdout",
     "output_type": "stream",
     "text": [
      "<class 'bool'>\n",
      "False\n"
     ]
    }
   ],
   "source": [
    "var_bool_1 = True\n",
    "var_bool_2 = False\n",
    "\n",
    "print(type(var_bool_1))\n",
    "print(var_bool_2)"
   ]
  },
  {
   "cell_type": "code",
   "execution_count": 23,
   "metadata": {},
   "outputs": [
    {
     "data": {
      "text/plain": [
       "True"
      ]
     },
     "execution_count": 23,
     "metadata": {},
     "output_type": "execute_result"
    }
   ],
   "source": [
    "var_1 = 4\n",
    "var_2 = 6\n",
    "\n",
    "var_1 < var_2"
   ]
  },
  {
   "cell_type": "code",
   "execution_count": 31,
   "metadata": {},
   "outputs": [
    {
     "name": "stdout",
     "output_type": "stream",
     "text": [
      "Mayor que:\n",
      "4 > 6\n",
      "Resultado => False\n",
      "\n",
      "\n",
      "Mayor o igual que:\n",
      "4 >= 7\n",
      "Resultado => False\n",
      "\n",
      "\n",
      "Menor que:\n",
      "8 < 2\n",
      "Resultado => False\n",
      "\n",
      "\n",
      "Menor o igual que:\n",
      "9 <= 1\n",
      "Resultado => False\n",
      "\n",
      "\n",
      "Igual que:\n",
      "7 == 8\n",
      "Resultado => False\n",
      "\n",
      "\n",
      "No igual que:\n",
      "4 != 4\n",
      "Resultado => False\n",
      "\n",
      "\n"
     ]
    }
   ],
   "source": [
    "print(\"Mayor que:\")\n",
    "print(\"4 > 6\")\n",
    "print(f'Resultado => {4 > 6}')\n",
    "print(\"\\n\")\n",
    "\n",
    "print(\"Mayor o igual que:\")\n",
    "print(\"4 >= 7\")\n",
    "print(f'Resultado => {4 >= 7}')\n",
    "print(\"\\n\")\n",
    "\n",
    "print(\"Menor que:\")\n",
    "print(\"8 < 2\")\n",
    "print(f'Resultado => {8 < 2}')\n",
    "print(\"\\n\")\n",
    "\n",
    "print(\"Menor o igual que:\")\n",
    "print(\"9 <= 1\")\n",
    "print(f'Resultado => {9 <= 1}')\n",
    "print(\"\\n\")\n",
    "\n",
    "print(\"Igual que:\")\n",
    "print(\"7 == 8\")\n",
    "print(f'Resultado => {7 == 8}')\n",
    "print(\"\\n\")\n",
    "\n",
    "print(\"No igual que:\")\n",
    "print(\"4 != 4\")\n",
    "print(f'Resultado => {4 != 4}')\n",
    "print(\"\\n\")"
   ]
  },
  {
   "cell_type": "code",
   "execution_count": 35,
   "metadata": {},
   "outputs": [
    {
     "name": "stdout",
     "output_type": "stream",
     "text": [
      "Yo voy a correr si la comparación de arriba es False\n"
     ]
    }
   ],
   "source": [
    "if 7 < 4:\n",
    "    print(\"Efectivamente, 4 es menor que 7\")\n",
    "else:\n",
    "    print(\"Yo voy a correr si la comparación de arriba es False\")"
   ]
  },
  {
   "cell_type": "code",
   "execution_count": 38,
   "metadata": {},
   "outputs": [
    {
     "name": "stdout",
     "output_type": "stream",
     "text": [
      "Var 1 es igual a Var 2\n"
     ]
    }
   ],
   "source": [
    "var_1 = 18\n",
    "var_2 = 18\n",
    "\n",
    "if var_1 > var_2:\n",
    "    print(\"Var 1 es mayor que Var 2\")\n",
    "elif var_1 < var_2:\n",
    "    print(\"Var 1 es menor que Var 2\")\n",
    "else:\n",
    "    print(\"Var 1 es igual a Var 2\")"
   ]
  },
  {
   "cell_type": "code",
   "execution_count": null,
   "metadata": {},
   "outputs": [],
   "source": []
  }
 ],
 "metadata": {
  "kernelspec": {
   "display_name": "Python (data_science)",
   "language": "python",
   "name": "data_science"
  },
  "language_info": {
   "codemirror_mode": {
    "name": "ipython",
    "version": 3
   },
   "file_extension": ".py",
   "mimetype": "text/x-python",
   "name": "python",
   "nbconvert_exporter": "python",
   "pygments_lexer": "ipython3",
   "version": "3.8.5"
  }
 },
 "nbformat": 4,
 "nbformat_minor": 4
}
