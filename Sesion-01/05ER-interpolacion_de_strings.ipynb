{
 "cells": [
  {
   "cell_type": "markdown",
   "metadata": {},
   "source": [
    "## Ejemplo 5: Interpolación de strings\n",
    "\n",
    "### 1. Objetivos:\n",
    "    - Aprender a imprimir strings\n",
    "    - Aprender a interpolar variables dentro de strings\n",
    " \n",
    "---\n",
    "    \n",
    "### 2. Desarrollo:"
   ]
  },
  {
   "cell_type": "markdown",
   "metadata": {},
   "source": [
    "Podemos agregar mensajes de texto o anotaciones en los resultados de nuestro código, por ejemplo la siguiente celda suma dos variables y muestra el resultado, pero el valor que representa, la suma del peso de dos productos o el procentaje de dos categorías y esto pasa porque los valores sin contexto pueden ser ambiguos, entonces agregaremos un mensaje antes del resultado usando `print()`"
   ]
  },
  {
   "cell_type": "code",
   "execution_count": null,
   "metadata": {},
   "outputs": [],
   "source": [
    "var_1 = 15.3\n",
    "var_2 = 23.4\n",
    "\n",
    "# obtén e imprime la suma"
   ]
  },
  {
   "cell_type": "markdown",
   "metadata": {},
   "source": [
    "Pero a veces resulta necesario o deseable incluir el valor de la variable dentro de dicho mensaje, para eso utilizamos las llamadas `f-strings` en Python. El formato de una `f-string` es el siguiente:\n",
    "\n",
    "`f\"Esto es texto {esto_es_una_variable} esto es más texto\"`\n",
    "\n",
    "Escribiendo una `f` antes de las comillas le indicamos a Python que lo que pongas dentro de las llaves (`{}`) será código de Python. En este caso, una variable asignada previamente.\n",
    "\n",
    "Ahora podemos crear un mensaje en una sóla línea indicando el total resultante así:\n",
    "\n",
    "`El total de la suma es: 67.3`"
   ]
  },
  {
   "cell_type": "code",
   "execution_count": null,
   "metadata": {},
   "outputs": [],
   "source": [
    "var_3 = 43\n",
    "var_4 = 24.3\n",
    "\n",
    "suma = var_3 + var_4\n",
    "\n",
    "# Usa f-string para imprimir el mensaje"
   ]
  },
  {
   "cell_type": "markdown",
   "metadata": {},
   "source": [
    "O incluso puedes hacer algo como esto:\n",
    "\n",
    "`La suma de 43 y 24.3 es: 67.3`"
   ]
  },
  {
   "cell_type": "code",
   "execution_count": null,
   "metadata": {},
   "outputs": [],
   "source": [
    "# Usa un f-strings más cool"
   ]
  },
  {
   "cell_type": "markdown",
   "metadata": {},
   "source": [
    "## Reto 5: Interpolación de strings\n",
    "\n",
    "### 1. Objetivos:\n",
    "    - Practicar interpolación de strings\n",
    " \n",
    "---\n",
    "    \n",
    "### 2. Desarrollo:"
   ]
  },
  {
   "cell_type": "markdown",
   "metadata": {},
   "source": [
    "A continuación tienes algunas variables asignadas:"
   ]
  },
  {
   "cell_type": "code",
   "execution_count": null,
   "metadata": {},
   "outputs": [],
   "source": [
    "nombre_1 = \"Jenny\"\n",
    "nombre_2 = \"Marco P.\"\n",
    "\n",
    "edad_1 = 110\n",
    "edad_2 = 42\n",
    "\n",
    "estrella_1 = \"Woopsie Doopsies\"\n",
    "estrella_2 = \"Omega-3\"\n",
    "estrella_3 = \"Justin Bieber\"\n",
    "estrella_4 = \"La Twinkle\"\n",
    "estrella_5 = \"Rosaberta\"\n",
    "\n",
    "total_de_nombres_de_estrellas_mencionados = 5\n",
    "numero_de_estrellas_deseadas = 325"
   ]
  },
  {
   "cell_type": "markdown",
   "metadata": {},
   "source": [
    "Usando **TODAS** las variables de arriba, en la siguiente celda modifica la **string** dentro de la función `print()` para que al correr la celda, imprima la siguiente historia:\n",
    "\n",
    "> \"Marco P. y Jenny son grandes amigues. Les mejores. Van y vienen juntes desde hace décadas. Sí, décadas. Marco P. tiene 110 años y Jenny 42. Si sumas sus edades, obtienes 152, que curiosamente es el número de estrellas que Marco P. y Jenny han nombrado juntes. Sus estrellas son su mayor fascinación. Las compraron en Best Buy en una ganga de objetos celestes. Están 'Woopsie Doopsies', 'Omega-3', 'Justin Bieber', 'La Twinkle', 'Rosaberta' y otras 147 estrellas más. Marco P. y Jenny tienen planeado sobrevivir hasta el siglo XXII. ¡Cuántas estrellas más habrán de comprar y nombrar juntes! Su meta es 325. Sólo faltan 173. ¡Vamos Marco P. y Jenny! Marco P. y Jenny son les mejores amigues. No hay duda alguna.\"\n",
    "\n",
    "Recuerda utilizar **TODAS** las variables que hemos asignado o crea nuevas si te hacen falta. También, todos los números que aparezcan en el texto deben de ser variables interpoladas u operaciones aritméticas. Ningún número puede ser una string simple.\n",
    "\n",
    "¡Mucha suerte!"
   ]
  },
  {
   "cell_type": "code",
   "execution_count": null,
   "metadata": {},
   "outputs": [],
   "source": [
    "print(f\"{nombre_1} y {nombre_2} son grandes amigues.\")"
   ]
  },
  {
   "cell_type": "code",
   "execution_count": null,
   "metadata": {},
   "outputs": [],
   "source": []
  }
 ],
 "metadata": {
  "kernelspec": {
   "display_name": "Python 3",
   "language": "python",
   "name": "python3"
  },
  "language_info": {
   "codemirror_mode": {
    "name": "ipython",
    "version": 3
   },
   "file_extension": ".py",
   "mimetype": "text/x-python",
   "name": "python",
   "nbconvert_exporter": "python",
   "pygments_lexer": "ipython3",
   "version": "3.7.4"
  }
 },
 "nbformat": 4,
 "nbformat_minor": 4
}
