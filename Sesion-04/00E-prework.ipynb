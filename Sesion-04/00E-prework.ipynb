{
 "cells": [
  {
   "cell_type": "code",
   "execution_count": 3,
   "metadata": {},
   "outputs": [],
   "source": [
    "import pandas as pd"
   ]
  },
  {
   "cell_type": "code",
   "execution_count": 14,
   "metadata": {},
   "outputs": [
    {
     "data": {
      "text/plain": [
       "0    4\n",
       "1    7\n",
       "2    6\n",
       "3    2\n",
       "dtype: int64"
      ]
     },
     "execution_count": 14,
     "metadata": {},
     "output_type": "execute_result"
    }
   ],
   "source": [
    "serie = pd.Series([4, 7, 6, 2])\n",
    "\n",
    "serie"
   ]
  },
  {
   "cell_type": "code",
   "execution_count": 15,
   "metadata": {},
   "outputs": [
    {
     "data": {
      "text/plain": [
       "1    7\n",
       "2    6\n",
       "dtype: int64"
      ]
     },
     "execution_count": 15,
     "metadata": {},
     "output_type": "execute_result"
    }
   ],
   "source": [
    "serie.loc[1:2]"
   ]
  },
  {
   "cell_type": "code",
   "execution_count": null,
   "metadata": {},
   "outputs": [],
   "source": [
    "pd.Series()"
   ]
  },
  {
   "cell_type": "code",
   "execution_count": null,
   "metadata": {},
   "outputs": [],
   "source": [
    "pd.Series([])"
   ]
  },
  {
   "cell_type": "code",
   "execution_count": null,
   "metadata": {},
   "outputs": [],
   "source": [
    "pd.Series([3, 7, 5, 8])"
   ]
  },
  {
   "cell_type": "code",
   "execution_count": null,
   "metadata": {},
   "outputs": [],
   "source": [
    "pd.Series([3, 7, 5, 8])"
   ]
  },
  {
   "cell_type": "code",
   "execution_count": 3,
   "metadata": {},
   "outputs": [
    {
     "data": {
      "text/plain": [
       "0    3\n",
       "1    7\n",
       "2    5\n",
       "3    8\n",
       "dtype: int64"
      ]
     },
     "execution_count": 3,
     "metadata": {},
     "output_type": "execute_result"
    }
   ],
   "source": [
    "serie = pd.Series([3, 7, 5, 8])\n",
    "\n",
    "serie"
   ]
  },
  {
   "cell_type": "code",
   "execution_count": 4,
   "metadata": {},
   "outputs": [
    {
     "data": {
      "text/plain": [
       "5"
      ]
     },
     "execution_count": 4,
     "metadata": {},
     "output_type": "execute_result"
    }
   ],
   "source": [
    "serie.loc[2]"
   ]
  },
  {
   "cell_type": "code",
   "execution_count": 4,
   "metadata": {},
   "outputs": [
    {
     "data": {
      "text/plain": [
       "10    3\n",
       "11    7\n",
       "12    5\n",
       "13    8\n",
       "dtype: int64"
      ]
     },
     "execution_count": 4,
     "metadata": {},
     "output_type": "execute_result"
    }
   ],
   "source": [
    "serie = pd.Series([3, 7, 5, 8], index=[10, 11, 12, 13])\n",
    "\n",
    "serie"
   ]
  },
  {
   "cell_type": "code",
   "execution_count": 5,
   "metadata": {},
   "outputs": [
    {
     "data": {
      "text/plain": [
       "5"
      ]
     },
     "execution_count": 5,
     "metadata": {},
     "output_type": "execute_result"
    }
   ],
   "source": [
    "serie.loc[12]"
   ]
  },
  {
   "cell_type": "code",
   "execution_count": null,
   "metadata": {},
   "outputs": [],
   "source": [
    "serie[12]"
   ]
  },
  {
   "cell_type": "code",
   "execution_count": 17,
   "metadata": {},
   "outputs": [
    {
     "data": {
      "text/plain": [
       "a    3\n",
       "b    7\n",
       "c    5\n",
       "d    8\n",
       "dtype: int64"
      ]
     },
     "execution_count": 17,
     "metadata": {},
     "output_type": "execute_result"
    }
   ],
   "source": [
    "serie = pd.Series([3, 7, 5, 8], index=['a', 'b', 'c', 'd'])\n",
    "\n",
    "serie"
   ]
  },
  {
   "cell_type": "code",
   "execution_count": 18,
   "metadata": {},
   "outputs": [
    {
     "data": {
      "text/plain": [
       "5"
      ]
     },
     "execution_count": 18,
     "metadata": {},
     "output_type": "execute_result"
    }
   ],
   "source": [
    "serie.loc['c']"
   ]
  },
  {
   "cell_type": "code",
   "execution_count": 19,
   "metadata": {},
   "outputs": [
    {
     "data": {
      "text/plain": [
       "c    5\n",
       "d    8\n",
       "dtype: int64"
      ]
     },
     "execution_count": 19,
     "metadata": {},
     "output_type": "execute_result"
    }
   ],
   "source": [
    "serie.loc['c':]"
   ]
  },
  {
   "cell_type": "code",
   "execution_count": 20,
   "metadata": {},
   "outputs": [
    {
     "data": {
      "text/plain": [
       "a      3\n",
       "b    100\n",
       "c      5\n",
       "d      8\n",
       "dtype: int64"
      ]
     },
     "execution_count": 20,
     "metadata": {},
     "output_type": "execute_result"
    }
   ],
   "source": [
    "serie.loc['b'] = 100\n",
    "\n",
    "serie"
   ]
  },
  {
   "cell_type": "code",
   "execution_count": 21,
   "metadata": {},
   "outputs": [
    {
     "data": {
      "text/plain": [
       "b    100\n",
       "c      5\n",
       "dtype: int64"
      ]
     },
     "execution_count": 21,
     "metadata": {},
     "output_type": "execute_result"
    }
   ],
   "source": [
    "serie.loc[['b', 'c']]"
   ]
  },
  {
   "cell_type": "code",
   "execution_count": 22,
   "metadata": {},
   "outputs": [
    {
     "data": {
      "text/plain": [
       "0     4\n",
       "1     7\n",
       "2     9\n",
       "3     5\n",
       "4     6\n",
       "5     0\n",
       "6     7\n",
       "7     2\n",
       "8     4\n",
       "9     5\n",
       "10    8\n",
       "dtype: int64"
      ]
     },
     "execution_count": 22,
     "metadata": {},
     "output_type": "execute_result"
    }
   ],
   "source": [
    "serie = pd.Series([4, 7, 9, 5, 6, 0, 7, 2, 4, 5, 8])\n",
    "\n",
    "serie"
   ]
  },
  {
   "cell_type": "code",
   "execution_count": 23,
   "metadata": {},
   "outputs": [
    {
     "data": {
      "text/plain": [
       "5     0\n",
       "6     7\n",
       "7     2\n",
       "8     4\n",
       "9     5\n",
       "10    8\n",
       "dtype: int64"
      ]
     },
     "execution_count": 23,
     "metadata": {},
     "output_type": "execute_result"
    }
   ],
   "source": [
    "serie.loc[5:]"
   ]
  },
  {
   "cell_type": "code",
   "execution_count": 24,
   "metadata": {},
   "outputs": [
    {
     "data": {
      "text/plain": [
       "0    4\n",
       "1    7\n",
       "2    9\n",
       "3    5\n",
       "4    6\n",
       "5    0\n",
       "dtype: int64"
      ]
     },
     "execution_count": 24,
     "metadata": {},
     "output_type": "execute_result"
    }
   ],
   "source": [
    "serie.loc[:5]"
   ]
  },
  {
   "cell_type": "code",
   "execution_count": 25,
   "metadata": {},
   "outputs": [
    {
     "data": {
      "text/plain": [
       "3    5\n",
       "4    6\n",
       "5    0\n",
       "6    7\n",
       "7    2\n",
       "dtype: int64"
      ]
     },
     "execution_count": 25,
     "metadata": {},
     "output_type": "execute_result"
    }
   ],
   "source": [
    "serie.loc[3:7]"
   ]
  },
  {
   "cell_type": "code",
   "execution_count": null,
   "metadata": {},
   "outputs": [],
   "source": [
    "type(True)"
   ]
  },
  {
   "cell_type": "code",
   "execution_count": null,
   "metadata": {},
   "outputs": [],
   "source": [
    "float_series = pd.Series([1.4, 3.5, 7.8, 9.8])\n",
    "\n",
    "float_series"
   ]
  },
  {
   "cell_type": "code",
   "execution_count": null,
   "metadata": {},
   "outputs": [],
   "source": [
    "bool_series = pd.Series([True, False, False, True])\n",
    "\n",
    "bool_series"
   ]
  },
  {
   "cell_type": "code",
   "execution_count": null,
   "metadata": {},
   "outputs": [],
   "source": [
    "str_series = pd.Series(['a', 'b', 'c', 'd'])\n",
    "\n",
    "str_series"
   ]
  },
  {
   "cell_type": "code",
   "execution_count": null,
   "metadata": {},
   "outputs": [],
   "source": [
    "obj_series = pd.Series(['a', 1, 3.5, True])\n",
    "\n",
    "obj_series"
   ]
  },
  {
   "cell_type": "code",
   "execution_count": null,
   "metadata": {},
   "outputs": [],
   "source": [
    "mixed_series = pd.Series([1, 3, True, False])\n",
    "\n",
    "mixed_series"
   ]
  },
  {
   "cell_type": "code",
   "execution_count": null,
   "metadata": {},
   "outputs": [],
   "source": [
    "int_series = pd.Series([1, 4, 7, 4])\n",
    "\n",
    "int_series"
   ]
  },
  {
   "cell_type": "code",
   "execution_count": 11,
   "metadata": {},
   "outputs": [],
   "source": [
    "data = {\n",
    "    \"Nombre\": [\"Woopsie Doopsies\", \"Omega-3\", \"Justin Bieber\", \"La Twinkle\", \"Rosaberta\"],\n",
    "    \"Intensidad (1-10)\": [5, 3, 8, 7, 2],\n",
    "    \"Es Parte de Nuestra Galaxia\": [True, False, False, True, True],\n",
    "    \"Coleccionador que la encontró\": [\"Marco P.\", \"Marco P.\", \"Jenny\", \"Marco P.\", \"Jenny\"]\n",
    "}"
   ]
  },
  {
   "cell_type": "code",
   "execution_count": 12,
   "metadata": {},
   "outputs": [],
   "source": [
    "df = pd.DataFrame(data, index=['a', 'b', 'c', 'd', 'e'])"
   ]
  },
  {
   "cell_type": "code",
   "execution_count": 13,
   "metadata": {},
   "outputs": [
    {
     "data": {
      "text/html": [
       "<div>\n",
       "<style scoped>\n",
       "    .dataframe tbody tr th:only-of-type {\n",
       "        vertical-align: middle;\n",
       "    }\n",
       "\n",
       "    .dataframe tbody tr th {\n",
       "        vertical-align: top;\n",
       "    }\n",
       "\n",
       "    .dataframe thead th {\n",
       "        text-align: right;\n",
       "    }\n",
       "</style>\n",
       "<table border=\"1\" class=\"dataframe\">\n",
       "  <thead>\n",
       "    <tr style=\"text-align: right;\">\n",
       "      <th></th>\n",
       "      <th>Nombre</th>\n",
       "      <th>Intensidad (1-10)</th>\n",
       "      <th>Es Parte de Nuestra Galaxia</th>\n",
       "      <th>Coleccionador que la encontró</th>\n",
       "    </tr>\n",
       "  </thead>\n",
       "  <tbody>\n",
       "    <tr>\n",
       "      <th>a</th>\n",
       "      <td>Woopsie Doopsies</td>\n",
       "      <td>5</td>\n",
       "      <td>True</td>\n",
       "      <td>Marco P.</td>\n",
       "    </tr>\n",
       "    <tr>\n",
       "      <th>b</th>\n",
       "      <td>Omega-3</td>\n",
       "      <td>3</td>\n",
       "      <td>False</td>\n",
       "      <td>Marco P.</td>\n",
       "    </tr>\n",
       "    <tr>\n",
       "      <th>c</th>\n",
       "      <td>Justin Bieber</td>\n",
       "      <td>8</td>\n",
       "      <td>False</td>\n",
       "      <td>Jenny</td>\n",
       "    </tr>\n",
       "    <tr>\n",
       "      <th>d</th>\n",
       "      <td>La Twinkle</td>\n",
       "      <td>7</td>\n",
       "      <td>True</td>\n",
       "      <td>Marco P.</td>\n",
       "    </tr>\n",
       "    <tr>\n",
       "      <th>e</th>\n",
       "      <td>Rosaberta</td>\n",
       "      <td>2</td>\n",
       "      <td>True</td>\n",
       "      <td>Jenny</td>\n",
       "    </tr>\n",
       "  </tbody>\n",
       "</table>\n",
       "</div>"
      ],
      "text/plain": [
       "             Nombre  Intensidad (1-10)  Es Parte de Nuestra Galaxia  \\\n",
       "a  Woopsie Doopsies                  5                         True   \n",
       "b           Omega-3                  3                        False   \n",
       "c     Justin Bieber                  8                        False   \n",
       "d        La Twinkle                  7                         True   \n",
       "e         Rosaberta                  2                         True   \n",
       "\n",
       "  Coleccionador que la encontró  \n",
       "a                      Marco P.  \n",
       "b                      Marco P.  \n",
       "c                         Jenny  \n",
       "d                      Marco P.  \n",
       "e                         Jenny  "
      ]
     },
     "execution_count": 13,
     "metadata": {},
     "output_type": "execute_result"
    }
   ],
   "source": [
    "df"
   ]
  },
  {
   "cell_type": "code",
   "execution_count": 15,
   "metadata": {},
   "outputs": [
    {
     "data": {
      "text/html": [
       "<div>\n",
       "<style scoped>\n",
       "    .dataframe tbody tr th:only-of-type {\n",
       "        vertical-align: middle;\n",
       "    }\n",
       "\n",
       "    .dataframe tbody tr th {\n",
       "        vertical-align: top;\n",
       "    }\n",
       "\n",
       "    .dataframe thead th {\n",
       "        text-align: right;\n",
       "    }\n",
       "</style>\n",
       "<table border=\"1\" class=\"dataframe\">\n",
       "  <thead>\n",
       "    <tr style=\"text-align: right;\">\n",
       "      <th></th>\n",
       "      <th>Intensidad (1-10)</th>\n",
       "      <th>Nombre</th>\n",
       "    </tr>\n",
       "  </thead>\n",
       "  <tbody>\n",
       "    <tr>\n",
       "      <th>a</th>\n",
       "      <td>5</td>\n",
       "      <td>Woopsie Doopsies</td>\n",
       "    </tr>\n",
       "    <tr>\n",
       "      <th>b</th>\n",
       "      <td>3</td>\n",
       "      <td>Omega-3</td>\n",
       "    </tr>\n",
       "    <tr>\n",
       "      <th>c</th>\n",
       "      <td>8</td>\n",
       "      <td>Justin Bieber</td>\n",
       "    </tr>\n",
       "    <tr>\n",
       "      <th>d</th>\n",
       "      <td>7</td>\n",
       "      <td>La Twinkle</td>\n",
       "    </tr>\n",
       "    <tr>\n",
       "      <th>e</th>\n",
       "      <td>2</td>\n",
       "      <td>Rosaberta</td>\n",
       "    </tr>\n",
       "  </tbody>\n",
       "</table>\n",
       "</div>"
      ],
      "text/plain": [
       "   Intensidad (1-10)            Nombre\n",
       "a                  5  Woopsie Doopsies\n",
       "b                  3           Omega-3\n",
       "c                  8     Justin Bieber\n",
       "d                  7        La Twinkle\n",
       "e                  2         Rosaberta"
      ]
     },
     "execution_count": 15,
     "metadata": {},
     "output_type": "execute_result"
    }
   ],
   "source": [
    "df[[\"Intensidad (1-10)\", \"Nombre\"]]"
   ]
  },
  {
   "cell_type": "code",
   "execution_count": 28,
   "metadata": {},
   "outputs": [
    {
     "data": {
      "text/html": [
       "<div>\n",
       "<style scoped>\n",
       "    .dataframe tbody tr th:only-of-type {\n",
       "        vertical-align: middle;\n",
       "    }\n",
       "\n",
       "    .dataframe tbody tr th {\n",
       "        vertical-align: top;\n",
       "    }\n",
       "\n",
       "    .dataframe thead th {\n",
       "        text-align: right;\n",
       "    }\n",
       "</style>\n",
       "<table border=\"1\" class=\"dataframe\">\n",
       "  <thead>\n",
       "    <tr style=\"text-align: right;\">\n",
       "      <th></th>\n",
       "      <th>Nombre</th>\n",
       "      <th>Intensidad (1-10)</th>\n",
       "      <th>Es Parte de Nuestra Galaxia</th>\n",
       "      <th>Coleccionador que la encontró</th>\n",
       "    </tr>\n",
       "  </thead>\n",
       "  <tbody>\n",
       "    <tr>\n",
       "      <th>a</th>\n",
       "      <td>Woopsie Doopsies</td>\n",
       "      <td>5</td>\n",
       "      <td>True</td>\n",
       "      <td>Marco P.</td>\n",
       "    </tr>\n",
       "    <tr>\n",
       "      <th>b</th>\n",
       "      <td>Omega-3</td>\n",
       "      <td>3</td>\n",
       "      <td>False</td>\n",
       "      <td>Marco P.</td>\n",
       "    </tr>\n",
       "    <tr>\n",
       "      <th>c</th>\n",
       "      <td>Justin Bieber</td>\n",
       "      <td>8</td>\n",
       "      <td>False</td>\n",
       "      <td>Jenny</td>\n",
       "    </tr>\n",
       "    <tr>\n",
       "      <th>d</th>\n",
       "      <td>La Twinkle</td>\n",
       "      <td>7</td>\n",
       "      <td>True</td>\n",
       "      <td>Marco P.</td>\n",
       "    </tr>\n",
       "    <tr>\n",
       "      <th>e</th>\n",
       "      <td>Rosaberta</td>\n",
       "      <td>2</td>\n",
       "      <td>True</td>\n",
       "      <td>Jenny</td>\n",
       "    </tr>\n",
       "  </tbody>\n",
       "</table>\n",
       "</div>"
      ],
      "text/plain": [
       "             Nombre  Intensidad (1-10)  Es Parte de Nuestra Galaxia  \\\n",
       "a  Woopsie Doopsies                  5                         True   \n",
       "b           Omega-3                  3                        False   \n",
       "c     Justin Bieber                  8                        False   \n",
       "d        La Twinkle                  7                         True   \n",
       "e         Rosaberta                  2                         True   \n",
       "\n",
       "  Coleccionador que la encontró  \n",
       "a                      Marco P.  \n",
       "b                      Marco P.  \n",
       "c                         Jenny  \n",
       "d                      Marco P.  \n",
       "e                         Jenny  "
      ]
     },
     "execution_count": 28,
     "metadata": {},
     "output_type": "execute_result"
    }
   ],
   "source": [
    "df[:]"
   ]
  },
  {
   "cell_type": "code",
   "execution_count": 29,
   "metadata": {},
   "outputs": [
    {
     "data": {
      "text/plain": [
       "Nombre                            Omega-3\n",
       "Intensidad (1-10)                       3\n",
       "Es Parte de Nuestra Galaxia         False\n",
       "Coleccionador que la encontró    Marco P.\n",
       "Name: b, dtype: object"
      ]
     },
     "execution_count": 29,
     "metadata": {},
     "output_type": "execute_result"
    }
   ],
   "source": [
    "df.loc['b']"
   ]
  },
  {
   "cell_type": "code",
   "execution_count": 30,
   "metadata": {},
   "outputs": [
    {
     "data": {
      "text/html": [
       "<div>\n",
       "<style scoped>\n",
       "    .dataframe tbody tr th:only-of-type {\n",
       "        vertical-align: middle;\n",
       "    }\n",
       "\n",
       "    .dataframe tbody tr th {\n",
       "        vertical-align: top;\n",
       "    }\n",
       "\n",
       "    .dataframe thead th {\n",
       "        text-align: right;\n",
       "    }\n",
       "</style>\n",
       "<table border=\"1\" class=\"dataframe\">\n",
       "  <thead>\n",
       "    <tr style=\"text-align: right;\">\n",
       "      <th></th>\n",
       "      <th>Nombre</th>\n",
       "      <th>Intensidad (1-10)</th>\n",
       "      <th>Es Parte de Nuestra Galaxia</th>\n",
       "      <th>Coleccionador que la encontró</th>\n",
       "    </tr>\n",
       "  </thead>\n",
       "  <tbody>\n",
       "    <tr>\n",
       "      <th>a</th>\n",
       "      <td>Woopsie Doopsies</td>\n",
       "      <td>5</td>\n",
       "      <td>True</td>\n",
       "      <td>Marco P.</td>\n",
       "    </tr>\n",
       "    <tr>\n",
       "      <th>b</th>\n",
       "      <td>Omega-3</td>\n",
       "      <td>3</td>\n",
       "      <td>False</td>\n",
       "      <td>Marco P.</td>\n",
       "    </tr>\n",
       "  </tbody>\n",
       "</table>\n",
       "</div>"
      ],
      "text/plain": [
       "             Nombre  Intensidad (1-10)  Es Parte de Nuestra Galaxia  \\\n",
       "a  Woopsie Doopsies                  5                         True   \n",
       "b           Omega-3                  3                        False   \n",
       "\n",
       "  Coleccionador que la encontró  \n",
       "a                      Marco P.  \n",
       "b                      Marco P.  "
      ]
     },
     "execution_count": 30,
     "metadata": {},
     "output_type": "execute_result"
    }
   ],
   "source": [
    "df.loc[['a', 'b']]"
   ]
  },
  {
   "cell_type": "code",
   "execution_count": 31,
   "metadata": {},
   "outputs": [
    {
     "data": {
      "text/plain": [
       "'Woopsie Doopsies'"
      ]
     },
     "execution_count": 31,
     "metadata": {},
     "output_type": "execute_result"
    }
   ],
   "source": [
    "df.loc['a', 'Nombre']"
   ]
  },
  {
   "cell_type": "code",
   "execution_count": 32,
   "metadata": {},
   "outputs": [
    {
     "data": {
      "text/html": [
       "<div>\n",
       "<style scoped>\n",
       "    .dataframe tbody tr th:only-of-type {\n",
       "        vertical-align: middle;\n",
       "    }\n",
       "\n",
       "    .dataframe tbody tr th {\n",
       "        vertical-align: top;\n",
       "    }\n",
       "\n",
       "    .dataframe thead th {\n",
       "        text-align: right;\n",
       "    }\n",
       "</style>\n",
       "<table border=\"1\" class=\"dataframe\">\n",
       "  <thead>\n",
       "    <tr style=\"text-align: right;\">\n",
       "      <th></th>\n",
       "      <th>Nombre</th>\n",
       "      <th>Intensidad (1-10)</th>\n",
       "    </tr>\n",
       "  </thead>\n",
       "  <tbody>\n",
       "    <tr>\n",
       "      <th>a</th>\n",
       "      <td>Woopsie Doopsies</td>\n",
       "      <td>5</td>\n",
       "    </tr>\n",
       "    <tr>\n",
       "      <th>b</th>\n",
       "      <td>Omega-3</td>\n",
       "      <td>3</td>\n",
       "    </tr>\n",
       "  </tbody>\n",
       "</table>\n",
       "</div>"
      ],
      "text/plain": [
       "             Nombre  Intensidad (1-10)\n",
       "a  Woopsie Doopsies                  5\n",
       "b           Omega-3                  3"
      ]
     },
     "execution_count": 32,
     "metadata": {},
     "output_type": "execute_result"
    }
   ],
   "source": [
    "df.loc[['a', 'b'], ['Nombre', 'Intensidad (1-10)']]"
   ]
  },
  {
   "cell_type": "code",
   "execution_count": 38,
   "metadata": {},
   "outputs": [
    {
     "data": {
      "text/html": [
       "<div>\n",
       "<style scoped>\n",
       "    .dataframe tbody tr th:only-of-type {\n",
       "        vertical-align: middle;\n",
       "    }\n",
       "\n",
       "    .dataframe tbody tr th {\n",
       "        vertical-align: top;\n",
       "    }\n",
       "\n",
       "    .dataframe thead th {\n",
       "        text-align: right;\n",
       "    }\n",
       "</style>\n",
       "<table border=\"1\" class=\"dataframe\">\n",
       "  <thead>\n",
       "    <tr style=\"text-align: right;\">\n",
       "      <th></th>\n",
       "      <th>Nombre</th>\n",
       "      <th>Intensidad (1-10)</th>\n",
       "      <th>Es Parte de Nuestra Galaxia</th>\n",
       "      <th>Coleccionador que la encontró</th>\n",
       "    </tr>\n",
       "  </thead>\n",
       "  <tbody>\n",
       "    <tr>\n",
       "      <th>a</th>\n",
       "      <td>Woopsie Doopsies</td>\n",
       "      <td>5</td>\n",
       "      <td>True</td>\n",
       "      <td>Jocolito Gutiérrez</td>\n",
       "    </tr>\n",
       "    <tr>\n",
       "      <th>b</th>\n",
       "      <td>Omega-3</td>\n",
       "      <td>3</td>\n",
       "      <td>False</td>\n",
       "      <td>Marco P.</td>\n",
       "    </tr>\n",
       "    <tr>\n",
       "      <th>c</th>\n",
       "      <td>Justin Bieber</td>\n",
       "      <td>8</td>\n",
       "      <td>False</td>\n",
       "      <td>Jenny</td>\n",
       "    </tr>\n",
       "    <tr>\n",
       "      <th>d</th>\n",
       "      <td>La Twinkle</td>\n",
       "      <td>7</td>\n",
       "      <td>True</td>\n",
       "      <td>Jocolito Gutiérrez</td>\n",
       "    </tr>\n",
       "    <tr>\n",
       "      <th>e</th>\n",
       "      <td>Rosaberta</td>\n",
       "      <td>2</td>\n",
       "      <td>True</td>\n",
       "      <td>NaN</td>\n",
       "    </tr>\n",
       "  </tbody>\n",
       "</table>\n",
       "</div>"
      ],
      "text/plain": [
       "             Nombre  Intensidad (1-10)  Es Parte de Nuestra Galaxia  \\\n",
       "a  Woopsie Doopsies                  5                         True   \n",
       "b           Omega-3                  3                        False   \n",
       "c     Justin Bieber                  8                        False   \n",
       "d        La Twinkle                  7                         True   \n",
       "e         Rosaberta                  2                         True   \n",
       "\n",
       "  Coleccionador que la encontró  \n",
       "a            Jocolito Gutiérrez  \n",
       "b                      Marco P.  \n",
       "c                         Jenny  \n",
       "d            Jocolito Gutiérrez  \n",
       "e                           NaN  "
      ]
     },
     "execution_count": 38,
     "metadata": {},
     "output_type": "execute_result"
    }
   ],
   "source": [
    "coleccionadores_correccion = pd.Series(['Jocolito Gutiérrez', 'Marco P.', 'Jenny', 'Jocolito Gutiérrez', 'Jenny'],\n",
    "                                      index=['a', 'b', 'c', 'd', 'f'])\n",
    "\n",
    "df['Coleccionador que la encontró'] = coleccionadores_correccion\n",
    "\n",
    "df"
   ]
  },
  {
   "cell_type": "code",
   "execution_count": 41,
   "metadata": {},
   "outputs": [
    {
     "data": {
      "text/html": [
       "<div>\n",
       "<style scoped>\n",
       "    .dataframe tbody tr th:only-of-type {\n",
       "        vertical-align: middle;\n",
       "    }\n",
       "\n",
       "    .dataframe tbody tr th {\n",
       "        vertical-align: top;\n",
       "    }\n",
       "\n",
       "    .dataframe thead th {\n",
       "        text-align: right;\n",
       "    }\n",
       "</style>\n",
       "<table border=\"1\" class=\"dataframe\">\n",
       "  <thead>\n",
       "    <tr style=\"text-align: right;\">\n",
       "      <th></th>\n",
       "      <th>Nombre</th>\n",
       "      <th>Intensidad (1-10)</th>\n",
       "      <th>Es Parte de Nuestra Galaxia</th>\n",
       "      <th>Coleccionador que la encontró</th>\n",
       "      <th>Precio en rupias</th>\n",
       "    </tr>\n",
       "  </thead>\n",
       "  <tbody>\n",
       "    <tr>\n",
       "      <th>a</th>\n",
       "      <td>Woopsie Doopsies</td>\n",
       "      <td>5</td>\n",
       "      <td>True</td>\n",
       "      <td>Jocolito Gutiérrez</td>\n",
       "      <td>25000</td>\n",
       "    </tr>\n",
       "    <tr>\n",
       "      <th>b</th>\n",
       "      <td>Omega-3</td>\n",
       "      <td>3</td>\n",
       "      <td>False</td>\n",
       "      <td>Marco P.</td>\n",
       "      <td>500000</td>\n",
       "    </tr>\n",
       "    <tr>\n",
       "      <th>c</th>\n",
       "      <td>Justin Bieber</td>\n",
       "      <td>8</td>\n",
       "      <td>False</td>\n",
       "      <td>Jenny</td>\n",
       "      <td>4560000</td>\n",
       "    </tr>\n",
       "    <tr>\n",
       "      <th>d</th>\n",
       "      <td>La Twinkle</td>\n",
       "      <td>7</td>\n",
       "      <td>True</td>\n",
       "      <td>Jocolito Gutiérrez</td>\n",
       "      <td>12000</td>\n",
       "    </tr>\n",
       "    <tr>\n",
       "      <th>e</th>\n",
       "      <td>Rosaberta</td>\n",
       "      <td>2</td>\n",
       "      <td>True</td>\n",
       "      <td>NaN</td>\n",
       "      <td>45000</td>\n",
       "    </tr>\n",
       "  </tbody>\n",
       "</table>\n",
       "</div>"
      ],
      "text/plain": [
       "             Nombre  Intensidad (1-10)  Es Parte de Nuestra Galaxia  \\\n",
       "a  Woopsie Doopsies                  5                         True   \n",
       "b           Omega-3                  3                        False   \n",
       "c     Justin Bieber                  8                        False   \n",
       "d        La Twinkle                  7                         True   \n",
       "e         Rosaberta                  2                         True   \n",
       "\n",
       "  Coleccionador que la encontró  Precio en rupias  \n",
       "a            Jocolito Gutiérrez             25000  \n",
       "b                      Marco P.            500000  \n",
       "c                         Jenny           4560000  \n",
       "d            Jocolito Gutiérrez             12000  \n",
       "e                           NaN             45000  "
      ]
     },
     "execution_count": 41,
     "metadata": {},
     "output_type": "execute_result"
    }
   ],
   "source": [
    "precio_en_rupias = pd.Series([25000, 500000, 4560000, 12000, 45000], index=df.index)\n",
    "\n",
    "df['Precio en rupias'] = precio_en_rupias\n",
    "\n",
    "df"
   ]
  },
  {
   "cell_type": "code",
   "execution_count": 43,
   "metadata": {},
   "outputs": [
    {
     "data": {
      "text/plain": [
       "Index(['a', 'b', 'c', 'd', 'e'], dtype='object')"
      ]
     },
     "execution_count": 43,
     "metadata": {},
     "output_type": "execute_result"
    }
   ],
   "source": [
    "df.index"
   ]
  },
  {
   "cell_type": "code",
   "execution_count": 47,
   "metadata": {},
   "outputs": [
    {
     "data": {
      "text/html": [
       "<div>\n",
       "<style scoped>\n",
       "    .dataframe tbody tr th:only-of-type {\n",
       "        vertical-align: middle;\n",
       "    }\n",
       "\n",
       "    .dataframe tbody tr th {\n",
       "        vertical-align: top;\n",
       "    }\n",
       "\n",
       "    .dataframe thead th {\n",
       "        text-align: right;\n",
       "    }\n",
       "</style>\n",
       "<table border=\"1\" class=\"dataframe\">\n",
       "  <thead>\n",
       "    <tr style=\"text-align: right;\">\n",
       "      <th></th>\n",
       "      <th>Nombre</th>\n",
       "      <th>Intensidad (1-10)</th>\n",
       "      <th>Coleccionador que la encontró</th>\n",
       "    </tr>\n",
       "  </thead>\n",
       "  <tbody>\n",
       "    <tr>\n",
       "      <th>a</th>\n",
       "      <td>Woopsie Doopsies</td>\n",
       "      <td>5</td>\n",
       "      <td>Jocolito Gutiérrez</td>\n",
       "    </tr>\n",
       "    <tr>\n",
       "      <th>b</th>\n",
       "      <td>Omega-3</td>\n",
       "      <td>3</td>\n",
       "      <td>Marco P.</td>\n",
       "    </tr>\n",
       "    <tr>\n",
       "      <th>c</th>\n",
       "      <td>Justin Bieber</td>\n",
       "      <td>8</td>\n",
       "      <td>Jenny</td>\n",
       "    </tr>\n",
       "    <tr>\n",
       "      <th>d</th>\n",
       "      <td>La Twinkle</td>\n",
       "      <td>7</td>\n",
       "      <td>Jocolito Gutiérrez</td>\n",
       "    </tr>\n",
       "    <tr>\n",
       "      <th>e</th>\n",
       "      <td>Rosaberta</td>\n",
       "      <td>2</td>\n",
       "      <td>NaN</td>\n",
       "    </tr>\n",
       "  </tbody>\n",
       "</table>\n",
       "</div>"
      ],
      "text/plain": [
       "             Nombre  Intensidad (1-10) Coleccionador que la encontró\n",
       "a  Woopsie Doopsies                  5            Jocolito Gutiérrez\n",
       "b           Omega-3                  3                      Marco P.\n",
       "c     Justin Bieber                  8                         Jenny\n",
       "d        La Twinkle                  7            Jocolito Gutiérrez\n",
       "e         Rosaberta                  2                           NaN"
      ]
     },
     "execution_count": 47,
     "metadata": {},
     "output_type": "execute_result"
    }
   ],
   "source": [
    "df_dropped = df.drop(columns=['Es Parte de Nuestra Galaxia', 'Precio en rupias'])\n",
    "\n",
    "df_dropped"
   ]
  },
  {
   "cell_type": "code",
   "execution_count": 48,
   "metadata": {},
   "outputs": [
    {
     "data": {
      "text/html": [
       "<div>\n",
       "<style scoped>\n",
       "    .dataframe tbody tr th:only-of-type {\n",
       "        vertical-align: middle;\n",
       "    }\n",
       "\n",
       "    .dataframe tbody tr th {\n",
       "        vertical-align: top;\n",
       "    }\n",
       "\n",
       "    .dataframe thead th {\n",
       "        text-align: right;\n",
       "    }\n",
       "</style>\n",
       "<table border=\"1\" class=\"dataframe\">\n",
       "  <thead>\n",
       "    <tr style=\"text-align: right;\">\n",
       "      <th></th>\n",
       "      <th>Nombre</th>\n",
       "      <th>Intensidad (1-10)</th>\n",
       "      <th>Es Parte de Nuestra Galaxia</th>\n",
       "      <th>Coleccionador que la encontró</th>\n",
       "      <th>Precio en rupias</th>\n",
       "    </tr>\n",
       "  </thead>\n",
       "  <tbody>\n",
       "    <tr>\n",
       "      <th>a</th>\n",
       "      <td>Woopsie Doopsies</td>\n",
       "      <td>5</td>\n",
       "      <td>True</td>\n",
       "      <td>Jocolito Gutiérrez</td>\n",
       "      <td>25000</td>\n",
       "    </tr>\n",
       "    <tr>\n",
       "      <th>b</th>\n",
       "      <td>Omega-3</td>\n",
       "      <td>3</td>\n",
       "      <td>False</td>\n",
       "      <td>Marco P.</td>\n",
       "      <td>500000</td>\n",
       "    </tr>\n",
       "    <tr>\n",
       "      <th>c</th>\n",
       "      <td>Justin Bieber</td>\n",
       "      <td>8</td>\n",
       "      <td>False</td>\n",
       "      <td>Jenny</td>\n",
       "      <td>4560000</td>\n",
       "    </tr>\n",
       "    <tr>\n",
       "      <th>d</th>\n",
       "      <td>La Twinkle</td>\n",
       "      <td>7</td>\n",
       "      <td>True</td>\n",
       "      <td>Jocolito Gutiérrez</td>\n",
       "      <td>12000</td>\n",
       "    </tr>\n",
       "    <tr>\n",
       "      <th>e</th>\n",
       "      <td>Rosaberta</td>\n",
       "      <td>2</td>\n",
       "      <td>True</td>\n",
       "      <td>NaN</td>\n",
       "      <td>45000</td>\n",
       "    </tr>\n",
       "  </tbody>\n",
       "</table>\n",
       "</div>"
      ],
      "text/plain": [
       "             Nombre  Intensidad (1-10)  Es Parte de Nuestra Galaxia  \\\n",
       "a  Woopsie Doopsies                  5                         True   \n",
       "b           Omega-3                  3                        False   \n",
       "c     Justin Bieber                  8                        False   \n",
       "d        La Twinkle                  7                         True   \n",
       "e         Rosaberta                  2                         True   \n",
       "\n",
       "  Coleccionador que la encontró  Precio en rupias  \n",
       "a            Jocolito Gutiérrez             25000  \n",
       "b                      Marco P.            500000  \n",
       "c                         Jenny           4560000  \n",
       "d            Jocolito Gutiérrez             12000  \n",
       "e                           NaN             45000  "
      ]
     },
     "execution_count": 48,
     "metadata": {},
     "output_type": "execute_result"
    }
   ],
   "source": [
    "df"
   ]
  },
  {
   "cell_type": "code",
   "execution_count": 49,
   "metadata": {},
   "outputs": [],
   "source": [
    "import pandas as pd\n",
    "import json"
   ]
  },
  {
   "cell_type": "code",
   "execution_count": 56,
   "metadata": {},
   "outputs": [],
   "source": [
    "f = open('../Datasets/reviews_restaurantes.json', 'r')\n",
    "data_json = json.load(f)\n",
    "f.close()"
   ]
  },
  {
   "cell_type": "code",
   "execution_count": 59,
   "metadata": {},
   "outputs": [],
   "source": [
    "df = pd.DataFrame.from_dict(data_json)"
   ]
  },
  {
   "cell_type": "code",
   "execution_count": 60,
   "metadata": {},
   "outputs": [
    {
     "data": {
      "text/html": [
       "<div>\n",
       "<style scoped>\n",
       "    .dataframe tbody tr th:only-of-type {\n",
       "        vertical-align: middle;\n",
       "    }\n",
       "\n",
       "    .dataframe tbody tr th {\n",
       "        vertical-align: top;\n",
       "    }\n",
       "\n",
       "    .dataframe thead th {\n",
       "        text-align: right;\n",
       "    }\n",
       "</style>\n",
       "<table border=\"1\" class=\"dataframe\">\n",
       "  <thead>\n",
       "    <tr style=\"text-align: right;\">\n",
       "      <th></th>\n",
       "      <th>has_online_delivery</th>\n",
       "      <th>price_range</th>\n",
       "      <th>currency</th>\n",
       "      <th>name</th>\n",
       "      <th>cuisines</th>\n",
       "      <th>location.address</th>\n",
       "      <th>location.city</th>\n",
       "      <th>user_rating.rating_text</th>\n",
       "    </tr>\n",
       "  </thead>\n",
       "  <tbody>\n",
       "    <tr>\n",
       "      <th>0</th>\n",
       "      <td>1</td>\n",
       "      <td>3</td>\n",
       "      <td>Rs.</td>\n",
       "      <td>Hauz Khas Social</td>\n",
       "      <td>Continental, American, Asian, North Indian</td>\n",
       "      <td>9-A &amp; 12, Hauz Khas Village, New Delhi</td>\n",
       "      <td>New Delhi</td>\n",
       "      <td>Very Good</td>\n",
       "    </tr>\n",
       "    <tr>\n",
       "      <th>1</th>\n",
       "      <td>0</td>\n",
       "      <td>3</td>\n",
       "      <td>Rs.</td>\n",
       "      <td>Qubitos - The Terrace Cafe</td>\n",
       "      <td>Thai, European, Mexican, North Indian, Chinese...</td>\n",
       "      <td>C-7, Vishal Enclave, Opposite Metro Pillar 417...</td>\n",
       "      <td>New Delhi</td>\n",
       "      <td>Excellent</td>\n",
       "    </tr>\n",
       "    <tr>\n",
       "      <th>2</th>\n",
       "      <td>1</td>\n",
       "      <td>2</td>\n",
       "      <td>Rs.</td>\n",
       "      <td>The Hudson Cafe</td>\n",
       "      <td>Cafe, Italian, Continental, Chinese</td>\n",
       "      <td>2524, 1st Floor, Hudson Lane, Delhi University...</td>\n",
       "      <td>New Delhi</td>\n",
       "      <td>Very Good</td>\n",
       "    </tr>\n",
       "    <tr>\n",
       "      <th>3</th>\n",
       "      <td>0</td>\n",
       "      <td>3</td>\n",
       "      <td>Rs.</td>\n",
       "      <td>Summer House Cafe</td>\n",
       "      <td>Italian, Continental</td>\n",
       "      <td>1st Floor, DDA Shopping Complex, Aurobindo Pla...</td>\n",
       "      <td>New Delhi</td>\n",
       "      <td>Very Good</td>\n",
       "    </tr>\n",
       "    <tr>\n",
       "      <th>4</th>\n",
       "      <td>0</td>\n",
       "      <td>3</td>\n",
       "      <td>Rs.</td>\n",
       "      <td>38 Barracks</td>\n",
       "      <td>North Indian, Italian, Asian, American</td>\n",
       "      <td>M-38, Outer Circle, Connaught Place, New Delhi</td>\n",
       "      <td>New Delhi</td>\n",
       "      <td>Very Good</td>\n",
       "    </tr>\n",
       "    <tr>\n",
       "      <th>...</th>\n",
       "      <td>...</td>\n",
       "      <td>...</td>\n",
       "      <td>...</td>\n",
       "      <td>...</td>\n",
       "      <td>...</td>\n",
       "      <td>...</td>\n",
       "      <td>...</td>\n",
       "      <td>...</td>\n",
       "    </tr>\n",
       "    <tr>\n",
       "      <th>1175</th>\n",
       "      <td>0</td>\n",
       "      <td>3</td>\n",
       "      <td>£</td>\n",
       "      <td>The Boozy Cow</td>\n",
       "      <td>Burger, Grill</td>\n",
       "      <td>17 Frederick Street, New Town, Edinburgh EH2 2EY</td>\n",
       "      <td>Edinburgh</td>\n",
       "      <td>Very Good</td>\n",
       "    </tr>\n",
       "    <tr>\n",
       "      <th>1176</th>\n",
       "      <td>0</td>\n",
       "      <td>3</td>\n",
       "      <td>£</td>\n",
       "      <td>La Favorita</td>\n",
       "      <td>Italian</td>\n",
       "      <td>325-331 Leith Walk, Leith, Edinburgh EH6 8SA</td>\n",
       "      <td>Edinburgh</td>\n",
       "      <td>Excellent</td>\n",
       "    </tr>\n",
       "    <tr>\n",
       "      <th>1177</th>\n",
       "      <td>0</td>\n",
       "      <td>3</td>\n",
       "      <td>£</td>\n",
       "      <td>Roseleaf Bar Cafe</td>\n",
       "      <td>Scottish, Cafe</td>\n",
       "      <td>23-24 Sandport Place, Leith, Edinburgh EH6 6EW</td>\n",
       "      <td>Edinburgh</td>\n",
       "      <td>Excellent</td>\n",
       "    </tr>\n",
       "    <tr>\n",
       "      <th>1178</th>\n",
       "      <td>0</td>\n",
       "      <td>3</td>\n",
       "      <td>£</td>\n",
       "      <td>Civerinos</td>\n",
       "      <td>Pizza, Italian</td>\n",
       "      <td>5 Hunter Square, Royal Mile, Old Town, Edinbur...</td>\n",
       "      <td>Edinburgh</td>\n",
       "      <td>Good</td>\n",
       "    </tr>\n",
       "    <tr>\n",
       "      <th>1179</th>\n",
       "      <td>0</td>\n",
       "      <td>3</td>\n",
       "      <td>£</td>\n",
       "      <td>The Hanging Bat</td>\n",
       "      <td>American</td>\n",
       "      <td>133 Lothian Road, Old Town, Edinburgh EH3 9AD</td>\n",
       "      <td>Edinburgh</td>\n",
       "      <td>Good</td>\n",
       "    </tr>\n",
       "  </tbody>\n",
       "</table>\n",
       "<p>1180 rows × 8 columns</p>\n",
       "</div>"
      ],
      "text/plain": [
       "      has_online_delivery  price_range currency                        name  \\\n",
       "0                       1            3      Rs.            Hauz Khas Social   \n",
       "1                       0            3      Rs.  Qubitos - The Terrace Cafe   \n",
       "2                       1            2      Rs.             The Hudson Cafe   \n",
       "3                       0            3      Rs.           Summer House Cafe   \n",
       "4                       0            3      Rs.                 38 Barracks   \n",
       "...                   ...          ...      ...                         ...   \n",
       "1175                    0            3        £               The Boozy Cow   \n",
       "1176                    0            3        £                 La Favorita   \n",
       "1177                    0            3        £           Roseleaf Bar Cafe   \n",
       "1178                    0            3        £                   Civerinos   \n",
       "1179                    0            3        £             The Hanging Bat   \n",
       "\n",
       "                                               cuisines  \\\n",
       "0            Continental, American, Asian, North Indian   \n",
       "1     Thai, European, Mexican, North Indian, Chinese...   \n",
       "2                   Cafe, Italian, Continental, Chinese   \n",
       "3                                  Italian, Continental   \n",
       "4                North Indian, Italian, Asian, American   \n",
       "...                                                 ...   \n",
       "1175                                      Burger, Grill   \n",
       "1176                                            Italian   \n",
       "1177                                     Scottish, Cafe   \n",
       "1178                                     Pizza, Italian   \n",
       "1179                                           American   \n",
       "\n",
       "                                       location.address location.city  \\\n",
       "0                9-A & 12, Hauz Khas Village, New Delhi     New Delhi   \n",
       "1     C-7, Vishal Enclave, Opposite Metro Pillar 417...     New Delhi   \n",
       "2     2524, 1st Floor, Hudson Lane, Delhi University...     New Delhi   \n",
       "3     1st Floor, DDA Shopping Complex, Aurobindo Pla...     New Delhi   \n",
       "4        M-38, Outer Circle, Connaught Place, New Delhi     New Delhi   \n",
       "...                                                 ...           ...   \n",
       "1175   17 Frederick Street, New Town, Edinburgh EH2 2EY     Edinburgh   \n",
       "1176       325-331 Leith Walk, Leith, Edinburgh EH6 8SA     Edinburgh   \n",
       "1177     23-24 Sandport Place, Leith, Edinburgh EH6 6EW     Edinburgh   \n",
       "1178  5 Hunter Square, Royal Mile, Old Town, Edinbur...     Edinburgh   \n",
       "1179      133 Lothian Road, Old Town, Edinburgh EH3 9AD     Edinburgh   \n",
       "\n",
       "     user_rating.rating_text  \n",
       "0                  Very Good  \n",
       "1                  Excellent  \n",
       "2                  Very Good  \n",
       "3                  Very Good  \n",
       "4                  Very Good  \n",
       "...                      ...  \n",
       "1175               Very Good  \n",
       "1176               Excellent  \n",
       "1177               Excellent  \n",
       "1178                    Good  \n",
       "1179                    Good  \n",
       "\n",
       "[1180 rows x 8 columns]"
      ]
     },
     "execution_count": 60,
     "metadata": {},
     "output_type": "execute_result"
    }
   ],
   "source": [
    "df"
   ]
  },
  {
   "cell_type": "code",
   "execution_count": 61,
   "metadata": {},
   "outputs": [
    {
     "data": {
      "text/html": [
       "<div>\n",
       "<style scoped>\n",
       "    .dataframe tbody tr th:only-of-type {\n",
       "        vertical-align: middle;\n",
       "    }\n",
       "\n",
       "    .dataframe tbody tr th {\n",
       "        vertical-align: top;\n",
       "    }\n",
       "\n",
       "    .dataframe thead th {\n",
       "        text-align: right;\n",
       "    }\n",
       "</style>\n",
       "<table border=\"1\" class=\"dataframe\">\n",
       "  <thead>\n",
       "    <tr style=\"text-align: right;\">\n",
       "      <th></th>\n",
       "      <th>has_online_delivery</th>\n",
       "      <th>price_range</th>\n",
       "      <th>currency</th>\n",
       "      <th>name</th>\n",
       "      <th>cuisines</th>\n",
       "      <th>location.address</th>\n",
       "      <th>location.city</th>\n",
       "      <th>user_rating.rating_text</th>\n",
       "    </tr>\n",
       "  </thead>\n",
       "  <tbody>\n",
       "    <tr>\n",
       "      <th>0</th>\n",
       "      <td>1</td>\n",
       "      <td>3</td>\n",
       "      <td>Rs.</td>\n",
       "      <td>Hauz Khas Social</td>\n",
       "      <td>Continental, American, Asian, North Indian</td>\n",
       "      <td>9-A &amp; 12, Hauz Khas Village, New Delhi</td>\n",
       "      <td>New Delhi</td>\n",
       "      <td>Very Good</td>\n",
       "    </tr>\n",
       "    <tr>\n",
       "      <th>1</th>\n",
       "      <td>0</td>\n",
       "      <td>3</td>\n",
       "      <td>Rs.</td>\n",
       "      <td>Qubitos - The Terrace Cafe</td>\n",
       "      <td>Thai, European, Mexican, North Indian, Chinese...</td>\n",
       "      <td>C-7, Vishal Enclave, Opposite Metro Pillar 417...</td>\n",
       "      <td>New Delhi</td>\n",
       "      <td>Excellent</td>\n",
       "    </tr>\n",
       "    <tr>\n",
       "      <th>2</th>\n",
       "      <td>1</td>\n",
       "      <td>2</td>\n",
       "      <td>Rs.</td>\n",
       "      <td>The Hudson Cafe</td>\n",
       "      <td>Cafe, Italian, Continental, Chinese</td>\n",
       "      <td>2524, 1st Floor, Hudson Lane, Delhi University...</td>\n",
       "      <td>New Delhi</td>\n",
       "      <td>Very Good</td>\n",
       "    </tr>\n",
       "    <tr>\n",
       "      <th>3</th>\n",
       "      <td>0</td>\n",
       "      <td>3</td>\n",
       "      <td>Rs.</td>\n",
       "      <td>Summer House Cafe</td>\n",
       "      <td>Italian, Continental</td>\n",
       "      <td>1st Floor, DDA Shopping Complex, Aurobindo Pla...</td>\n",
       "      <td>New Delhi</td>\n",
       "      <td>Very Good</td>\n",
       "    </tr>\n",
       "    <tr>\n",
       "      <th>4</th>\n",
       "      <td>0</td>\n",
       "      <td>3</td>\n",
       "      <td>Rs.</td>\n",
       "      <td>38 Barracks</td>\n",
       "      <td>North Indian, Italian, Asian, American</td>\n",
       "      <td>M-38, Outer Circle, Connaught Place, New Delhi</td>\n",
       "      <td>New Delhi</td>\n",
       "      <td>Very Good</td>\n",
       "    </tr>\n",
       "  </tbody>\n",
       "</table>\n",
       "</div>"
      ],
      "text/plain": [
       "   has_online_delivery  price_range currency                        name  \\\n",
       "0                    1            3      Rs.            Hauz Khas Social   \n",
       "1                    0            3      Rs.  Qubitos - The Terrace Cafe   \n",
       "2                    1            2      Rs.             The Hudson Cafe   \n",
       "3                    0            3      Rs.           Summer House Cafe   \n",
       "4                    0            3      Rs.                 38 Barracks   \n",
       "\n",
       "                                            cuisines  \\\n",
       "0         Continental, American, Asian, North Indian   \n",
       "1  Thai, European, Mexican, North Indian, Chinese...   \n",
       "2                Cafe, Italian, Continental, Chinese   \n",
       "3                               Italian, Continental   \n",
       "4             North Indian, Italian, Asian, American   \n",
       "\n",
       "                                    location.address location.city  \\\n",
       "0             9-A & 12, Hauz Khas Village, New Delhi     New Delhi   \n",
       "1  C-7, Vishal Enclave, Opposite Metro Pillar 417...     New Delhi   \n",
       "2  2524, 1st Floor, Hudson Lane, Delhi University...     New Delhi   \n",
       "3  1st Floor, DDA Shopping Complex, Aurobindo Pla...     New Delhi   \n",
       "4     M-38, Outer Circle, Connaught Place, New Delhi     New Delhi   \n",
       "\n",
       "  user_rating.rating_text  \n",
       "0               Very Good  \n",
       "1               Excellent  \n",
       "2               Very Good  \n",
       "3               Very Good  \n",
       "4               Very Good  "
      ]
     },
     "execution_count": 61,
     "metadata": {},
     "output_type": "execute_result"
    }
   ],
   "source": [
    "df.head()"
   ]
  },
  {
   "cell_type": "code",
   "execution_count": 62,
   "metadata": {},
   "outputs": [
    {
     "data": {
      "text/html": [
       "<div>\n",
       "<style scoped>\n",
       "    .dataframe tbody tr th:only-of-type {\n",
       "        vertical-align: middle;\n",
       "    }\n",
       "\n",
       "    .dataframe tbody tr th {\n",
       "        vertical-align: top;\n",
       "    }\n",
       "\n",
       "    .dataframe thead th {\n",
       "        text-align: right;\n",
       "    }\n",
       "</style>\n",
       "<table border=\"1\" class=\"dataframe\">\n",
       "  <thead>\n",
       "    <tr style=\"text-align: right;\">\n",
       "      <th></th>\n",
       "      <th>has_online_delivery</th>\n",
       "      <th>price_range</th>\n",
       "      <th>currency</th>\n",
       "      <th>name</th>\n",
       "      <th>cuisines</th>\n",
       "      <th>location.address</th>\n",
       "      <th>location.city</th>\n",
       "      <th>user_rating.rating_text</th>\n",
       "    </tr>\n",
       "  </thead>\n",
       "  <tbody>\n",
       "    <tr>\n",
       "      <th>0</th>\n",
       "      <td>1</td>\n",
       "      <td>3</td>\n",
       "      <td>Rs.</td>\n",
       "      <td>Hauz Khas Social</td>\n",
       "      <td>Continental, American, Asian, North Indian</td>\n",
       "      <td>9-A &amp; 12, Hauz Khas Village, New Delhi</td>\n",
       "      <td>New Delhi</td>\n",
       "      <td>Very Good</td>\n",
       "    </tr>\n",
       "    <tr>\n",
       "      <th>1</th>\n",
       "      <td>0</td>\n",
       "      <td>3</td>\n",
       "      <td>Rs.</td>\n",
       "      <td>Qubitos - The Terrace Cafe</td>\n",
       "      <td>Thai, European, Mexican, North Indian, Chinese...</td>\n",
       "      <td>C-7, Vishal Enclave, Opposite Metro Pillar 417...</td>\n",
       "      <td>New Delhi</td>\n",
       "      <td>Excellent</td>\n",
       "    </tr>\n",
       "    <tr>\n",
       "      <th>2</th>\n",
       "      <td>1</td>\n",
       "      <td>2</td>\n",
       "      <td>Rs.</td>\n",
       "      <td>The Hudson Cafe</td>\n",
       "      <td>Cafe, Italian, Continental, Chinese</td>\n",
       "      <td>2524, 1st Floor, Hudson Lane, Delhi University...</td>\n",
       "      <td>New Delhi</td>\n",
       "      <td>Very Good</td>\n",
       "    </tr>\n",
       "    <tr>\n",
       "      <th>3</th>\n",
       "      <td>0</td>\n",
       "      <td>3</td>\n",
       "      <td>Rs.</td>\n",
       "      <td>Summer House Cafe</td>\n",
       "      <td>Italian, Continental</td>\n",
       "      <td>1st Floor, DDA Shopping Complex, Aurobindo Pla...</td>\n",
       "      <td>New Delhi</td>\n",
       "      <td>Very Good</td>\n",
       "    </tr>\n",
       "    <tr>\n",
       "      <th>4</th>\n",
       "      <td>0</td>\n",
       "      <td>3</td>\n",
       "      <td>Rs.</td>\n",
       "      <td>38 Barracks</td>\n",
       "      <td>North Indian, Italian, Asian, American</td>\n",
       "      <td>M-38, Outer Circle, Connaught Place, New Delhi</td>\n",
       "      <td>New Delhi</td>\n",
       "      <td>Very Good</td>\n",
       "    </tr>\n",
       "    <tr>\n",
       "      <th>5</th>\n",
       "      <td>1</td>\n",
       "      <td>2</td>\n",
       "      <td>Rs.</td>\n",
       "      <td>Spezia Bistro</td>\n",
       "      <td>Cafe, Continental, Chinese, Italian</td>\n",
       "      <td>2525, 1st Floor, Hudson Lane, Delhi University...</td>\n",
       "      <td>New Delhi</td>\n",
       "      <td>Excellent</td>\n",
       "    </tr>\n",
       "    <tr>\n",
       "      <th>6</th>\n",
       "      <td>0</td>\n",
       "      <td>4</td>\n",
       "      <td>Rs.</td>\n",
       "      <td>Manhattan Brewery &amp; Bar Exchange</td>\n",
       "      <td>Finger Food, American, Continental, North Indi...</td>\n",
       "      <td>1st Floor, Global Foyer Mall, Sector 43, Golf ...</td>\n",
       "      <td>Gurgaon</td>\n",
       "      <td>Excellent</td>\n",
       "    </tr>\n",
       "    <tr>\n",
       "      <th>7</th>\n",
       "      <td>0</td>\n",
       "      <td>4</td>\n",
       "      <td>Rs.</td>\n",
       "      <td>The Wine Company</td>\n",
       "      <td>Italian, European</td>\n",
       "      <td>Cyber Hub, DLF Cyber City, Gurgaon</td>\n",
       "      <td>Gurgaon</td>\n",
       "      <td>Poor</td>\n",
       "    </tr>\n",
       "    <tr>\n",
       "      <th>8</th>\n",
       "      <td>0</td>\n",
       "      <td>4</td>\n",
       "      <td>Rs.</td>\n",
       "      <td>Farzi Cafe</td>\n",
       "      <td>Modern Indian</td>\n",
       "      <td>38/39, Level 1, Block E , Inner Circle, Connau...</td>\n",
       "      <td>New Delhi</td>\n",
       "      <td>Very Good</td>\n",
       "    </tr>\n",
       "    <tr>\n",
       "      <th>9</th>\n",
       "      <td>1</td>\n",
       "      <td>3</td>\n",
       "      <td>Rs.</td>\n",
       "      <td>Indian Grill Room</td>\n",
       "      <td>North Indian, Mughlai</td>\n",
       "      <td>315, 3rd Floor, Suncity Business Tower, Golf C...</td>\n",
       "      <td>Gurgaon</td>\n",
       "      <td>Excellent</td>\n",
       "    </tr>\n",
       "  </tbody>\n",
       "</table>\n",
       "</div>"
      ],
      "text/plain": [
       "   has_online_delivery  price_range currency  \\\n",
       "0                    1            3      Rs.   \n",
       "1                    0            3      Rs.   \n",
       "2                    1            2      Rs.   \n",
       "3                    0            3      Rs.   \n",
       "4                    0            3      Rs.   \n",
       "5                    1            2      Rs.   \n",
       "6                    0            4      Rs.   \n",
       "7                    0            4      Rs.   \n",
       "8                    0            4      Rs.   \n",
       "9                    1            3      Rs.   \n",
       "\n",
       "                               name  \\\n",
       "0                  Hauz Khas Social   \n",
       "1        Qubitos - The Terrace Cafe   \n",
       "2                   The Hudson Cafe   \n",
       "3                 Summer House Cafe   \n",
       "4                       38 Barracks   \n",
       "5                     Spezia Bistro   \n",
       "6  Manhattan Brewery & Bar Exchange   \n",
       "7                  The Wine Company   \n",
       "8                        Farzi Cafe   \n",
       "9                 Indian Grill Room   \n",
       "\n",
       "                                            cuisines  \\\n",
       "0         Continental, American, Asian, North Indian   \n",
       "1  Thai, European, Mexican, North Indian, Chinese...   \n",
       "2                Cafe, Italian, Continental, Chinese   \n",
       "3                               Italian, Continental   \n",
       "4             North Indian, Italian, Asian, American   \n",
       "5                Cafe, Continental, Chinese, Italian   \n",
       "6  Finger Food, American, Continental, North Indi...   \n",
       "7                                  Italian, European   \n",
       "8                                      Modern Indian   \n",
       "9                              North Indian, Mughlai   \n",
       "\n",
       "                                    location.address location.city  \\\n",
       "0             9-A & 12, Hauz Khas Village, New Delhi     New Delhi   \n",
       "1  C-7, Vishal Enclave, Opposite Metro Pillar 417...     New Delhi   \n",
       "2  2524, 1st Floor, Hudson Lane, Delhi University...     New Delhi   \n",
       "3  1st Floor, DDA Shopping Complex, Aurobindo Pla...     New Delhi   \n",
       "4     M-38, Outer Circle, Connaught Place, New Delhi     New Delhi   \n",
       "5  2525, 1st Floor, Hudson Lane, Delhi University...     New Delhi   \n",
       "6  1st Floor, Global Foyer Mall, Sector 43, Golf ...       Gurgaon   \n",
       "7                 Cyber Hub, DLF Cyber City, Gurgaon       Gurgaon   \n",
       "8  38/39, Level 1, Block E , Inner Circle, Connau...     New Delhi   \n",
       "9  315, 3rd Floor, Suncity Business Tower, Golf C...       Gurgaon   \n",
       "\n",
       "  user_rating.rating_text  \n",
       "0               Very Good  \n",
       "1               Excellent  \n",
       "2               Very Good  \n",
       "3               Very Good  \n",
       "4               Very Good  \n",
       "5               Excellent  \n",
       "6               Excellent  \n",
       "7                    Poor  \n",
       "8               Very Good  \n",
       "9               Excellent  "
      ]
     },
     "execution_count": 62,
     "metadata": {},
     "output_type": "execute_result"
    }
   ],
   "source": [
    "df.head(10)"
   ]
  },
  {
   "cell_type": "code",
   "execution_count": 63,
   "metadata": {},
   "outputs": [
    {
     "data": {
      "text/html": [
       "<div>\n",
       "<style scoped>\n",
       "    .dataframe tbody tr th:only-of-type {\n",
       "        vertical-align: middle;\n",
       "    }\n",
       "\n",
       "    .dataframe tbody tr th {\n",
       "        vertical-align: top;\n",
       "    }\n",
       "\n",
       "    .dataframe thead th {\n",
       "        text-align: right;\n",
       "    }\n",
       "</style>\n",
       "<table border=\"1\" class=\"dataframe\">\n",
       "  <thead>\n",
       "    <tr style=\"text-align: right;\">\n",
       "      <th></th>\n",
       "      <th>has_online_delivery</th>\n",
       "      <th>price_range</th>\n",
       "      <th>currency</th>\n",
       "      <th>name</th>\n",
       "      <th>cuisines</th>\n",
       "      <th>location.address</th>\n",
       "      <th>location.city</th>\n",
       "      <th>user_rating.rating_text</th>\n",
       "    </tr>\n",
       "  </thead>\n",
       "  <tbody>\n",
       "    <tr>\n",
       "      <th>1175</th>\n",
       "      <td>0</td>\n",
       "      <td>3</td>\n",
       "      <td>£</td>\n",
       "      <td>The Boozy Cow</td>\n",
       "      <td>Burger, Grill</td>\n",
       "      <td>17 Frederick Street, New Town, Edinburgh EH2 2EY</td>\n",
       "      <td>Edinburgh</td>\n",
       "      <td>Very Good</td>\n",
       "    </tr>\n",
       "    <tr>\n",
       "      <th>1176</th>\n",
       "      <td>0</td>\n",
       "      <td>3</td>\n",
       "      <td>£</td>\n",
       "      <td>La Favorita</td>\n",
       "      <td>Italian</td>\n",
       "      <td>325-331 Leith Walk, Leith, Edinburgh EH6 8SA</td>\n",
       "      <td>Edinburgh</td>\n",
       "      <td>Excellent</td>\n",
       "    </tr>\n",
       "    <tr>\n",
       "      <th>1177</th>\n",
       "      <td>0</td>\n",
       "      <td>3</td>\n",
       "      <td>£</td>\n",
       "      <td>Roseleaf Bar Cafe</td>\n",
       "      <td>Scottish, Cafe</td>\n",
       "      <td>23-24 Sandport Place, Leith, Edinburgh EH6 6EW</td>\n",
       "      <td>Edinburgh</td>\n",
       "      <td>Excellent</td>\n",
       "    </tr>\n",
       "    <tr>\n",
       "      <th>1178</th>\n",
       "      <td>0</td>\n",
       "      <td>3</td>\n",
       "      <td>£</td>\n",
       "      <td>Civerinos</td>\n",
       "      <td>Pizza, Italian</td>\n",
       "      <td>5 Hunter Square, Royal Mile, Old Town, Edinbur...</td>\n",
       "      <td>Edinburgh</td>\n",
       "      <td>Good</td>\n",
       "    </tr>\n",
       "    <tr>\n",
       "      <th>1179</th>\n",
       "      <td>0</td>\n",
       "      <td>3</td>\n",
       "      <td>£</td>\n",
       "      <td>The Hanging Bat</td>\n",
       "      <td>American</td>\n",
       "      <td>133 Lothian Road, Old Town, Edinburgh EH3 9AD</td>\n",
       "      <td>Edinburgh</td>\n",
       "      <td>Good</td>\n",
       "    </tr>\n",
       "  </tbody>\n",
       "</table>\n",
       "</div>"
      ],
      "text/plain": [
       "      has_online_delivery  price_range currency               name  \\\n",
       "1175                    0            3        £      The Boozy Cow   \n",
       "1176                    0            3        £        La Favorita   \n",
       "1177                    0            3        £  Roseleaf Bar Cafe   \n",
       "1178                    0            3        £          Civerinos   \n",
       "1179                    0            3        £    The Hanging Bat   \n",
       "\n",
       "            cuisines                                   location.address  \\\n",
       "1175   Burger, Grill   17 Frederick Street, New Town, Edinburgh EH2 2EY   \n",
       "1176         Italian       325-331 Leith Walk, Leith, Edinburgh EH6 8SA   \n",
       "1177  Scottish, Cafe     23-24 Sandport Place, Leith, Edinburgh EH6 6EW   \n",
       "1178  Pizza, Italian  5 Hunter Square, Royal Mile, Old Town, Edinbur...   \n",
       "1179        American      133 Lothian Road, Old Town, Edinburgh EH3 9AD   \n",
       "\n",
       "     location.city user_rating.rating_text  \n",
       "1175     Edinburgh               Very Good  \n",
       "1176     Edinburgh               Excellent  \n",
       "1177     Edinburgh               Excellent  \n",
       "1178     Edinburgh                    Good  \n",
       "1179     Edinburgh                    Good  "
      ]
     },
     "execution_count": 63,
     "metadata": {},
     "output_type": "execute_result"
    }
   ],
   "source": [
    "df.tail()"
   ]
  },
  {
   "cell_type": "code",
   "execution_count": 64,
   "metadata": {},
   "outputs": [
    {
     "data": {
      "text/plain": [
       "Index(['has_online_delivery', 'price_range', 'currency', 'name', 'cuisines',\n",
       "       'location.address', 'location.city', 'user_rating.rating_text'],\n",
       "      dtype='object')"
      ]
     },
     "execution_count": 64,
     "metadata": {},
     "output_type": "execute_result"
    }
   ],
   "source": [
    "df.columns"
   ]
  },
  {
   "cell_type": "code",
   "execution_count": 67,
   "metadata": {},
   "outputs": [
    {
     "data": {
      "text/plain": [
       "(1180, 8)"
      ]
     },
     "execution_count": 67,
     "metadata": {},
     "output_type": "execute_result"
    }
   ],
   "source": [
    "df.shape"
   ]
  },
  {
   "cell_type": "code",
   "execution_count": 68,
   "metadata": {},
   "outputs": [
    {
     "data": {
      "text/plain": [
       "has_online_delivery         int64\n",
       "price_range                 int64\n",
       "currency                   object\n",
       "name                       object\n",
       "cuisines                   object\n",
       "location.address           object\n",
       "location.city              object\n",
       "user_rating.rating_text    object\n",
       "dtype: object"
      ]
     },
     "execution_count": 68,
     "metadata": {},
     "output_type": "execute_result"
    }
   ],
   "source": [
    "df.dtypes"
   ]
  },
  {
   "cell_type": "code",
   "execution_count": 69,
   "metadata": {},
   "outputs": [
    {
     "name": "stdout",
     "output_type": "stream",
     "text": [
      "<class 'pandas.core.frame.DataFrame'>\n",
      "Index: 1180 entries, 0 to 1179\n",
      "Data columns (total 8 columns):\n",
      " #   Column                   Non-Null Count  Dtype \n",
      "---  ------                   --------------  ----- \n",
      " 0   has_online_delivery      1180 non-null   int64 \n",
      " 1   price_range              1180 non-null   int64 \n",
      " 2   currency                 1180 non-null   object\n",
      " 3   name                     1180 non-null   object\n",
      " 4   cuisines                 1180 non-null   object\n",
      " 5   location.address         1180 non-null   object\n",
      " 6   location.city            1180 non-null   object\n",
      " 7   user_rating.rating_text  1180 non-null   object\n",
      "dtypes: int64(2), object(6)\n",
      "memory usage: 83.0+ KB\n"
     ]
    }
   ],
   "source": [
    "df.info()"
   ]
  },
  {
   "cell_type": "code",
   "execution_count": null,
   "metadata": {},
   "outputs": [],
   "source": []
  }
 ],
 "metadata": {
  "kernelspec": {
   "display_name": "Python (data_science)",
   "language": "python",
   "name": "data_science"
  },
  "language_info": {
   "codemirror_mode": {
    "name": "ipython",
    "version": 3
   },
   "file_extension": ".py",
   "mimetype": "text/x-python",
   "name": "python",
   "nbconvert_exporter": "python",
   "pygments_lexer": "ipython3",
   "version": "3.8.1"
  }
 },
 "nbformat": 4,
 "nbformat_minor": 4
}
