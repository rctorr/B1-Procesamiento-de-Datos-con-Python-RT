{
 "cells": [
  {
   "cell_type": "markdown",
   "metadata": {},
   "source": [
    "## Ejemplo 5: Lectura de datos\n",
    "\n",
    "### 1. Objetivos:\n",
    "    - Aprender a leer archivos JSON o CSV y crear `DataFrames` con ellos\n",
    " \n",
    "---\n",
    "    \n",
    "### 2. Desarrollo:"
   ]
  },
  {
   "cell_type": "code",
   "execution_count": null,
   "metadata": {},
   "outputs": [],
   "source": [
    "import pandas as pd"
   ]
  },
  {
   "cell_type": "markdown",
   "metadata": {},
   "source": [
    "Para leer archivos en formato JSON se usa la forma:\n",
    "\n",
    "`pd.read_json(-ruta-)`\n",
    "\n",
    "La ruta (o `path`) puede ser absoluto o relativo (en el Prework hay un link donde se explica esto con más claridad), ahora lee los datos del archivo `zomato_reviews-clean.json` que se encuentra en la carpeta de `Datasets`."
   ]
  },
  {
   "cell_type": "code",
   "execution_count": null,
   "metadata": {},
   "outputs": [],
   "source": [
    "...\n",
    "\n",
    "df"
   ]
  },
  {
   "cell_type": "markdown",
   "metadata": {},
   "source": [
    "Ahora asignamos nuevos índices para contar a partir de 1, para ello se usa la función `df.set_index(-nuevo índice como serie-)` y para generar la serie se puede usar `range()`, sólo hay que tener cuidados de los límites, veamos como:"
   ]
  },
  {
   "cell_type": "code",
   "execution_count": null,
   "metadata": {},
   "outputs": [],
   "source": [
    "...\n",
    "\n",
    "df_1"
   ]
  },
  {
   "cell_type": "markdown",
   "metadata": {},
   "source": [
    "Investigamos el nombre de las columnas con la propiedad `df.columns` del dataframe `df_1`:"
   ]
  },
  {
   "cell_type": "code",
   "execution_count": null,
   "metadata": {},
   "outputs": [],
   "source": [
    "..."
   ]
  },
  {
   "cell_type": "markdown",
   "metadata": {},
   "source": [
    "O eliminamos la columna `price_range` con `dataframe.drop(columns=-lista-)`:"
   ]
  },
  {
   "cell_type": "code",
   "execution_count": null,
   "metadata": {},
   "outputs": [],
   "source": [
    "...\n",
    "\n",
    "df_2"
   ]
  },
  {
   "cell_type": "markdown",
   "metadata": {},
   "source": [
    "---\n",
    "---\n",
    "## Rreto 5: Lectura de datos CSV\n",
    "\n",
    "Debido a que la lectura de datos en formato CSV es muy similar, ahora lee los datos del archivo `melbourne_housing-no_nans.csv` que se encuentra en la carpeta de `Datasets` y realiza alguna exploración de los datos, puedes realizar cuando menos las mismas operaciones realizadas en el ejemplo."
   ]
  },
  {
   "cell_type": "code",
   "execution_count": null,
   "metadata": {},
   "outputs": [],
   "source": [
    "df = ...\n",
    "\n",
    "df"
   ]
  }
 ],
 "metadata": {
  "kernelspec": {
   "display_name": "Python 3",
   "language": "python",
   "name": "python3"
  },
  "language_info": {
   "codemirror_mode": {
    "name": "ipython",
    "version": 3
   },
   "file_extension": ".py",
   "mimetype": "text/x-python",
   "name": "python",
   "nbconvert_exporter": "python",
   "pygments_lexer": "ipython3",
   "version": "3.7.4"
  }
 },
 "nbformat": 4,
 "nbformat_minor": 4
}
