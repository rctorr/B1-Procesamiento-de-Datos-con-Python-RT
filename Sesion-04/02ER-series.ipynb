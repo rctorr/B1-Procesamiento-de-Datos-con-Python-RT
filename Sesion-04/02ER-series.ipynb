{
 "cells": [
  {
   "cell_type": "markdown",
   "metadata": {},
   "source": [
    "## Ejemplo 2: Series\n",
    "\n",
    "### 1. Objetivos:\n",
    "    - Entender qué son las `Series`\n",
    "    - Aprender a crear `Series` de pandas\n",
    "    - Aprender los métodos básicos de indexación de las `Series`\n",
    " \n",
    "---\n",
    "    \n",
    "### 2. Desarrollo:"
   ]
  },
  {
   "cell_type": "markdown",
   "metadata": {},
   "source": [
    "Cuando se inicia un nuevo cuaderno de trabajo (notebook) es necesario importar el o los módulos que se vayan a utilizar usando la forma (sintaxis):\n",
    "\n",
    "    import nombre_módulo\n",
    "    o\n",
    "    import nombre_módulo as nombre_corto\n",
    "\n",
    "ahora vamos a importar el módulo `pandas` con el nombre corto `pd`:"
   ]
  },
  {
   "cell_type": "code",
   "execution_count": null,
   "metadata": {},
   "outputs": [],
   "source": [
    "..."
   ]
  },
  {
   "cell_type": "markdown",
   "metadata": {},
   "source": [
    "Las `Series` son secuencias ordenadas de unidimensionales que pueden contener diferentes tipos de valores. En esto se parecen a las `listas`. De hecho podemos crear `Series` usando `listas` de la forma:\n",
    "\n",
    "    pd.Series(-lista-)\n",
    "    \n",
    "lo anterior regresa un valor de tipo Series, donde cada valor de la serie son creados a partir de cada valor de la lista."
   ]
  },
  {
   "cell_type": "markdown",
   "metadata": {},
   "source": [
    "Vamos a crear una serie a partir de la lista `[3, 7, 9, 8]` y la vamos a guardar en la variable `serie_1`:"
   ]
  },
  {
   "cell_type": "code",
   "execution_count": null,
   "metadata": {},
   "outputs": [],
   "source": [
    "...\n",
    "\n",
    "serie_1"
   ]
  },
  {
   "cell_type": "markdown",
   "metadata": {},
   "source": [
    "Una gran diferencia que tienen con las `listas` es que cada elemento en una `Serie` tiene un índice asociado que no necesariamente es una secuencia de enteros como en las `listas`. En este aspecto, nuestras `Series` se parecen a los `diccionarios`."
   ]
  },
  {
   "cell_type": "markdown",
   "metadata": {},
   "source": [
    "La columna de la izquierda es nuestro índice, la columna de la derecha son los datos almacenados y el texto en la parte inferior es el tipo de dato que en este caso es `int64` (el 64 se refiere a la cantidad de bits usados para representar a un entero, aunque Python en capáz de usar números gigantes, el límite es la capacidad del hardware)\n",
    "\n",
    "Los tipos de datos más comunes que podemos encontrar son: \n",
    "\n",
    "1. `int64`: Equivalente a `int`\n",
    "2. `float64`: Equivalente a `float`\n",
    "3. `bool`: Equivalente a `bool`\n",
    "4. `object`: Equivalente a `str`, o indica que hay una mezcla de tipos de datos numéricos y no-numéricos en la `Serie` (ojo con éste)\n",
    "\n",
    "> **Importante**: Tener `Series` que contengan diversos tipos de datos es una **muy mala** práctica. Lo recomendable es siempre tener homogeneidad de tipos de dato en cada `Serie` que tengamos. De todas maneras, se encontrarán por ahí algunos conjuntos de datos que contienen `Series` con tipos de datos diversos. Es por eso que cuando nos topemos con un tipo de dato `obj` tenemos que ser cuidadosos y no asumir automáticamente que el tipo de dato incluido son `strings`."
   ]
  },
  {
   "cell_type": "markdown",
   "metadata": {},
   "source": [
    "Podemos crear `Series` con un índice personalizado, por ejemplo, en lugar de iniciar con 0, podemos iniciar con 1 como el mundo manda, para ello se usa la forma:\n",
    "\n",
    "    pd.Series(-lista-, index=-lista de índices-)"
   ]
  },
  {
   "cell_type": "markdown",
   "metadata": {},
   "source": [
    "Vamos a crear una Serie usando la lista `[4, 7, 9, 8]` y como índices la lista `[1, 2, 3, 4]` y el resultado lo guardamos en la variable `serie_2`:"
   ]
  },
  {
   "cell_type": "code",
   "execution_count": null,
   "metadata": {},
   "outputs": [],
   "source": [
    "...\n",
    "\n",
    "serie_2"
   ]
  },
  {
   "cell_type": "markdown",
   "metadata": {},
   "source": [
    "O podemos usar la función `range(a, b)` que nos permite crear series de números enteros iniciando en `a` y terminando en `b-1`, así que la misma `serie_2` se puede usar de la siguiente forma:"
   ]
  },
  {
   "cell_type": "code",
   "execution_count": null,
   "metadata": {},
   "outputs": [],
   "source": [
    "...\n",
    "\n",
    "serie_2"
   ]
  },
  {
   "cell_type": "markdown",
   "metadata": {},
   "source": [
    "Incluso podemos usar `strings` en el índice, por ejemplo vamos a crear una serie en con los números `[5, 8, 7, 2]` y con índices `[\"a\", \"b\", \"c\", \"d\"]` y el resultado asignarlos a la variable `serie_3`:"
   ]
  },
  {
   "cell_type": "code",
   "execution_count": null,
   "metadata": {},
   "outputs": [],
   "source": [
    "...\n",
    "\n",
    "serie_3"
   ]
  },
  {
   "cell_type": "markdown",
   "metadata": {},
   "source": [
    "Debido a su similitud, podemos incluso crear `Series` usando `diccionarios` y para ello se usa la forma:\n",
    "\n",
    "    pd.Series(-diccionario-)\n",
    "    \n",
    "aquí las llaves pasan a ser nuestro índice."
   ]
  },
  {
   "cell_type": "markdown",
   "metadata": {},
   "source": [
    "Vamos a usar el siguiente diccionario de edades para crear una nueva Serie y asignarla a la variable `series_4`:"
   ]
  },
  {
   "cell_type": "code",
   "execution_count": null,
   "metadata": {},
   "outputs": [],
   "source": [
    "datos = {\n",
    "    \"Juan\": 45,\n",
    "    \"Pepe\": 56,\n",
    "    \"Alfonsina\": 12,\n",
    "    \"Jenny\": 49,\n",
    "    \"Marco P.\": 12\n",
    "}"
   ]
  },
  {
   "cell_type": "code",
   "execution_count": null,
   "metadata": {},
   "outputs": [],
   "source": [
    "...\n",
    "\n",
    "serie_4"
   ]
  },
  {
   "cell_type": "markdown",
   "metadata": {},
   "source": [
    "Al igual que en las listas, podemos acceder a nuestros datos usando los corchetes cuadrados (`[indice]`) y colocando el índice entre ellos, por ejemplo para obtener el primer elemento de la `serie_1` usamos el índice `0`:"
   ]
  },
  {
   "cell_type": "code",
   "execution_count": null,
   "metadata": {},
   "outputs": [],
   "source": [
    "..."
   ]
  },
  {
   "cell_type": "markdown",
   "metadata": {},
   "source": [
    "Para obtener el último, no es posible usar `-1` como el caso de listas, así que en su caso se pueden contar los números de elementos con la función `len()` y considerando que en la `serie_1` los índices van de `0` a `4` entonces a la longitud hay que restar uno quedando el índice como `len(serie_1) - 1`, así podemos obtener el último elemento:"
   ]
  },
  {
   "cell_type": "code",
   "execution_count": null,
   "metadata": {},
   "outputs": [],
   "source": [
    "..."
   ]
  },
  {
   "cell_type": "markdown",
   "metadata": {},
   "source": [
    "Sin embargo, las series tienen su propia forma de acceder a los elementos, y es por medio de la propiedad `loc[-indice-]`, por ejemplo para obtener el último elemento de la `serie_2` sería:"
   ]
  },
  {
   "cell_type": "code",
   "execution_count": null,
   "metadata": {},
   "outputs": [],
   "source": [
    "..."
   ]
  },
  {
   "cell_type": "markdown",
   "metadata": {},
   "source": [
    "Nota, que no ha sido necesario restar `1` ¿porqué?"
   ]
  },
  {
   "cell_type": "markdown",
   "metadata": {},
   "source": [
    "También podemos usar también `strings`, vamos a obtener el primero elemento de la `serie_3`:"
   ]
  },
  {
   "cell_type": "code",
   "execution_count": null,
   "metadata": {},
   "outputs": [],
   "source": [
    "..."
   ]
  },
  {
   "cell_type": "markdown",
   "metadata": {},
   "source": [
    "Y si queremos el último elemento de la `serie_4`:"
   ]
  },
  {
   "cell_type": "code",
   "execution_count": null,
   "metadata": {},
   "outputs": [],
   "source": [
    "..."
   ]
  },
  {
   "cell_type": "markdown",
   "metadata": {},
   "source": [
    "Otra forma usando `serie_4.index` esto es un tipo `Index` de Pandas, pero es muy similar a una lista, así que podemos usar toda la potencia de Python:"
   ]
  },
  {
   "cell_type": "code",
   "execution_count": null,
   "metadata": {},
   "outputs": [],
   "source": [
    "serie_4.loc[...]"
   ]
  },
  {
   "cell_type": "markdown",
   "metadata": {},
   "source": [
    "¿porqué se puede hacer lo anterior?"
   ]
  },
  {
   "cell_type": "markdown",
   "metadata": {},
   "source": [
    "O para obtener la edad de `Pepe` usando la `serie_4` y `loc[]` sería:"
   ]
  },
  {
   "cell_type": "code",
   "execution_count": null,
   "metadata": {},
   "outputs": [],
   "source": [
    "..."
   ]
  },
  {
   "cell_type": "markdown",
   "metadata": {},
   "source": [
    "Los índices en **Pandas** son super poderosos, ya que también podemos usar listas de índices o rángos de índices según nos convenga, la forma es la siguiente:\n",
    "\n",
    "    serie.loc[-una lista de índices-]\n",
    "    o\n",
    "    serie.loc[-índice inicial-:-índice final-]\n",
    "    \n",
    "y no importa si los índices son numéricos o de cadena, por ejemeplo vamos a obtener los elementos `d` y `b` (en éste órden) de la `serie_3`:"
   ]
  },
  {
   "cell_type": "code",
   "execution_count": null,
   "metadata": {},
   "outputs": [],
   "source": [
    "serie_3.loc[ [...] ]"
   ]
  },
  {
   "cell_type": "markdown",
   "metadata": {},
   "source": [
    "Y para indicar rangos, por ejemplo queremos obtener las edades desde el inicio hasta `Alfonsina` de la `serie_4`, para eso sólo indicamos el índice final `serie.loc[:-índice final]`:"
   ]
  },
  {
   "cell_type": "code",
   "execution_count": null,
   "metadata": {},
   "outputs": [],
   "source": [
    "serie_4.loc[ ... ]"
   ]
  },
  {
   "cell_type": "markdown",
   "metadata": {},
   "source": [
    "Aquí una lista de las popsibles combinaciones y sus resultados:\n",
    "\n",
    "- `serie.loc[a:b]`  todos los elementos desde el índice `a` hasta el índice `b` incluyendo ambos índices.\n",
    "- `serie.loc[:b]`  todos los elementos desde el primer elemento de la serie hasta el índice `b`.\n",
    "- `serie.loc[a:]`  todos los elementos desde el índice `a` hasta el último elemento de la serie.\n",
    "    "
   ]
  },
  {
   "cell_type": "markdown",
   "metadata": {},
   "source": [
    "¡Vayamos a nuestro Reto!"
   ]
  },
  {
   "cell_type": "markdown",
   "metadata": {},
   "source": [
    "---\n",
    "---\n",
    "## Reto 2: Series\n",
    "\n",
    "### 1. Objetivos:\n",
    "    - Practicar la creación de `Series` y la indexación básica de éstas\n",
    " \n",
    "### 2. Desarrollo:"
   ]
  },
  {
   "cell_type": "markdown",
   "metadata": {},
   "source": [
    "#### a) Creación de `Series`\n",
    "\n",
    "A continuación tenemos unas variables que contienen los nombres y los sueldos de los ejecutivos más importantes de nuestra ya conocida EyePoker Inc. Debajo, hay una variable `sueldos` que no ha sido asignada aún:"
   ]
  },
  {
   "cell_type": "code",
   "execution_count": null,
   "metadata": {},
   "outputs": [],
   "source": [
    "ejecutivo_1 = ['Marco P.', 15_000]\n",
    "ejecutivo_2 = ['Jenny', 20_000]\n",
    "ejecutivo_3 = ['Britney Baby', 32_000]\n",
    "ejecutivo_4 = ['Pepe Guardabosques', 12_000]\n",
    "ejecutivo_5 = ['Lombardo El Destructor', 13_500]\n",
    "\n",
    "sueldos = ...\n",
    "sueldos"
   ]
  },
  {
   "cell_type": "markdown",
   "metadata": {},
   "source": [
    "Tu tarea es crear una `Serie` de `pandas` y asignarla a la variable `sueldos`. Los **datos** de la serie serán los sueldos de los ejecutivos y tienes que hacer uso de las variables de cada ejecutivo, e **índice** de la serie serán los nombres de los ejecutivos y también tiene que crear una lista haciendo uso de las variables.\n",
    "\n",
    "> Si lo crees necesario crea una variable para los datos y otra para los índices\n",
    "\n",
    "Realiza los ajustes necesarios de manera que el código que tenemos debajo funcione correctamente:"
   ]
  },
  {
   "cell_type": "code",
   "execution_count": null,
   "metadata": {},
   "outputs": [],
   "source": [
    "titulo = '== Sueldos de los principales ejecutivos de EyePoker Inc. =='\n",
    "print_linea = lambda: print(\"-\" * len(titulo))\n",
    "f = lambda sueldo: f\"{sueldo}\" if type(sueldo) == str else f\"${sueldo:.2f} MNX\"\n",
    "print_fila = lambda ejecutivo, sueldo: print(f\"{ejecutivo:25} | {f(sueldo)}\")\n",
    "\n",
    "print(titulo)\n",
    "print_linea()\n",
    "print_fila(\"Ejecutivo\", \"Sueldo\")\n",
    "print_linea()\n",
    "for i in sueldos.index:\n",
    "    print_fila(i, sueldos.loc[i])\n",
    "print_linea()"
   ]
  },
  {
   "cell_type": "markdown",
   "metadata": {},
   "source": [
    "#### b) Indexación de `Series`\n",
    "\n",
    "Tenemos una `Serie` que contiene los gastos mensuales totales (en MXN) de distintas divisiones de EyePoker Inc. Tú eres el Contador Oficial y tienes que obtener subconjuntos de datos que sirvan para agregar los gastos totales de diferentes combinaciones de divisiones.\n",
    "\n",
    "Los datos son los siguientes:"
   ]
  },
  {
   "cell_type": "code",
   "execution_count": null,
   "metadata": {},
   "outputs": [],
   "source": [
    "import pandas as pd\n",
    "\n",
    "gastos_mensuales = {\n",
    "    'A': 15000,\n",
    "    'B': 200000,\n",
    "    'C': 3250000,\n",
    "    'D': 120000,\n",
    "    'E': 135000,\n",
    "    'F': 55000,\n",
    "    'G': 100000,\n",
    "    'H': 25000\n",
    "}\n",
    "\n",
    "gastos_serie = pd.Series(gastos_mensuales)\n",
    "gastos_serie"
   ]
  },
  {
   "cell_type": "markdown",
   "metadata": {},
   "source": [
    "El índice es el nombre de la división y los valores son los gastos mensuales en MXN.\n",
    "\n",
    "Indexando la serie `gastos_serie` extrae las combinaciones de divisiones que se indican debajo para poder hacer los cálculos necesarios. Modifica el código según sea necesario."
   ]
  },
  {
   "cell_type": "code",
   "execution_count": null,
   "metadata": {},
   "outputs": [],
   "source": [
    "# Los gastos de la división 'D' y 'G'\n",
    "gastos_D_G = gastos_serie\n",
    "\n",
    "# Los gastos de la división 'A' y 'E'\n",
    "gastos_A_E = gastos_serie\n",
    "\n",
    "# Los gastos de la división 'B', 'F' y 'H'\n",
    "gastos_B_F_H = gastos_serie\n",
    "\n",
    "# Los gastos desde la primera división hasta la división 'E'\n",
    "gastos_principio_a_E = gastos_serie\n",
    "\n",
    "# Los gastos desde la división 'D' hasta la 'G'\n",
    "gastos_D_a_G = gastos_serie\n",
    "\n",
    "# Los gastos desde la división 'C' hasta el la última división\n",
    "gastos_C_a_final = gastos_serie"
   ]
  },
  {
   "cell_type": "markdown",
   "metadata": {},
   "source": [
    "Y a continuación la celda de validación ..."
   ]
  },
  {
   "cell_type": "code",
   "execution_count": null,
   "metadata": {},
   "outputs": [],
   "source": [
    "def formatear_precio(precio):\n",
    "    return f\"${precio} MXN\"\n",
    "    \n",
    "def revisar_indexacion(esperada, recibida, nombre):\n",
    "    es_correcta = 'Correcta' if esperada.equals(recibida) else 'Incorrecta'\n",
    "    suma_esperada = formatear_precio(sum(esperada))\n",
    "    suma_recibida = formatear_precio(sum(recibida))\n",
    "    print(f\"{nombre:30} | {es_correcta:15} | {suma_esperada:15} | {suma_recibida:15}\")\n",
    "    \n",
    "def revisar_indexaciones(gastos_serie, gastos_D_G, gastos_A_E, gastos_B_F_H,\n",
    "                         gastos_principio_a_E, gastos_D_a_G, gastos_C_a_final):\n",
    "    datos = [[68, 71], [65, 69], [66, 70, 72], 69, 68, 71, 67]\n",
    "    datos = [chr(x) if type(x) == int else [chr(y) for y in x] for x in datos]\n",
    "    print(f'== Revisión de Indexaciones ==\\n')\n",
    "    print(f\"{'Indexación':30} | {'Resultado':15} | {'Suma esperada ':15} | {'Suma recibida ':15}\")\n",
    "    print(\"-\"*85)\n",
    "    revisar_indexacion(gastos_serie.loc[datos[0]], gastos_D_G, 'División D y G')\n",
    "    revisar_indexacion(gastos_serie.loc[datos[1]], gastos_A_E, 'División A y E')\n",
    "    revisar_indexacion(gastos_serie.loc[datos[2]], gastos_B_F_H, 'División B, F y H')\n",
    "    revisar_indexacion(gastos_serie.loc[:datos[3]], gastos_principio_a_E, 'Desde primera División a E')\n",
    "    revisar_indexacion(gastos_serie.loc[datos[4]:datos[5]], gastos_D_a_G, 'División D y G')\n",
    "    revisar_indexacion(gastos_serie.loc[datos[6]:], gastos_C_a_final, 'División C a última División')\n",
    "    \n",
    "revisar_indexaciones(gastos_serie, gastos_D_G, gastos_A_E, gastos_B_F_H,\n",
    "                         gastos_principio_a_E, gastos_D_a_G, gastos_C_a_final)"
   ]
  }
 ],
 "metadata": {
  "kernelspec": {
   "display_name": "Python 3",
   "language": "python",
   "name": "python3"
  },
  "language_info": {
   "codemirror_mode": {
    "name": "ipython",
    "version": 3
   },
   "file_extension": ".py",
   "mimetype": "text/x-python",
   "name": "python",
   "nbconvert_exporter": "python",
   "pygments_lexer": "ipython3",
   "version": "3.7.4"
  }
 },
 "nbformat": 4,
 "nbformat_minor": 4
}
