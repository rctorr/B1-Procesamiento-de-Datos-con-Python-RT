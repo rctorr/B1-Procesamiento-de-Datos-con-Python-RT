{
 "cells": [
  {
   "cell_type": "markdown",
   "metadata": {},
   "source": [
    "## Ejemplo 1: Paquetes\n",
    "\n",
    "### 1. Objetivos:\n",
    "    - Aprender la sintaxis de la importación de paquetes para utilizarla a lo largo del módulo\n",
    " \n",
    "---\n",
    "    \n",
    "### 2. Desarrollo:"
   ]
  },
  {
   "cell_type": "markdown",
   "metadata": {},
   "source": [
    "Antes de importar paquetes hay que instalarlos en nuestra computadora. Esto se puede hacer de dos maneras:\n",
    "\n",
    "1. Yendo a nuestra terminal y usando el comando `pip install nombre_del_paquete`\n",
    "2. Corriendo código como el siguiente desde nuestro Jupyter Notebook ejecutando el mismo comando, pero anteponiendo un símbolo de `!`."
   ]
  },
  {
   "cell_type": "markdown",
   "metadata": {},
   "source": [
    "Vayamos instalar nuestro paquete `Pandas`, para buscar o consultar éste o cualquier otro paquete disponible para Python puedes dar un vistazo al sitio [PyPi](https://pypi.org).\n",
    "\n",
    "Entonces el comando a ejecutar en la siguiente celda es el siguiente:\n",
    "\n",
    "`!pip install pandas`"
   ]
  },
  {
   "cell_type": "code",
   "execution_count": null,
   "metadata": {},
   "outputs": [],
   "source": [
    "..."
   ]
  },
  {
   "cell_type": "markdown",
   "metadata": {},
   "source": [
    "Una vez terminada la instalación, podemos importarlo con:\n",
    "\n",
    "    import pandas\n",
    "    \n",
    "o como lo importan en Ciencia de Datos:\n",
    "\n",
    "    import pandas as pd"
   ]
  },
  {
   "cell_type": "code",
   "execution_count": null,
   "metadata": {},
   "outputs": [],
   "source": [
    "..."
   ]
  },
  {
   "cell_type": "markdown",
   "metadata": {},
   "source": [
    "La última forma de importarlo es una forma de asignarle un \"alias\" al nombre del paquete, de manera que haya que escribir menos para usarlo."
   ]
  },
  {
   "cell_type": "markdown",
   "metadata": {},
   "source": [
    "Para usar un módulo incluido en un paquete, basta con usar la sintaxis:\n",
    "\n",
    "`nombre_de_paquete.nombre_de_modulo`.\n",
    "\n",
    "En esta sesión usaremos las siguientes dos clases de `pandas` para crear dos nuevos tipos de datos, las Series y los DataFrames.\n",
    "\n",
    "Ejecutamos los comando siguientes, sólo para validar que `pandas` ha sido instalado correctamente:\n",
    "\n",
    "    pd.Series\n",
    "    pd.Dataframe\n"
   ]
  },
  {
   "cell_type": "code",
   "execution_count": null,
   "metadata": {},
   "outputs": [],
   "source": [
    "..."
   ]
  },
  {
   "cell_type": "code",
   "execution_count": null,
   "metadata": {},
   "outputs": [],
   "source": [
    "..."
   ]
  }
 ],
 "metadata": {
  "kernelspec": {
   "display_name": "Python 3",
   "language": "python",
   "name": "python3"
  },
  "language_info": {
   "codemirror_mode": {
    "name": "ipython",
    "version": 3
   },
   "file_extension": ".py",
   "mimetype": "text/x-python",
   "name": "python",
   "nbconvert_exporter": "python",
   "pygments_lexer": "ipython3",
   "version": "3.7.4"
  }
 },
 "nbformat": 4,
 "nbformat_minor": 4
}
