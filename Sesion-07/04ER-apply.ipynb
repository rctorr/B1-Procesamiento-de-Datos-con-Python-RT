{
 "cells": [
  {
   "cell_type": "markdown",
   "metadata": {},
   "source": [
    "## Ejemplo 4: `apply`\n",
    "\n",
    "### 1. Objetivos:\n",
    "    - Usar `apply` para aplicar funciones a `Series` y `DataFrames`\n",
    " \n",
    "---\n",
    "    \n",
    "### 2. Desarrollo:"
   ]
  },
  {
   "cell_type": "code",
   "execution_count": null,
   "metadata": {},
   "outputs": [],
   "source": [
    "import pandas as pd\n",
    "import numpy as np"
   ]
  },
  {
   "cell_type": "markdown",
   "metadata": {},
   "source": [
    "Para éste ejemplo también usamos el archivo `new_york_times_bestsellers-dirty.csv` porque vamos a aplicar una tranformación diferente a los mismos datos:"
   ]
  },
  {
   "cell_type": "code",
   "execution_count": null,
   "metadata": {},
   "outputs": [],
   "source": [
    "df = pd.read_csv('../../Datasets/new_york_times_bestsellers-dirty.csv', index_col=0)\n",
    "df.head(3)"
   ]
  },
  {
   "cell_type": "markdown",
   "metadata": {},
   "source": [
    "Podemos aplicar funciones con uno o más parámetros a nuestras `Series` con el método `apply`, así que vamos a convertir la fecha de la columna `published_date.numberLong` que está dado en milisegundos en formato Epoc o Timestamp a sólo tener el año de publicación, recuerda usar:\n",
    "\n",
    "`pd.to_datetime(-valor-, unit=\"ms\")`"
   ]
  },
  {
   "cell_type": "code",
   "execution_count": null,
   "metadata": {},
   "outputs": [],
   "source": [
    "def anio_de_publicacion(valor):\n",
    "    \"\"\" obtener el año desde la fecha epoc \"\"\"\n",
    "    pass"
   ]
  },
  {
   "cell_type": "code",
   "execution_count": null,
   "metadata": {},
   "outputs": [],
   "source": [
    "df['published_date.numberLong'].apply(anio_de_publicacion)"
   ]
  },
  {
   "cell_type": "markdown",
   "metadata": {},
   "source": [
    "O esta otra, obtener la semanas en listas, pero en porcentaje en base al máximo, en este caso necesitamos pasar un valor adiciona a la función y se realiza de la forma:\n",
    "\n",
    "`df[-columna-].apply(-función-, args=(-máximo de la columna-, ...) )`\n",
    "\n",
    "primero creamos nuestra función:"
   ]
  },
  {
   "cell_type": "code",
   "execution_count": null,
   "metadata": {},
   "outputs": [],
   "source": [
    "def semanas_en_porcentaje(valor, maximo):\n",
    "    \"\"\" Regresar el porcentaje en relación a maximo \"\"\"\n",
    "    pass"
   ]
  },
  {
   "cell_type": "markdown",
   "metadata": {},
   "source": [
    "Y lo aplicamos a la columna `weeks_on_list.numberInt`, pero también necesitamos el valor máximo de esta columna, que lo podemos obtener con `serie.max()`, entonces la función `apply()` queda como sigue:"
   ]
  },
  {
   "cell_type": "code",
   "execution_count": null,
   "metadata": {},
   "outputs": [],
   "source": [
    "df['weeks_on_list.numberInt'].apply(...)"
   ]
  },
  {
   "cell_type": "markdown",
   "metadata": {},
   "source": [
    "---\n",
    "---"
   ]
  },
  {
   "cell_type": "markdown",
   "metadata": {},
   "source": [
    "## Reto 4: Apply\n",
    "\n",
    "### 1. Objetivos:\n",
    "    - Practicar el uso del método `apply` para obtener columnas nuevas a partir de columnas existentes\n",
    "    \n",
    "### 2. Desarrollo:"
   ]
  },
  {
   "cell_type": "markdown",
   "metadata": {},
   "source": [
    "#### a) Obteniendo columnas nuevas a partir de existentes\n",
    "\n",
    "Vamos a trabajar con el dataset que guardaste de tu Reto anterior. Esta vez tu Reto es el siguiente:\n",
    "\n",
    "1. Crea una función que reciba un valor (en este caso el diámetro en metros de un objeto espacial) y regrese la proporción de ese valor en comparación con el diámetro de la Tierra. El diámetro de la Tierra es de 12,742 km. Así que el diámetro de un objeto que mida 10000 metros corresponde a un valor de 0.00078 en proporción al diámetro de la Tierra.\n",
    "2. Usa la columna 'estimated_diameter.meters.estimated_diameter_max', aplícale la función usando `apply` y crea una nueva columna llamada `proportion_of_max_diameter_to_earth` que deberá de ser de tipo `float64` y deberá contener valores entre 0 y 1 ya que es una proporción.\n",
    "3. Asigna el resultado a la variable `df_reto_4`.\n",
    "4. Guarda tu conjunto de datos en un archivo .csv."
   ]
  },
  {
   "cell_type": "code",
   "execution_count": null,
   "metadata": {},
   "outputs": [],
   "source": [
    "df_reto_4 = pd.read_csv(\"../Ejemplo-03/objetos_cercanos_3.csv\", index_col=0)\n",
    "df_reto_4.head(3)"
   ]
  },
  {
   "cell_type": "code",
   "execution_count": null,
   "metadata": {},
   "outputs": [],
   "source": [
    "def proporcion_vs_tierra(valor):\n",
    "    \"\"\" Regresa la proporción de valor con respecto a la Tierra \"\"\"\n",
    "    ...\n",
    "    \n",
    "    return proporcion"
   ]
  },
  {
   "cell_type": "code",
   "execution_count": null,
   "metadata": {},
   "outputs": [],
   "source": [
    "df_reto_4[\"proportion_of_max_diameter_to_earth\"] = ...\n",
    "df_reto_4[\"proportion_of_max_diameter_to_earth\"]"
   ]
  },
  {
   "cell_type": "code",
   "execution_count": null,
   "metadata": {},
   "outputs": [],
   "source": [
    "# guarda en el archivo objetos_cercanos_4.csv"
   ]
  },
  {
   "cell_type": "markdown",
   "metadata": {},
   "source": [
    "La celda de validación nuevamente te ayudará a darte pautas para saber si tus resultados van por buen camino!"
   ]
  },
  {
   "cell_type": "code",
   "execution_count": null,
   "metadata": {},
   "outputs": [],
   "source": [
    "def revisar_aplicacion(df):\n",
    "    \n",
    "    assert 'proportion_of_max_diameter_to_earth' in df, 'No existe una columna llamada \"proportion_of_max_diameter_to_earth\" en el DataFrame'\n",
    "    assert df['proportion_of_max_diameter_to_earth'].equals(df['estimated_diameter.meters.estimated_diameter_max'] / 12742000), 'La transformacion no fue realizada adecuadamente'\n",
    "    \n",
    "    print(f'La transformación y creación de una nueva columna fue realizada exitosamente!')\n",
    "\n",
    "revisar_aplicacion(df_reto_4)"
   ]
  }
 ],
 "metadata": {
  "kernelspec": {
   "display_name": "Python 3",
   "language": "python",
   "name": "python3"
  },
  "language_info": {
   "codemirror_mode": {
    "name": "ipython",
    "version": 3
   },
   "file_extension": ".py",
   "mimetype": "text/x-python",
   "name": "python",
   "nbconvert_exporter": "python",
   "pygments_lexer": "ipython3",
   "version": "3.7.4"
  }
 },
 "nbformat": 4,
 "nbformat_minor": 4
}
