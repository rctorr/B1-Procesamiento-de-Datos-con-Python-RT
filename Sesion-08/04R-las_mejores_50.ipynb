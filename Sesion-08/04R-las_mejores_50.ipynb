{
 "cells": [
  {
   "cell_type": "markdown",
   "metadata": {},
   "source": [
    "## Reto 4: Las mejores 50\n",
    "\n",
    "### 1. Objetivos:\n",
    "    - Practicar las siguientes herramientas:\n",
    "        - Lectura de .csv\n",
    "        - Agrupaciones y reducciones\n",
    "        - Reordenamiento\n",
    "        - Unión de `DataFrames` usando `merge`\n",
    "    \n",
    "---\n",
    "    \n",
    "### 2. Desarrollo:"
   ]
  },
  {
   "cell_type": "markdown",
   "metadata": {},
   "source": [
    "#### a) Las 50 películas con mejor rating\n",
    "\n",
    "Vamos a hacer una visualización muy sencilla de las 50 películas que tienen mejor rating en nuestro dataset. Tu Reto consiste en seguir los siguientes pasos:\n",
    "\n",
    "1. Lee los archivos `movies` y `ratings`.\n",
    "2. Agrupa `ratings` por id de película y computa el promedio de `rating` para cada película\n",
    "3. Crea un nuevo `DataFrame` que sólo contenga las 50 películas con mejor promedio de ratings\n",
    "4. Agrega al `DataFrame` anterior los nombres de las películas usando la tabla `movies`.\n",
    "5. Al final tendrás un `DataFrame` con los nombres de las 50 películas con mejor rating ('title') y el promedio de sus ratings ('rating'). Asigna este resultado a la variable `las_mejores_50`."
   ]
  },
  {
   "cell_type": "code",
   "execution_count": null,
   "metadata": {},
   "outputs": [],
   "source": [
    "...\n",
    "\n",
    "las_mejores_50 ="
   ]
  },
  {
   "cell_type": "markdown",
   "metadata": {},
   "source": [
    "La celda de validación lo que hará es realizar una gráfica de barras mostrando el nombre de la película y el rating promedio, no olvides comparar tus resultados ..."
   ]
  },
  {
   "cell_type": "code",
   "execution_count": null,
   "metadata": {},
   "outputs": [],
   "source": [
    "def plotting_best_50(las_mejores_50):\n",
    "    import seaborn as sns\n",
    "    import matplotlib.pyplot as plt\n",
    "    \n",
    "    fig, ax = plt.subplots(figsize=(10, 20))\n",
    "    ax.set_title('Top 50 Movies with Best Ratings')\n",
    "    splot = sns.barplot(las_mejores_50['rating'], las_mejores_50['title'], ax=ax)\n",
    "    ax.set(xlabel='Rating', ylabel='Movie Title')\n",
    "    \n",
    "plotting_best_50(las_mejores_50)"
   ]
  }
 ],
 "metadata": {
  "kernelspec": {
   "display_name": "Python 3",
   "language": "python",
   "name": "python3"
  },
  "language_info": {
   "codemirror_mode": {
    "name": "ipython",
    "version": 3
   },
   "file_extension": ".py",
   "mimetype": "text/x-python",
   "name": "python",
   "nbconvert_exporter": "python",
   "pygments_lexer": "ipython3",
   "version": "3.7.4"
  }
 },
 "nbformat": 4,
 "nbformat_minor": 4
}
