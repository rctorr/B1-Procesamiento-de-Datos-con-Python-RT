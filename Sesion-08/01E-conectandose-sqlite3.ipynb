{
 "cells": [
  {
   "cell_type": "markdown",
   "metadata": {},
   "source": [
    "## Ejemplo 1: Conectándose a una base de datos\n",
    "\n",
    "### 1. Objetivos:\n",
    "    - Usar un conector de python para conectarse a una base de datos.\n",
    " \n",
    "### 2. Desarrollo:"
   ]
  },
  {
   "cell_type": "markdown",
   "metadata": {},
   "source": [
    "#### a) Realizar una conexión y obtener un índice o cursor\n",
    "\n",
    "Para conectarnos necesitamos primero importar el módulo o paquete para la base de datos en particular, en este caso SQLite3 y el módulo se llama `sqlite3`, así que importamos el módulo:"
   ]
  },
  {
   "cell_type": "code",
   "execution_count": null,
   "metadata": {},
   "outputs": [],
   "source": [
    "..."
   ]
  },
  {
   "cell_type": "markdown",
   "metadata": {},
   "source": [
    "Para una conexión a SQLite necesitamos saber el nombre del archivo de la base de datos, algo como `mi_datos.sqlite3`.\n",
    "\n",
    "Para una conexión MySQL, Postgres, Oracle u otras necesitamos conocer las siguiente información:\n",
    "\n",
    "1. Host (localhost, 127.0.0.1, servidor.dominio.com)\n",
    "2. Puerto (3306 u otro)\n",
    "3. Usuario (fulanito)\n",
    "4. Contraseña (tiamida)\n",
    "5. Nombre de la base de datos (camino_al_exito)\n",
    "\n",
    "Todos esos datos los usamos para crear una conexión usando para ello la siguiente función del módulo `sqlite3`:\n",
    "\n",
    "`sqlite3.connect(-nombre de la base de datos-)`\n",
    "\n",
    "entonces vamos a realizar una conexión a la base de datos SQLite3 llamada `movielens.sqlite3`:"
   ]
  },
  {
   "cell_type": "code",
   "execution_count": null,
   "metadata": {},
   "outputs": [],
   "source": [
    "conn = \n",
    "\n",
    "conn"
   ]
  },
  {
   "cell_type": "markdown",
   "metadata": {},
   "source": [
    "Ahora, para poder realizar modificaciones o consultas a nuestra base de datos, tenemos que crear un objeto llamado índice o `cursor` usando:\n",
    "\n",
    "`mi_conexion.cursor()`"
   ]
  },
  {
   "cell_type": "code",
   "execution_count": null,
   "metadata": {},
   "outputs": [],
   "source": [
    "cur = \n",
    "\n",
    "cur"
   ]
  },
  {
   "cell_type": "markdown",
   "metadata": {},
   "source": [
    "Éste objeto lo podemos usar para realizar cualquier consulta en lenguaje SQL. Por ejemplo, veamos qué tablas existen en nuestra base de datos ejecutando consultas SQL usando:\n",
    "\n",
    "`mi_cursor.execute(-sql-)`\n",
    "\n",
    "Nota: En el caso de SQLite3, para obtener la lista de tablas se puede hacer uso de la instrucción SQL:\n",
    "\n",
    "`SELECT name FROM sqlite_master WHERE type='table';`\n",
    "\n",
    "en el caso de MariaDB o MySQL se podría usar:\n",
    "\n",
    "`SHOW TABLES;`\n",
    "\n",
    "entonces ejecutemos la instrucción:"
   ]
  },
  {
   "cell_type": "code",
   "execution_count": null,
   "metadata": {},
   "outputs": [],
   "source": [
    "cur. ..."
   ]
  },
  {
   "cell_type": "markdown",
   "metadata": {},
   "source": [
    "Después de ejecutar el comando, tenemos que extraer la información con la función:\n",
    "\n",
    "`mi_cursor.fetch()` o\n",
    "`mi_cursor.fetchall()`"
   ]
  },
  {
   "cell_type": "code",
   "execution_count": null,
   "metadata": {},
   "outputs": [],
   "source": [
    "resultados = ...\n",
    "\n",
    "resultados"
   ]
  },
  {
   "cell_type": "markdown",
   "metadata": {},
   "source": [
    "Listo, ahora sabemos que tenemos 5 tablas en nuestra base de datos!"
   ]
  },
  {
   "cell_type": "markdown",
   "metadata": {},
   "source": [
    "Por último, es importante cerrar nuestro `cursor` y conexión a la base de datos para no utilizar memoria extra en nuestra computadora:\n",
    "\n",
    "`mi_cursor.close()` y\n",
    "`mi_conexion.close()`"
   ]
  },
  {
   "cell_type": "code",
   "execution_count": null,
   "metadata": {},
   "outputs": [],
   "source": [
    "..."
   ]
  },
  {
   "cell_type": "code",
   "execution_count": null,
   "metadata": {},
   "outputs": [],
   "source": [
    "..."
   ]
  }
 ],
 "metadata": {
  "kernelspec": {
   "display_name": "Python 3",
   "language": "python",
   "name": "python3"
  },
  "language_info": {
   "codemirror_mode": {
    "name": "ipython",
    "version": 3
   },
   "file_extension": ".py",
   "mimetype": "text/x-python",
   "name": "python",
   "nbconvert_exporter": "python",
   "pygments_lexer": "ipython3",
   "version": "3.7.4"
  }
 },
 "nbformat": 4,
 "nbformat_minor": 4
}
